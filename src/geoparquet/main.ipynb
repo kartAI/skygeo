{
 "cells": [
  {
   "cell_type": "markdown",
   "id": "741ac6c0",
   "metadata": {},
   "source": [
    "# Konvertering av N50 Vektor til GeoParquet\n",
    "\n",
    "## 1. Last ned N50 Kartdata\n",
    "\n",
    "![Geonorge N50](img/geonorge-n50.png)\n",
    "\n",
    "Vektordata kan fritt lastes ned fra kartkatalogen.geonorge.no, du finner N50 [Her](https://kartkatalog.geonorge.no/metadata/n50-kartdata/ea192681-d039-42ec-b1bc-f3ce04c189ac)\n",
    "\n",
    "Til denne demoen brukes:\n",
    "- `Hele landet`\n",
    "- `UTM 33`\n",
    "- `FGBD`\n",
    "\n",
    "![Geonorge Last ned](img/geonorge-lastned.png)\n",
    "\n",
    "Du får en zip fil når du laster ned, pakk ut denne i `src/geoparquet`. Git er satt opp til å ikke tracke `.gdb` mapper."
   ]
  },
  {
   "cell_type": "code",
   "execution_count": null,
   "id": "a33bd355",
   "metadata": {},
   "outputs": [],
   "source": [
    "import os\n",
    "import geopandas as gpd\n",
    "from pathlib import Path\n",
    "from utils import get_workdir\n",
    "\n",
    "path = get_workdir() / Path(\"Basisdata_0000_Norge_25833_N50Kartdata_FGDB.gdb\")\n",
    "n50_df = gpd.read_file(path)\n",
    "n50_df.head()"
   ]
  },
  {
   "cell_type": "code",
   "execution_count": null,
   "id": "904596fa",
   "metadata": {},
   "outputs": [],
   "source": [
    "\n",
    "n50_df.to_parquet(\"N50.snappy.parquet\")"
   ]
  }
 ],
 "metadata": {
  "kernelspec": {
   "display_name": ".venv",
   "language": "python",
   "name": "python3"
  },
  "language_info": {
   "codemirror_mode": {
    "name": "ipython",
    "version": 3
   },
   "file_extension": ".py",
   "mimetype": "text/x-python",
   "name": "python",
   "nbconvert_exporter": "python",
   "pygments_lexer": "ipython3",
   "version": "3.12.3"
  }
 },
 "nbformat": 4,
 "nbformat_minor": 5
}
