{
 "cells": [
  {
   "cell_type": "markdown",
   "id": "741ac6c0",
   "metadata": {},
   "source": [
    "# Konvertering av N50 Vektor til GeoParquet\n",
    "\n",
    "## 1. Last ned N50 Kartdata\n",
    "\n",
    "![Geonorge N50](img/geonorge-n50.png)\n",
    "\n",
    "Vektordata kan fritt lastes ned fra kartkatalogen.geonorge.no, du finner N50 [Her](https://kartkatalog.geonorge.no/metadata/n50-kartdata/ea192681-d039-42ec-b1bc-f3ce04c189ac)\n",
    "\n",
    "Til denne demoen brukes:\n",
    "- `Hele landet`\n",
    "- `UTM 33`\n",
    "- `FGBD`\n",
    "\n",
    "![Geonorge Last ned](img/geonorge-lastned.png)\n",
    "\n",
    "Du får en zip fil når du laster ned, pakk ut denne i `src/geoparquet`. Git er satt opp til å ikke tracke `.gdb` mapper."
   ]
  },
  {
   "cell_type": "code",
   "execution_count": null,
   "id": "a33bd355",
   "metadata": {},
   "outputs": [],
   "source": [
    "# import packages\n",
    "import fiona\n",
    "import geopandas as gpd\n",
    "from pathlib import Path\n",
    "\n",
    "import utils"
   ]
  },
  {
   "cell_type": "markdown",
   "id": "5fe2aff2",
   "metadata": {},
   "source": [
    "## Data input\n",
    "\n",
    "Starter med å lese ut alle lagene som finnes i `.gdb` filen."
   ]
  },
  {
   "cell_type": "code",
   "execution_count": null,
   "id": "6c44ede7",
   "metadata": {},
   "outputs": [],
   "source": [
    "# Leser alle lagene fra.gdb filen\n",
    "path = utils.get_workdir() / Path(\"Basisdata_0000_Norge_25833_N50Kartdata_FGDB.gdb\")\n",
    "layers = fiona.listlayers(path)\n",
    "print(layers)"
   ]
  },
  {
   "cell_type": "markdown",
   "id": "7e513de8",
   "metadata": {},
   "source": [
    "## Parquet produksjon\n",
    "\n",
    "For hvert lag produseres en parquet fil i `/out` mappen."
   ]
  },
  {
   "cell_type": "code",
   "execution_count": null,
   "id": "6b8ca077",
   "metadata": {},
   "outputs": [],
   "source": [
    "# Oppretter /out mappen\n",
    "utils.create_dir(\"out\")\n",
    "# Leser hvert lag fra .gdb filen og skriver til geoparquet\n",
    "for layer in layers:\n",
    "    try:\n",
    "        n50_df = gpd.read_file(path, layer=layer)\n",
    "        n50_df.to_parquet(\n",
    "            path=f\"out/{layer}.snappy.parquet\",\n",
    "            compression=\"snappy\",\n",
    "            geometry_encoding=\"WKB\",\n",
    "            write_covering_bbox=True,\n",
    "        )\n",
    "    except Exception as e:\n",
    "        print(f\"Failed to load layer: {layer} with error: {e}\")"
   ]
  },
  {
   "cell_type": "markdown",
   "id": "9174bb62",
   "metadata": {},
   "source": [
    "## Setter fil og bbox"
   ]
  },
  {
   "cell_type": "code",
   "execution_count": null,
   "id": "95a33dd0",
   "metadata": {},
   "outputs": [],
   "source": [
    "file_path = 'out/N50_Samferdsel_senterlinje.snappy.parquet'\n",
    "# file_path = 'out/N50_Arealdekke_omrade.snappy.parquet'\n",
    "xmin = 82100\n",
    "xmax = 96000\n",
    "ymin = 6461800\n",
    "ymax = 6470500"
   ]
  },
  {
   "cell_type": "markdown",
   "id": "4b6e392c",
   "metadata": {},
   "source": [
    "## Initialiserer en DuckDB database i minne\n",
    "\n",
    "Credit: https://github.com/Norkart/syntaks-2025/blob/main/parquet-create.ipynb"
   ]
  },
  {
   "cell_type": "code",
   "execution_count": null,
   "id": "ed4b00ae",
   "metadata": {},
   "outputs": [],
   "source": [
    "import duckdb\n",
    "\n",
    "# Connect to DuckDB\n",
    "con = duckdb.connect(database=':memory:')\n",
    "\n",
    "# Load the necessary extensions\n",
    "con.execute(\"INSTALL spatial;\")\n",
    "con.execute(\"LOAD spatial;\")\n",
    "\n",
    "con.execute(\"INSTALL httpfs;\")\n",
    "con.execute(\"LOAD httpfs;\")\n",
    "\n"
   ]
  },
  {
   "cell_type": "markdown",
   "id": "f2fbdd52",
   "metadata": {},
   "source": [
    "## Leser ut metadata"
   ]
  },
  {
   "cell_type": "code",
   "execution_count": null,
   "id": "c8c8586b",
   "metadata": {},
   "outputs": [],
   "source": [
    "query = f\"\"\"\n",
    "SELECT *\n",
    "FROM parquet_metadata('{file_path}')\n",
    "\"\"\"\n",
    "result = con.query(query).to_df()\n",
    "result"
   ]
  },
  {
   "cell_type": "markdown",
   "id": "3810201f",
   "metadata": {},
   "source": [
    "## Leser schema"
   ]
  },
  {
   "cell_type": "code",
   "execution_count": null,
   "id": "0623451d",
   "metadata": {},
   "outputs": [],
   "source": [
    "\n",
    "query = f\"\"\"\n",
    "SELECT *\n",
    "FROM parquet_schema('{file_path}')\n",
    "\"\"\"\n",
    "result = con.query(query).to_df()\n",
    "result"
   ]
  },
  {
   "cell_type": "markdown",
   "id": "732bc025",
   "metadata": {},
   "source": [
    "## Leser vektordata"
   ]
  },
  {
   "cell_type": "code",
   "execution_count": null,
   "id": "6416c7df",
   "metadata": {},
   "outputs": [],
   "source": [
    "query = f\"\"\"\n",
    "SELECT *\n",
    "FROM read_parquet('{file_path}')\n",
    "LIMIT 10\n",
    "\"\"\"\n",
    "result = con.query(query).to_df()\n",
    "result"
   ]
  },
  {
   "cell_type": "markdown",
   "id": "2570cbb0",
   "metadata": {},
   "source": [
    "## Leser vektor data i bounding box"
   ]
  },
  {
   "cell_type": "code",
   "execution_count": null,
   "id": "e9fe6930",
   "metadata": {},
   "outputs": [],
   "source": [
    "query = f\"\"\"\n",
    "SELECT *\n",
    "FROM read_parquet('{file_path}')\n",
    "WHERE bbox.xmin BETWEEN {xmin} AND {xmax}\n",
    "AND bbox.ymin BETWEEN {ymin} AND {ymax}\n",
    "LIMIT 10;\n",
    "\"\"\"\n",
    "result = con.query(query).to_df()\n",
    "result"
   ]
  },
  {
   "cell_type": "markdown",
   "id": "38470b35",
   "metadata": {},
   "source": [
    "## Simulerer netverksfil med å hoste i docker via nginx\n",
    "\n",
    "```bash\n",
    "# from src/geoparquet/\n",
    "docker build -t out-nginx .\n",
    "docker run --name s3-nginx -d -p 8000:80 out-nginx:latest\n",
    "```"
   ]
  },
  {
   "cell_type": "code",
   "execution_count": null,
   "id": "e78ab606",
   "metadata": {},
   "outputs": [],
   "source": [
    "\n",
    "query = f\"\"\"\n",
    "SELECT *\n",
    "FROM read_parquet('http://localhost:8000/N50_Samferdsel_senterlinje.snappy.parquet')\n",
    "WHERE bbox.xmin BETWEEN {xmin} AND {xmax}\n",
    "AND bbox.ymin BETWEEN {ymin} AND {ymax}\n",
    "LIMIT 10\n",
    "\"\"\"\n",
    "result = con.query(query).to_df()\n",
    "result"
   ]
  },
  {
   "cell_type": "markdown",
   "id": "707943a4",
   "metadata": {},
   "source": [
    "## Viser data på interaktivt kart"
   ]
  },
  {
   "cell_type": "code",
   "execution_count": null,
   "id": "1e6409a7",
   "metadata": {},
   "outputs": [],
   "source": [
    "kristiansand = gpd.read_parquet(\n",
    "    path=file_path,\n",
    "    bbox=(xmin, ymin, xmax, ymax)\n",
    ")\n",
    "kristiansand.explore()"
   ]
  }
 ],
 "metadata": {
  "kernelspec": {
   "display_name": ".venv",
   "language": "python",
   "name": "python3"
  },
  "language_info": {
   "codemirror_mode": {
    "name": "ipython",
    "version": 3
   },
   "file_extension": ".py",
   "mimetype": "text/x-python",
   "name": "python",
   "nbconvert_exporter": "python",
   "pygments_lexer": "ipython3",
   "version": "3.12.3"
  }
 },
 "nbformat": 4,
 "nbformat_minor": 5
}
