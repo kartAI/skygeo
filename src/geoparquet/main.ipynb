{
 "cells": [
  {
   "cell_type": "markdown",
   "id": "741ac6c0",
   "metadata": {},
   "source": [
    "# Konvertering av N50 Vektor til GeoParquet\n",
    "\n",
    "## 1. Last ned N50 Kartdata\n",
    "\n",
    "![Geonorge N50](img/geonorge-n50.png)\n",
    "\n",
    "Vektordata kan fritt lastes ned fra kartkatalogen.geonorge.no, du finner N50 [Her](https://kartkatalog.geonorge.no/metadata/n50-kartdata/ea192681-d039-42ec-b1bc-f3ce04c189ac)\n",
    "\n",
    "Til denne demoen brukes:\n",
    "- `Hele landet`\n",
    "- `UTM 33`\n",
    "- `FGBD`\n",
    "\n",
    "![Geonorge Last ned](img/geonorge-lastned.png)\n",
    "\n",
    "Du får en zip fil når du laster ned, pakk ut denne i `src/geoparquet`. Git er satt opp til å ikke tracke `.gdb` mapper."
   ]
  },
  {
   "cell_type": "code",
   "execution_count": null,
   "id": "a33bd355",
   "metadata": {},
   "outputs": [],
   "source": [
    "# import packages\n",
    "import fiona\n",
    "import geopandas as gpd\n",
    "from pathlib import Path\n",
    "\n",
    "import utils"
   ]
  },
  {
   "cell_type": "markdown",
   "id": "5fe2aff2",
   "metadata": {},
   "source": [
    "## Data input\n",
    "\n",
    "Starter med å lese ut alle lagene som finnes i `.gdb` filen."
   ]
  },
  {
   "cell_type": "code",
   "execution_count": null,
   "id": "6c44ede7",
   "metadata": {},
   "outputs": [],
   "source": [
    "# Leser alle lagene fra.gdb filen\n",
    "path = utils.get_workdir() / Path(\"Basisdata_0000_Norge_25833_N50Kartdata_FGDB.gdb\")\n",
    "layers = fiona.listlayers(path)\n",
    "print(layers)"
   ]
  },
  {
   "cell_type": "markdown",
   "id": "7e513de8",
   "metadata": {},
   "source": [
    "## Parquet produksjon\n",
    "\n",
    "For hvert lag produseres en parquet fil i `/out` mappen."
   ]
  },
  {
   "cell_type": "code",
   "execution_count": null,
   "id": "6b8ca077",
   "metadata": {},
   "outputs": [],
   "source": [
    "# Oppretter /out mappen\n",
    "utils.create_dir(\"out\")\n",
    "# Leser hvert lag fra .gdb filen og skriver til geoparquet\n",
    "for layer in layers:\n",
    "    try:\n",
    "        n50_df = gpd.read_file(path, layer=layer)\n",
    "        n50_df.to_parquet(f\"out/{layer}.snappy.parquet\")\n",
    "    except Exception as e:\n",
    "        print(f\"Failed to load layer: {layer} with error: {e}\")"
   ]
  }
 ],
 "metadata": {
  "kernelspec": {
   "display_name": ".venv",
   "language": "python",
   "name": "python3"
  },
  "language_info": {
   "codemirror_mode": {
    "name": "ipython",
    "version": 3
   },
   "file_extension": ".py",
   "mimetype": "text/x-python",
   "name": "python",
   "nbconvert_exporter": "python",
   "pygments_lexer": "ipython3",
   "version": "3.12.3"
  }
 },
 "nbformat": 4,
 "nbformat_minor": 5
}
