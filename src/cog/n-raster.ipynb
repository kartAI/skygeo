{
 "cells": [
  {
   "cell_type": "markdown",
   "id": "840e8886",
   "metadata": {},
   "source": [
    "# N-raster\n",
    "\n",
    "Denne notebook-en viser hvordan man kan laste ned en GeoTIFF fra N-serien, for så å konvertere den til COG.copyright\n",
    "\n",
    "Eksempelet bruker `Basisdata_3_Celle_25833_N1000Raster_TIFF`, siden denne kun dekker en liten bit av Norge og der mesteparten er hav. Størrelsen er ca. 4.7 Mb.\n",
    "\n",
    "![Basisdata_3_Celle_25833_N1000Raster_TIFF](img/bilde-av-liten-geotiff.png)\n",
    "\n",
    "En liten utfordring med N-serien er at NODATA er satt til RGB `255,255,252`. MapServer kan filtrere NODATA med en unik verdi i hvert fargebånd, mens det virker som om QGIS helst vil ha en verdi, som den bruker på alle båndene. Siden bildene er 8-bit, må en av fargene ofres for NODATA. Dette er som oftest helt svart (`0,0,0`) eller helt hvit (`255,255,255`).\n",
    "\n",
    "I dette eksempelet erstatter jeg alle verdier som har `0` med `1` og så setter jeg NODATA til `0`."
   ]
  },
  {
   "cell_type": "markdown",
   "id": "dc358161",
   "metadata": {},
   "source": [
    "## Last ned fra Geonorge\n",
    "\n",
    "Geonorge legger neste alle distribuerte filer i et zip-arkiv. Last ned filen og pakk ut GeoTIFF."
   ]
  },
  {
   "cell_type": "code",
   "execution_count": 8,
   "id": "2916eb7a",
   "metadata": {},
   "outputs": [],
   "source": [
    "from urllib.request import urlretrieve\n",
    "from zipfile import ZipFile\n",
    "\n",
    "urlretrieve(\n",
    "    url=\"https://nedlasting.geonorge.no/geonorge/Basisdata/N1000Raster/TIFF/Basisdata_3_Celle_25833_N1000Raster_TIFF.zip\",\n",
    "    filename=\"./data/raster.zip\",\n",
    ")\n",
    "\n",
    "with ZipFile(\"./data/raster.zip\", \"r\") as zf:\n",
    "    zf.extract(\"33_N1000raster_3.tif\", \"./data\")"
   ]
  },
  {
   "cell_type": "markdown",
   "id": "daf6d8a8",
   "metadata": {},
   "source": [
    "## Konverter til COG\n",
    "\n",
    "I dette eksempelet tar jeg en kopi av \"profile\", slik at vi beholder filens originale innstillinger. Men jeg endrer \"driver\" til å være \"COG\". NODATA settes til `0`."
   ]
  },
  {
   "cell_type": "code",
   "execution_count": 10,
   "id": "0d4579c3",
   "metadata": {},
   "outputs": [],
   "source": [
    "import numpy as np\n",
    "import rasterio\n",
    "\n",
    "with rasterio.open(\"./data/33_N1000raster_3.tif\") as src:\n",
    "    data: np.ndarray = src.read()\n",
    "    profile: dict = src.profile.copy()\n",
    "\n",
    "profile[\"driver\"] = \"COG\"\n",
    "profile[\"nodata\"] = 0\n",
    "\n",
    "mask = np.zeros(src.shape, int)\n",
    "\n",
    "# Rødt bånd - NODATA: 255\n",
    "mask = np.where(data[0] == 255, mask + 1, mask)\n",
    "\n",
    "# Grønt bånd - NODATA: 255\n",
    "mask = np.where(data[1] == 255, mask + 1, mask)\n",
    "\n",
    "# Blått bånd - NODATA: 252\n",
    "mask = np.where(data[2] == 252, mask + 1, mask)\n",
    "\n",
    "# Endre alle verdier som er `0` til `1`\n",
    "data[data == 0] = 1\n",
    "\n",
    "# Dersom alle bånd hadde sin respektive NODATA, settes verdien til `0`\n",
    "data = np.where(mask == 3, 0, data)\n",
    "\n",
    "with rasterio.open(\"./data/cog.tif\", \"w\", **profile) as f:\n",
    "    f.write(data)"
   ]
  }
 ],
 "metadata": {
  "kernelspec": {
   "display_name": ".venv",
   "language": "python",
   "name": "python3"
  },
  "language_info": {
   "codemirror_mode": {
    "name": "ipython",
    "version": 3
   },
   "file_extension": ".py",
   "mimetype": "text/x-python",
   "name": "python",
   "nbconvert_exporter": "python",
   "pygments_lexer": "ipython3",
   "version": "3.12.10"
  }
 },
 "nbformat": 4,
 "nbformat_minor": 5
}
