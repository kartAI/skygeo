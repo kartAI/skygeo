{
 "cells": [
  {
   "cell_type": "markdown",
   "id": "568792ce",
   "metadata": {},
   "source": [
    "# GEBCO\n",
    "\n",
    "Denne notebooken er en POC for å laste ned data fra Gebco og klargjøre den for nye Topo."
   ]
  },
  {
   "cell_type": "code",
   "execution_count": null,
   "id": "e9ee7b56",
   "metadata": {},
   "outputs": [],
   "source": [
    "%pip install numpy pyproj rasterio rio-cogeo shapely"
   ]
  },
  {
   "cell_type": "code",
   "execution_count": 93,
   "id": "7b246932",
   "metadata": {},
   "outputs": [],
   "source": [
    "import json\n",
    "from pathlib import Path\n",
    "from urllib.request import urlretrieve\n",
    "\n",
    "import numpy as np\n",
    "from pyproj import CRS\n",
    "import rasterio\n",
    "from rasterio.mask import mask\n",
    "from rasterio.merge import merge\n",
    "from rasterio.warp import calculate_default_transform, reproject, Resampling\n",
    "from rasterio.windows import Window\n",
    "from rio_cogeo.cogeo import cog_translate\n",
    "from rio_cogeo.profiles import cog_profiles\n",
    "import shapely\n",
    "\n",
    "crs = CRS.from_epsg(25833)\n",
    "extent = [-666159.0, 6178074.0, 1275452.0, 9531579.0]\n",
    "\n",
    "data_dir = Path(\"data\", \"gebco\")\n",
    "data_dir.mkdir(parents=True, exist_ok=True)\n",
    "\n",
    "gebco_theme = \"sub_ice_topography_bathymetry\"\n",
    "gebco_files = [\n",
    "    data_dir / \"gebco_2025_sub_ice_n90.0_s0.0_w-90.0_e0.0.tif\",\n",
    "    data_dir / \"gebco_2025_sub_ice_n90.0_s0.0_w0.0_e90.0.tif\",\n",
    "]\n",
    "\n",
    "merge_file = data_dir / \"1_merge.tif\"\n",
    "crop_file = data_dir / \"2_crop.tif\"\n",
    "warp_file = data_dir / \"3_warp.tif\"\n",
    "mask_file = data_dir / \"4_mask.tif\"\n",
    "change_file = data_dir / \"5_change.tif\"\n",
    "cog_file = data_dir / \"6_cog.tif\""
   ]
  },
  {
   "cell_type": "markdown",
   "id": "8a7418c1",
   "metadata": {},
   "source": [
    "## Last ned Gebco-filer\n",
    "\n",
    "Last ned de relevante filene fra Gebco.\n",
    "\n",
    "*TODO: Bruke extent til å definere hvilke filer man skal laste ned.*"
   ]
  },
  {
   "cell_type": "code",
   "execution_count": 73,
   "id": "417d0760",
   "metadata": {},
   "outputs": [
    {
     "name": "stdout",
     "output_type": "stream",
     "text": [
      "File gebco_2025_sub_ice_n90.0_s0.0_w-90.0_e0.0.tif already exists\n",
      "File gebco_2025_sub_ice_n90.0_s0.0_w0.0_e90.0.tif already exists\n"
     ]
    }
   ],
   "source": [
    "for gebco_file in gebco_files:\n",
    "    if gebco_file.exists():\n",
    "        print(f\"File {gebco_file.name} already exists\")\n",
    "        continue\n",
    "\n",
    "    print(f\"Downloading {gebco_file.name}\")\n",
    "    gebco_url = f\"https://dap.ceda.ac.uk/bodc/gebco/global/gebco_2025/{gebco_theme}/geotiff/{gebco_file.name}?download=1\"\n",
    "    \n",
    "    urlretrieve(gebco_url, gebco_file)"
   ]
  },
  {
   "cell_type": "markdown",
   "id": "ccbd5a35",
   "metadata": {},
   "source": [
    "## Lagre *bbox* som GeoJSON\n",
    "\n",
    "Lagre *bbox*, i UTM 33, som GeoJSON. Kan brukes til å validere at resultatet har korrekt utstrekning i f.eks. QGIS."
   ]
  },
  {
   "cell_type": "code",
   "execution_count": 74,
   "id": "df26b302",
   "metadata": {},
   "outputs": [],
   "source": [
    "bbox = shapely.box(*extent)\n",
    "\n",
    "with data_dir.joinpath(\"bbox.json\").open(\"w\") as fp:\n",
    "    json.dump({\n",
    "        \"crs\": {\n",
    "            \"properties\": {\n",
    "                \"name\": crs.to_string(),\n",
    "            },\n",
    "            \"type\": \"name\",\n",
    "        },\n",
    "        \"geometry\": shapely.geometry.mapping(bbox),\n",
    "        \"properties\": {},\n",
    "        \"type\": \"Feature\",\n",
    "    }, fp, indent=4)"
   ]
  },
  {
   "cell_type": "markdown",
   "id": "19f16d43",
   "metadata": {},
   "source": [
    "## Slå sammen Gebco-filer\n",
    "\n",
    "For å få sømløse koblinger mellom filene, før de reprojiseres, kan vi slå de sammen først."
   ]
  },
  {
   "cell_type": "code",
   "execution_count": 76,
   "id": "1ec75672",
   "metadata": {},
   "outputs": [],
   "source": [
    "img, transform = merge(gebco_files)\n",
    "\n",
    "with rasterio.open(gebco_files[0]) as src:\n",
    "    meta: dict = src.meta.copy()\n",
    "    meta.update({\n",
    "        \"driver\": \"GTiff\",\n",
    "        \"height\": img.shape[1],\n",
    "        \"width\": img.shape[2],\n",
    "        \"transform\": transform,\n",
    "    })\n",
    "\n",
    "with rasterio.open(merge_file, \"w\", **meta) as dst:\n",
    "    dst.write(img)"
   ]
  },
  {
   "cell_type": "markdown",
   "id": "62017764",
   "metadata": {},
   "source": [
    "## Beskjær bildet\n",
    "\n",
    "For å gjøre senere prosessering raskere, kan vi beskjære bildet basert på piksler.\n",
    "\n",
    "Ettersom reprojisering \"skviser\" bildene jo lenger nord man kommer, må vi ta med en god del mer informasjon for å kunne få til en \"firkantet\" maske.\n",
    "\n",
    "*TODO: Regne ut pikselverdier basert på utstrekning.*"
   ]
  },
  {
   "cell_type": "code",
   "execution_count": 80,
   "id": "9e2d535d",
   "metadata": {},
   "outputs": [],
   "source": [
    "with rasterio.open(merge_file) as src:\n",
    "    window = Window(8_000, 0, 32_000, 9_000)\n",
    "    transform = src.window_transform(window)\n",
    "    profile: dict = src.profile.copy()\n",
    "    profile.update({\n",
    "        \"height\": window.height,\n",
    "        \"transform\": transform,\n",
    "        \"width\": window.width,\n",
    "    })\n",
    "    img = src.read(window=window)\n",
    "    with rasterio.open(crop_file, \"w\", **profile) as dst:\n",
    "        dst.write(img)"
   ]
  },
  {
   "cell_type": "markdown",
   "id": "39391281",
   "metadata": {},
   "source": [
    "## Reprojiser bildet\n",
    "\n",
    "Reprojiser til UTM 33."
   ]
  },
  {
   "cell_type": "code",
   "execution_count": 84,
   "id": "32c16685",
   "metadata": {},
   "outputs": [],
   "source": [
    "with rasterio.open(crop_file) as src:\n",
    "    transform, width, height = calculate_default_transform(src.crs, crs, src.width, src.height, *src.bounds)\n",
    "    meta: dict = src.meta.copy()\n",
    "    meta.update({\n",
    "        \"crs\": crs,\n",
    "        \"transform\": transform,\n",
    "        \"width\": width,\n",
    "        \"height\": height\n",
    "    })\n",
    "    with rasterio.open(warp_file, \"w\", **meta) as dst:\n",
    "        for i in range(1, src.count + 1):\n",
    "            reproject(\n",
    "                source=rasterio.band(src, i),\n",
    "                destination=rasterio.band(dst, i),\n",
    "                src_transform=src.transform,\n",
    "                src_crs=src.crs,\n",
    "                dst_transform=transform,\n",
    "                dst_crs=crs,\n",
    "                resampling=Resampling.nearest,\n",
    "            )"
   ]
  },
  {
   "cell_type": "markdown",
   "id": "0f0094a6",
   "metadata": {},
   "source": [
    "## Masker bildet til utstrekning\n",
    "\n",
    "Bruk faktisk utstrekning til å maskere bildet."
   ]
  },
  {
   "cell_type": "code",
   "execution_count": 86,
   "id": "ac02ea2b",
   "metadata": {},
   "outputs": [],
   "source": [
    "shapes = [shapely.box(*extent)]\n",
    "\n",
    "with rasterio.open(warp_file) as src:\n",
    "    img, transform = mask(src, shapes, crop=True)\n",
    "    meta: dict = src.meta.copy()\n",
    "    meta.update({\n",
    "        \"height\": img.shape[1],\n",
    "        \"width\": img.shape[2],\n",
    "        \"transform\": transform,\n",
    "    })\n",
    "    with rasterio.open(mask_file, \"w\", **meta) as dst:\n",
    "        dst.write(img)"
   ]
  },
  {
   "cell_type": "markdown",
   "id": "82f9b676",
   "metadata": {},
   "source": [
    "## Endre verdier i bildet\n",
    "\n",
    "Ignorer elevasjonsverdiene over havnivået med å endre aller verdier som er høyere enn `0` til `1`."
   ]
  },
  {
   "cell_type": "code",
   "execution_count": 91,
   "id": "ed67a39a",
   "metadata": {},
   "outputs": [],
   "source": [
    "with rasterio.open(mask_file) as src:\n",
    "    meta: dict = src.meta.copy()\n",
    "    img = src.read()\n",
    "    np.place(img, img > 0, 1)\n",
    "    with rasterio.open(change_file, \"w\", **meta) as dst:\n",
    "        dst.write(img)"
   ]
  },
  {
   "cell_type": "markdown",
   "id": "20525ad8",
   "metadata": {},
   "source": [
    "## Gjør bildet om til en COG!"
   ]
  },
  {
   "cell_type": "code",
   "execution_count": 92,
   "id": "ad5abe52",
   "metadata": {},
   "outputs": [
    {
     "name": "stderr",
     "output_type": "stream",
     "text": [
      "Reading input: data\\gebco\\5_change.tif\n",
      "\n"
     ]
    },
    {
     "name": "stderr",
     "output_type": "stream",
     "text": [
      "Adding overviews...\n",
      "Updating dataset tags...\n",
      "Writing output to: data\\gebco\\6_cog.tif\n"
     ]
    }
   ],
   "source": [
    "cog_translate(change_file, cog_file, cog_profiles.get(\"lzw\"))"
   ]
  }
 ],
 "metadata": {
  "kernelspec": {
   "display_name": ".venv (3.12.10)",
   "language": "python",
   "name": "python3"
  },
  "language_info": {
   "codemirror_mode": {
    "name": "ipython",
    "version": 3
   },
   "file_extension": ".py",
   "mimetype": "text/x-python",
   "name": "python",
   "nbconvert_exporter": "python",
   "pygments_lexer": "ipython3",
   "version": "3.12.10"
  }
 },
 "nbformat": 4,
 "nbformat_minor": 5
}
