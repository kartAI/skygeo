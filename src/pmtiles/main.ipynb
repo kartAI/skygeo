{
 "cells": [
  {
   "cell_type": "markdown",
   "id": "96e2458f",
   "metadata": {},
   "source": [
    "# PM Tiles demo\n",
    "\n",
    "Denne notebooken er ment å vise frem kapabilitetene i PM Tiles formatet."
   ]
  },
  {
   "cell_type": "markdown",
   "id": "b52feed5",
   "metadata": {},
   "source": [
    "## Systemkrav\n",
    "\n",
    "Demoen krever noen verktøy som ikke kan håndteres isolert i et python miljø,\n",
    "for at dette skal være så portabelt som mulig er det lagt opp til å bruke Docker\n",
    "til å håndtere miljøet for disse verktøyene.\n",
    "\n",
    "Blokken under sjekker at Docker og Docker-compose er installert på vertssystemet."
   ]
  },
  {
   "cell_type": "code",
   "execution_count": 1,
   "id": "217cbca0",
   "metadata": {},
   "outputs": [],
   "source": [
    "import subprocess\n",
    "from typing import List\n",
    "\n",
    "def execute_command(cmd: List[str], **kwargs):\n",
    "    return subprocess.run(\n",
    "        cmd,\n",
    "        capture_output=True,\n",
    "        text=True,\n",
    "        **kwargs\n",
    "    )\n",
    "\n",
    "system_requirements = [\n",
    "    [\"docker-compose\", \"--version\"],\n",
    "    [\"docker\", \"--version\"],\n",
    "]\n",
    "\n",
    "for requirement in system_requirements:\n",
    "    assert execute_command(requirement, check=False).returncode == 0, f\"System requirement {requirement} is not satisfied\""
   ]
  },
  {
   "cell_type": "markdown",
   "id": "f302ce0f",
   "metadata": {},
   "source": [
    "## Input data\n"
   ]
  },
  {
   "cell_type": "markdown",
   "id": "0770ddf1",
   "metadata": {},
   "source": [
    "\n",
    "### Raster\n",
    "\n",
    "\n",
    "![nedlasting](../../public/img/geonorge-n50-raster-krs.png)\n",
    "\n",
    "Last ned filen som vist over, pakk ut og flytt .tif filen til `raster/data/N50_raster_2024.tif`\n"
   ]
  },
  {
   "cell_type": "markdown",
   "id": "0ee076e4",
   "metadata": {},
   "source": [
    "### Vektor \n",
    "\n",
    "![nedlasting](../../public/img/geonorge-n50-vektor-agder.png)\n",
    "\n",
    "Last ned filen som vist over, pakk ut og flytt .gdb filen til `vector/data/N50_vektor_agder.gdb`"
   ]
  },
  {
   "cell_type": "markdown",
   "id": "7d073ea1",
   "metadata": {},
   "source": [
    "Først sjekker vi at input filene finnes som forventet."
   ]
  },
  {
   "cell_type": "code",
   "execution_count": 22,
   "id": "36f61a0f",
   "metadata": {},
   "outputs": [],
   "source": [
    "import utils\n",
    "\n",
    "assert utils.path_exists(\"raster/data/N50_raster_2024.tif\"), f\"Mangler inputfil raster/data/N50_raster_2024.tif\"\n",
    "assert utils.path_exists(\"vector/data/N50_vektor_agder.gdb\"), f\"Mangler inputfil vector/data/N50_vektor_agder.gdb\""
   ]
  },
  {
   "cell_type": "markdown",
   "id": "cec8dd11",
   "metadata": {},
   "source": [
    "## Konverterer raster data"
   ]
  },
  {
   "cell_type": "markdown",
   "id": "9b2a2ddb",
   "metadata": {},
   "source": [
    "Merk at her brukes python komandolinjeverktøyet `rio-pmtiles` som installeres via requirements.txt filen.\n",
    "\n",
    "```bash\n",
    "# Etter at virtuelt python miljø er aktivert.\n",
    "pip install -r requirements.txt\n",
    "```"
   ]
  },
  {
   "cell_type": "code",
   "execution_count": 3,
   "id": "9a935dcb",
   "metadata": {},
   "outputs": [
    {
     "name": "stdout",
     "output_type": "stream",
     "text": [
      "Directory 'raster/out' created successfully.\n"
     ]
    }
   ],
   "source": [
    "# Oppretter mappe for output\n",
    "utils.create_dir(\"raster/out\")\n"
   ]
  },
  {
   "cell_type": "code",
   "execution_count": 4,
   "id": "7b154fab",
   "metadata": {},
   "outputs": [
    {
     "name": "stdout",
     "output_type": "stream",
     "text": [
      "100%|██████████████████████████████████████| 1425/1425 [00:12<00:00, 116.45it/s]\n"
     ]
    }
   ],
   "source": [
    "# Genererer pmtiles\n",
    "!rio pmtiles raster/data/N50_raster_2024.tif raster/out/N50_raster_2024.pmtiles --format PNG"
   ]
  },
  {
   "cell_type": "markdown",
   "id": "f20c4209",
   "metadata": {},
   "source": [
    "## Konverterer vektor data"
   ]
  },
  {
   "cell_type": "code",
   "execution_count": 5,
   "id": "9a5ed2d1",
   "metadata": {},
   "outputs": [
    {
     "name": "stdout",
     "output_type": "stream",
     "text": [
      "Directory 'vector/out' created successfully.\n"
     ]
    }
   ],
   "source": [
    "# Oppretter mappe for output\n",
    "utils.create_dir(\"vector/out\")"
   ]
  },
  {
   "cell_type": "markdown",
   "id": "701aac9f",
   "metadata": {},
   "source": [
    "### Dockerfil\n",
    "\n",
    "For at demoen skal være relativt portabel skjer selve transformasjonen fra gdb til pmtiles\n",
    "i en docker container gjennom en rekke transformasjoner ved hjelp av flere verktøy.\n",
    "\n",
    "Format transformasjon:\n",
    "\n",
    "gdb => geojson => mbtiles => pmtiles\n",
    "\n",
    "Verktøy:\n",
    "\n",
    "- ogr2ogr: Konverterer gdb til geojson (gdal)\n",
    "- tippecanoe: Konverterer geojson til mbtiles\n",
    "- pmtiles: Konverterer mbtiles til pmtiles\n",
    "\n",
    "\n",
    "Det er mulig å kombinere flere lag i samme .pmtiles fil, men ved bruk av `vector/build.sh` scriptet fungerte\n",
    "ikke dette helt som forventet. Lagene blir opprettet, men ved lavere zoom ser ikke kartet pent ut. Videreutvikling\n",
    "oppfordres."
   ]
  },
  {
   "cell_type": "code",
   "execution_count": 6,
   "id": "a065f0b0",
   "metadata": {},
   "outputs": [
    {
     "name": "stdout",
     "output_type": "stream",
     "text": [
      "\u001b[1A\u001b[1B\u001b[0G\u001b[?25l[+] Building 0.0s (0/1)                                          docker:default\n",
      "\u001b[?25h\u001b[1A\u001b[0G\u001b[?25l[+] Building 0.2s (1/2)                                          docker:default\n",
      "\u001b[34m => [internal] load build definition from Dockerfile                       0.0s\n",
      "\u001b[0m\u001b[34m => => transferring dockerfile: 953B                                       0.0s\n",
      "\u001b[0m => [internal] load metadata for docker.io/library/ubuntu:latest           0.2s\n",
      "\u001b[?25h\u001b[1A\u001b[1A\u001b[1A\u001b[1A\u001b[0G\u001b[?25l[+] Building 0.3s (1/2)                                          docker:default\n",
      "\u001b[34m => [internal] load build definition from Dockerfile                       0.0s\n",
      "\u001b[0m\u001b[34m => => transferring dockerfile: 953B                                       0.0s\n",
      "\u001b[0m => [internal] load metadata for docker.io/library/ubuntu:latest           0.3s\n",
      "\u001b[?25h\u001b[1A\u001b[1A\u001b[1A\u001b[1A\u001b[0G\u001b[?25l[+] Building 0.5s (1/2)                                          docker:default\n",
      "\u001b[34m => [internal] load build definition from Dockerfile                       0.0s\n",
      "\u001b[0m\u001b[34m => => transferring dockerfile: 953B                                       0.0s\n",
      "\u001b[0m => [internal] load metadata for docker.io/library/ubuntu:latest           0.5s\n",
      "\u001b[?25h\u001b[1A\u001b[1A\u001b[1A\u001b[1A\u001b[0G\u001b[?25l[+] Building 0.6s (1/2)                                          docker:default\n",
      "\u001b[34m => [internal] load build definition from Dockerfile                       0.0s\n",
      "\u001b[0m\u001b[34m => => transferring dockerfile: 953B                                       0.0s\n",
      "\u001b[0m => [internal] load metadata for docker.io/library/ubuntu:latest           0.6s\n",
      "\u001b[?25h\u001b[1A\u001b[1A\u001b[1A\u001b[1A\u001b[0G\u001b[?25l[+] Building 0.8s (1/2)                                          docker:default\n",
      "\u001b[34m => [internal] load build definition from Dockerfile                       0.0s\n",
      "\u001b[0m\u001b[34m => => transferring dockerfile: 953B                                       0.0s\n",
      "\u001b[0m => [internal] load metadata for docker.io/library/ubuntu:latest           0.8s\n",
      "\u001b[?25h\u001b[1A\u001b[1A\u001b[1A\u001b[1A\u001b[0G\u001b[?25l[+] Building 0.9s (1/2)                                          docker:default\n",
      "\u001b[34m => [internal] load build definition from Dockerfile                       0.0s\n",
      "\u001b[0m\u001b[34m => => transferring dockerfile: 953B                                       0.0s\n",
      "\u001b[0m => [internal] load metadata for docker.io/library/ubuntu:latest           0.9s\n",
      "\u001b[?25h\u001b[1A\u001b[1A\u001b[1A\u001b[1A\u001b[0G\u001b[?25l[+] Building 1.1s (1/2)                                          docker:default\n",
      "\u001b[34m => [internal] load build definition from Dockerfile                       0.0s\n",
      "\u001b[0m\u001b[34m => => transferring dockerfile: 953B                                       0.0s\n",
      "\u001b[0m => [internal] load metadata for docker.io/library/ubuntu:latest           1.1s\n",
      "\u001b[?25h\u001b[1A\u001b[1A\u001b[1A\u001b[1A\u001b[0G\u001b[?25l[+] Building 1.2s (1/2)                                          docker:default\n",
      "\u001b[34m => [internal] load build definition from Dockerfile                       0.0s\n",
      "\u001b[0m\u001b[34m => => transferring dockerfile: 953B                                       0.0s\n",
      "\u001b[0m => [internal] load metadata for docker.io/library/ubuntu:latest           1.2s\n",
      "\u001b[?25h\u001b[1A\u001b[1A\u001b[1A\u001b[1A\u001b[0G\u001b[?25l[+] Building 1.4s (1/2)                                          docker:default\n",
      "\u001b[34m => [internal] load build definition from Dockerfile                       0.0s\n",
      "\u001b[0m\u001b[34m => => transferring dockerfile: 953B                                       0.0s\n",
      "\u001b[0m => [internal] load metadata for docker.io/library/ubuntu:latest           1.4s\n",
      "\u001b[?25h\u001b[1A\u001b[1A\u001b[1A\u001b[1A\u001b[0G\u001b[?25l[+] Building 1.4s (2/2)                                          docker:default\n",
      "\u001b[34m => [internal] load build definition from Dockerfile                       0.0s\n",
      "\u001b[0m\u001b[34m => => transferring dockerfile: 953B                                       0.0s\n",
      "\u001b[0m\u001b[34m => [internal] load metadata for docker.io/library/ubuntu:latest           1.4s\n",
      "\u001b[0m\u001b[?25h\u001b[1A\u001b[1A\u001b[1A\u001b[1A\u001b[0G\u001b[?25l[+] Building 1.5s (24/24) FINISHED                               docker:default\n",
      "\u001b[34m => [internal] load build definition from Dockerfile                       0.0s\n",
      "\u001b[0m\u001b[34m => => transferring dockerfile: 953B                                       0.0s\n",
      "\u001b[0m\u001b[34m => [internal] load metadata for docker.io/library/ubuntu:latest           1.4s\n",
      "\u001b[0m\u001b[34m => [internal] load .dockerignore                                          0.0s\n",
      "\u001b[0m\u001b[34m => => transferring context: 2B                                            0.0s\n",
      "\u001b[0m\u001b[34m => [ 1/19] FROM docker.io/library/ubuntu:latest@sha256:7c06e91f61fa88c08  0.0s\n",
      "\u001b[0m\u001b[34m => [internal] load build context                                          0.0s\n",
      "\u001b[0m\u001b[34m => => transferring context: 2.86kB                                        0.0s\n",
      "\u001b[0m\u001b[34m => CACHED [ 2/19] RUN apt-get update && apt-get upgrade -y                0.0s\n",
      "\u001b[0m\u001b[34m => CACHED [ 3/19] WORKDIR /app                                            0.0s\n",
      "\u001b[0m\u001b[34m => CACHED [ 4/19] RUN apt-get install -y libgdal-dev gdal-bin             0.0s\n",
      "\u001b[0m\u001b[34m => CACHED [ 5/19] RUN apt-get install git make build-essential libsqlite  0.0s\n",
      "\u001b[0m\u001b[34m => CACHED [ 6/19] RUN git clone https://github.com/mapbox/tippecanoe.git  0.0s\n",
      "\u001b[0m\u001b[34m => CACHED [ 7/19] WORKDIR tippecanoe                                      0.0s\n",
      "\u001b[0m\u001b[34m => CACHED [ 8/19] RUN make -j                                             0.0s\n",
      "\u001b[0m\u001b[34m => CACHED [ 9/19] RUN make install                                        0.0s\n",
      "\u001b[0m\u001b[34m => CACHED [10/19] WORKDIR /app/pmtiles                                    0.0s\n",
      "\u001b[0m\u001b[34m => CACHED [11/19] RUN apt-get install wget                                0.0s\n",
      "\u001b[0m\u001b[34m => CACHED [12/19] RUN wget https://github.com/protomaps/go-pmtiles/relea  0.0s\n",
      "\u001b[0m\u001b[34m => CACHED [13/19] RUN tar -xvzf go-pmtiles_1.28.0_Linux_x86_64.tar.gz     0.0s\n",
      "\u001b[0m\u001b[34m => CACHED [14/19] RUN mv pmtiles /bin/pmtiles                             0.0s\n",
      "\u001b[0m\u001b[34m => CACHED [15/19] WORKDIR /app                                            0.0s\n",
      "\u001b[0m\u001b[34m => CACHED [16/19] COPY vector/gdb_to_pmtiles.sh .                         0.0s\n",
      "\u001b[0m\u001b[34m => CACHED [17/19] COPY vector/all_layers_gdb_to_pmtiles.sh .              0.0s\n",
      "\u001b[0m\u001b[34m => CACHED [18/19] RUN chmod +x gdb_to_pmtiles.sh                          0.0s\n",
      "\u001b[0m\u001b[34m => CACHED [19/19] RUN chmod +x all_layers_gdb_to_pmtiles.sh               0.0s\n",
      "\u001b[0m\u001b[34m => exporting to image                                                     0.0s\n",
      "\u001b[0m\u001b[34m => => exporting layers                                                    0.0s\n",
      "\u001b[0m\u001b[34m => => writing image sha256:76975773dfd1d45e64823fa55ee2f01fca6a8ac38f2ba  0.0s\n",
      "\u001b[0m\u001b[34m => => naming to docker.io/library/pmtiles                                 0.0s\n",
      "\u001b[0m\u001b[?25h"
     ]
    }
   ],
   "source": [
    "# Bygger docker image med gdal, tippecanoe og pmtiles\n",
    "!docker build -t pmtiles -f vector/Dockerfile ."
   ]
  },
  {
   "cell_type": "markdown",
   "id": "03fc48ce",
   "metadata": {},
   "source": [
    "Starter en container for å kunne kopiere lokale filer over til containeren og kjøre konverteringsscriptet\n",
    "i det isolerte miljøet."
   ]
  },
  {
   "cell_type": "code",
   "execution_count": 7,
   "id": "48bf7cb7",
   "metadata": {},
   "outputs": [
    {
     "name": "stdout",
     "output_type": "stream",
     "text": [
      "dae947669be3d333436457ca7e30e13ff0a92aa2e737c6c0138564a9940b2b02\n"
     ]
    }
   ],
   "source": [
    "!docker run --name pmtiles-converter -d pmtiles"
   ]
  },
  {
   "cell_type": "markdown",
   "id": "f185cd5d",
   "metadata": {},
   "source": [
    "Kopierer kildedata inn i containeren."
   ]
  },
  {
   "cell_type": "code",
   "execution_count": 8,
   "id": "c776a2cd",
   "metadata": {},
   "outputs": [
    {
     "name": "stdout",
     "output_type": "stream",
     "text": [
      "Successfully copied 397MB to pmtiles-converter:/app/N50_vektor_agder.gdb\n"
     ]
    }
   ],
   "source": [
    "!docker cp ./vector/data/N50_vektor_agder.gdb pmtiles-converter:/app/N50_vektor_agder.gdb "
   ]
  },
  {
   "cell_type": "markdown",
   "id": "df86617c",
   "metadata": {},
   "source": [
    "Konverterer samferdsel senterlinje laget til pmtiles"
   ]
  },
  {
   "cell_type": "code",
   "execution_count": 9,
   "id": "b8efc688",
   "metadata": {},
   "outputs": [
    {
     "name": "stdout",
     "output_type": "stream",
     "text": [
      "🧩 Converting GDB to GeoJSON...\n",
      "🗺️ Creating MBTiles with tippecanoe...\n",
      "81278 features, 7790042 bytes of geometry, 5943650 bytes of separate metadata, 1645464 bytes of string pool\n",
      "Choosing a maxzoom of -z8 for features about 1074 feet (328 meters) apart\n",
      "Choosing a maxzoom of -z11 for resolution of about 193 feet (59 meters) within features\n",
      "tile 3/4/2 size is 539081 with detail 12, >500000    \n",
      "Going to try keeping the sparsest 83.48% of the features to make it fit\n",
      "tile 3/4/2 size is 522622 with detail 12, >500000    \n",
      "Going to try keeping the sparsest 71.88% of the features to make it fit\n",
      "tile 3/4/2 size is 506124 with detail 12, >500000    \n",
      "Going to try keeping the sparsest 63.91% of the features to make it fit\n",
      "tile 4/8/4 size is 816407 with detail 12, >500000    \n",
      "Going to try keeping the sparsest 55.12% of the features to make it fit\n",
      "tile 4/8/4 size is 644298 with detail 12, >500000    \n",
      "Going to try keeping the sparsest 38.50% of the features to make it fit\n",
      "tile 4/8/4 size is 506758 with detail 12, >500000    \n",
      "Going to try keeping the sparsest 34.19% of the features to make it fit\n",
      "tile 5/16/9 size is 1117813 with detail 12, >500000    \n",
      "Going to try keeping the sparsest 40.26% of the features to make it fit\n",
      "tile 5/16/9 size is 609610 with detail 12, >500000    \n",
      "Going to try keeping the sparsest 29.72% of the features to make it fit\n",
      "tile 6/33/19 size is 1265171 with detail 12, >500000    \n",
      "Going to try keeping the sparsest 35.57% of the features to make it fit\n",
      "tile 6/33/19 size is 560808 with detail 12, >500000    \n",
      "Going to try keeping the sparsest 28.54% of the features to make it fit\n",
      "tile 7/66/38 size is 1088550 with detail 12, >500000    \n",
      "Going to try keeping the sparsest 41.34% of the features to make it fit\n",
      "tile 7/66/38 size is 529924 with detail 12, >500000    \n",
      "Going to try keeping the sparsest 35.10% of the features to make it fit\n",
      "tile 8/133/76 size is 885045 with detail 12, >500000    \n",
      "Going to try keeping the sparsest 50.84% of the features to make it fit\n",
      "tile 8/133/76 size is 508201 with detail 12, >500000    \n",
      "Going to try keeping the sparsest 45.02% of the features to make it fit\n",
      "  99.9%  11/1071/613  \n",
      "📦 Converting MBTiles to PMTiles...\n",
      "2025/08/18 07:56:31 convert.go:159: Pass 1: Assembling TileID set\n",
      "2025/08/18 07:56:31 convert.go:190: Pass 2: writing tiles\n",
      " 100% |█████████████████████████████████████████| (302/302, 10431 it/s)        \n",
      "2025/08/18 07:56:31 convert.go:244: # of addressed tiles:  302\n",
      "2025/08/18 07:56:31 convert.go:245: # of tile entries (after RLE):  302\n",
      "2025/08/18 07:56:31 convert.go:246: # of tile contents:  302\n",
      "2025/08/18 07:56:31 convert.go:269: Total dir bytes:  906\n",
      "2025/08/18 07:56:31 convert.go:270: Average bytes per addressed tile: 3.00\n",
      "2025/08/18 07:56:31 convert.go:239: Finished in  35.351345ms\n",
      "✅ Done! PMTiles file created at: N50_Samferdsel_senterlinje.pmtiles\n"
     ]
    }
   ],
   "source": [
    "!docker exec pmtiles-converter bash gdb_to_pmtiles.sh N50_vektor_agder.gdb N50_Samferdsel_senterlinje N50_Samferdsel_senterlinje.pmtiles"
   ]
  },
  {
   "cell_type": "markdown",
   "id": "cfcee1c1",
   "metadata": {},
   "source": [
    "Kopierer pmtiles filen ut av containeren"
   ]
  },
  {
   "cell_type": "code",
   "execution_count": 10,
   "id": "ac7c70e6",
   "metadata": {},
   "outputs": [
    {
     "name": "stdout",
     "output_type": "stream",
     "text": [
      "Successfully copied 12.2MB to /home/kluesp/projects/skygeo/src/pmtiles/vector/out/N50_Samferdsel_senterlinje.pmtiles\n"
     ]
    }
   ],
   "source": [
    "!docker cp pmtiles-converter:/app/N50_Samferdsel_senterlinje.pmtiles ./vector/out/N50_Samferdsel_senterlinje.pmtiles"
   ]
  },
  {
   "cell_type": "markdown",
   "id": "5a814a65",
   "metadata": {},
   "source": [
    "Konverterer bygninger og anlegg område laget til pmtiles"
   ]
  },
  {
   "cell_type": "code",
   "execution_count": 11,
   "id": "19298b22",
   "metadata": {},
   "outputs": [
    {
     "name": "stdout",
     "output_type": "stream",
     "text": [
      "🧩 Converting GDB to GeoJSON...\n",
      "🗺️ Creating MBTiles with tippecanoe...\n",
      "2681 features, 190351 bytes of geometry, 103754 bytes of separate metadata, 113091 bytes of string pool\n",
      "Choosing a maxzoom of -z8 for features about 1799 feet (549 meters) apart\n",
      "Choosing a maxzoom of -z11 for resolution of about 146 feet (44 meters) within features\n",
      "  99.9%  11/1067/613  \n",
      "📦 Converting MBTiles to PMTiles...\n",
      "2025/08/18 07:56:32 convert.go:159: Pass 1: Assembling TileID set\n",
      "2025/08/18 07:56:32 convert.go:190: Pass 2: writing tiles\n",
      " 100% |█████████████████████████████████████████| (200/200, 49337 it/s)        \n",
      "2025/08/18 07:56:32 convert.go:244: # of addressed tiles:  200\n",
      "2025/08/18 07:56:32 convert.go:245: # of tile entries (after RLE):  200\n",
      "2025/08/18 07:56:32 convert.go:246: # of tile contents:  200\n",
      "2025/08/18 07:56:32 convert.go:269: Total dir bytes:  544\n",
      "2025/08/18 07:56:32 convert.go:270: Average bytes per addressed tile: 2.72\n",
      "2025/08/18 07:56:32 convert.go:239: Finished in  5.606638ms\n",
      "✅ Done! PMTiles file created at: N50_BygningerOgAnlegg_omrade.pmtiles\n"
     ]
    }
   ],
   "source": [
    "!docker exec pmtiles-converter bash gdb_to_pmtiles.sh N50_vektor_agder.gdb N50_BygningerOgAnlegg_omrade N50_BygningerOgAnlegg_omrade.pmtiles"
   ]
  },
  {
   "cell_type": "markdown",
   "id": "7e724a42",
   "metadata": {},
   "source": [
    "Kopierer pmtiles filen ut av containeren"
   ]
  },
  {
   "cell_type": "code",
   "execution_count": 12,
   "id": "641acb02",
   "metadata": {},
   "outputs": [
    {
     "name": "stdout",
     "output_type": "stream",
     "text": [
      "Successfully copied 528kB to /home/kluesp/projects/skygeo/src/pmtiles/vector/out/N50_BygningerOgAnlegg_omrade.pmtiles\n"
     ]
    }
   ],
   "source": [
    "!docker cp pmtiles-converter:/app/N50_BygningerOgAnlegg_omrade.pmtiles ./vector/out/N50_BygningerOgAnlegg_omrade.pmtiles"
   ]
  },
  {
   "cell_type": "markdown",
   "id": "b8d3ff15",
   "metadata": {},
   "source": [
    "Stopper og fjerner containeren etter at konverteringen er ferdig."
   ]
  },
  {
   "cell_type": "code",
   "execution_count": 13,
   "id": "af07624b",
   "metadata": {},
   "outputs": [
    {
     "name": "stdout",
     "output_type": "stream",
     "text": [
      "pmtiles-converter\n",
      "pmtiles-converter\n"
     ]
    }
   ],
   "source": [
    "!docker stop pmtiles-converter\n",
    "!docker rm pmtiles-converter"
   ]
  },
  {
   "cell_type": "markdown",
   "id": "483fc2f3",
   "metadata": {},
   "source": [
    "Fjerner docker image"
   ]
  },
  {
   "cell_type": "code",
   "execution_count": 14,
   "id": "2ae7c215",
   "metadata": {},
   "outputs": [
    {
     "name": "stdout",
     "output_type": "stream",
     "text": [
      "Untagged: pmtiles:latest\n",
      "Deleted: sha256:76975773dfd1d45e64823fa55ee2f01fca6a8ac38f2ba5a16aeed928fd10d8bd\n"
     ]
    }
   ],
   "source": [
    "!docker rmi pmtiles"
   ]
  },
  {
   "cell_type": "markdown",
   "id": "e3cd20e4",
   "metadata": {},
   "source": [
    "# Demo\n",
    "\n",
    "I denne delen bruker vi `docker-compose` til å kjøre en lokal demo hvor pmtiles filene hostes\n",
    "over nettet og en veldig enkel web-app leser data fra filene.\n",
    "\n",
    "Demoen består av to applikasjoner:\n",
    "\n",
    "- Web appen som kjører i nettleseren.\n",
    "- En ngix container som hoster de tre pmtiles filene vi har generert.\n",
    "\n",
    "Mens docker compose blokken under kjører kan web appen åpnes på \n",
    "[http://localhost:3000](http://localhost:3000).\n",
    "I appen vil man se de tre filene vi har generert som lag, det kreves ingen back-end prosessering utover\n",
    "å tilgjengeliggjøre filene over internett. Kildekoden for web appen finnes under `client/` mappen.\n",
    "Ved å inspisere nettverkstrafikken i nettleseren kan man observere \n",
    "hvordan range headeren brukes til å spørre ut deler av filene.\n",
    "\n",
    "(Demo blokken må stoppes manuelt)"
   ]
  },
  {
   "cell_type": "code",
   "execution_count": 28,
   "id": "2fc3cdf6",
   "metadata": {},
   "outputs": [
    {
     "name": "stdout",
     "output_type": "stream",
     "text": [
      "Compose can now delegate builds to bake for better performance.\n",
      " To do so, set COMPOSE_BAKE=true.\n",
      "\u001b[1A\u001b[1B\u001b[0G\u001b[?25l[+] Building 0.0s (0/1)                                          docker:default\n",
      "\u001b[?25h\u001b[1A\u001b[0G\u001b[?25l[+] Building 0.2s (11/13)                                        docker:default\n",
      "\u001b[34m => [backend internal] load build definition from Dockerfile               0.0s\n",
      "\u001b[0m\u001b[34m => => transferring dockerfile: 1.04kB                                     0.0s\n",
      "\u001b[0m\u001b[34m => [frontend internal] load build definition from Dockerfile              0.0s\n",
      "\u001b[0m\u001b[34m => => transferring dockerfile: 454B                                       0.0s\n",
      "\u001b[0m\u001b[34m => [backend internal] load metadata for docker.io/library/nginx:latest    0.0s\n",
      "\u001b[0m => [frontend internal] load metadata for docker.io/library/nginx:stable-  0.2s\n",
      " => [frontend internal] load metadata for docker.io/library/node:18        0.2s\n",
      "\u001b[34m => [backend internal] load .dockerignore                                  0.0s\n",
      "\u001b[0m\u001b[34m => => transferring context: 2B                                            0.0s\n",
      "\u001b[0m\u001b[34m => [backend 1/4] FROM docker.io/library/nginx:latest                      0.0s\n",
      "\u001b[0m\u001b[34m => [backend internal] load build context                                  0.0s\n",
      "\u001b[0m\u001b[34m => => transferring context: 305B                                          0.0s\n",
      "\u001b[0m\u001b[34m => CACHED [backend 2/4] RUN echo 'server {\\n    listen 80;\\n    location  0.0s\n",
      "\u001b[0m\u001b[34m => CACHED [backend 3/4] COPY vector/out/ /usr/share/nginx/html            0.0s\n",
      "\u001b[0m\u001b[34m => CACHED [backend 4/4] COPY raster/out/ /usr/share/nginx/html            0.0s\n",
      "\u001b[0m\u001b[34m => [backend] exporting to image                                           0.0s\n",
      "\u001b[0m\u001b[34m => => exporting layers                                                    0.0s\n",
      "\u001b[0m\u001b[34m => => writing image sha256:b89f26482af738d7c291630b6919c5a852073508fab83  0.0s\n",
      "\u001b[0m\u001b[34m => => naming to docker.io/library/pmtiles-backend                         0.0s\n",
      "\u001b[0m\u001b[34m => [backend] resolving provenance for metadata file                       0.0s\n",
      "\u001b[0m\u001b[?25h\u001b[1A\u001b[1A\u001b[1A\u001b[1A\u001b[1A\u001b[1A\u001b[1A\u001b[1A\u001b[1A\u001b[1A\u001b[1A\u001b[1A\u001b[1A\u001b[1A\u001b[1A\u001b[1A\u001b[1A\u001b[1A\u001b[1A\u001b[1A\u001b[1A\u001b[0G\u001b[?25l[+] Building 0.3s (11/13)                                        docker:default\n",
      "\u001b[34m => [backend internal] load build definition from Dockerfile               0.0s\n",
      "\u001b[0m\u001b[34m => => transferring dockerfile: 1.04kB                                     0.0s\n",
      "\u001b[0m\u001b[34m => [frontend internal] load build definition from Dockerfile              0.0s\n",
      "\u001b[0m\u001b[34m => => transferring dockerfile: 454B                                       0.0s\n",
      "\u001b[0m\u001b[34m => [backend internal] load metadata for docker.io/library/nginx:latest    0.0s\n",
      "\u001b[0m => [frontend internal] load metadata for docker.io/library/nginx:stable-  0.3s\n",
      " => [frontend internal] load metadata for docker.io/library/node:18        0.3s\n",
      "\u001b[34m => [backend internal] load .dockerignore                                  0.0s\n",
      "\u001b[0m\u001b[34m => => transferring context: 2B                                            0.0s\n",
      "\u001b[0m\u001b[34m => [backend 1/4] FROM docker.io/library/nginx:latest                      0.0s\n",
      "\u001b[0m\u001b[34m => [backend internal] load build context                                  0.0s\n",
      "\u001b[0m\u001b[34m => => transferring context: 305B                                          0.0s\n",
      "\u001b[0m\u001b[34m => CACHED [backend 2/4] RUN echo 'server {\\n    listen 80;\\n    location  0.0s\n",
      "\u001b[0m\u001b[34m => CACHED [backend 3/4] COPY vector/out/ /usr/share/nginx/html            0.0s\n",
      "\u001b[0m\u001b[34m => CACHED [backend 4/4] COPY raster/out/ /usr/share/nginx/html            0.0s\n",
      "\u001b[0m\u001b[34m => [backend] exporting to image                                           0.0s\n",
      "\u001b[0m\u001b[34m => => exporting layers                                                    0.0s\n",
      "\u001b[0m\u001b[34m => => writing image sha256:b89f26482af738d7c291630b6919c5a852073508fab83  0.0s\n",
      "\u001b[0m\u001b[34m => => naming to docker.io/library/pmtiles-backend                         0.0s\n",
      "\u001b[0m\u001b[34m => [backend] resolving provenance for metadata file                       0.0s\n",
      "\u001b[0m\u001b[?25h\u001b[1A\u001b[1A\u001b[1A\u001b[1A\u001b[1A\u001b[1A\u001b[1A\u001b[1A\u001b[1A\u001b[1A\u001b[1A\u001b[1A\u001b[1A\u001b[1A\u001b[1A\u001b[1A\u001b[1A\u001b[1A\u001b[1A\u001b[1A\u001b[1A\u001b[0G\u001b[?25l[+] Building 0.5s (11/13)                                        docker:default\n",
      "\u001b[34m => [backend internal] load build definition from Dockerfile               0.0s\n",
      "\u001b[0m\u001b[34m => => transferring dockerfile: 1.04kB                                     0.0s\n",
      "\u001b[0m\u001b[34m => [frontend internal] load build definition from Dockerfile              0.0s\n",
      "\u001b[0m\u001b[34m => => transferring dockerfile: 454B                                       0.0s\n",
      "\u001b[0m\u001b[34m => [backend internal] load metadata for docker.io/library/nginx:latest    0.0s\n",
      "\u001b[0m => [frontend internal] load metadata for docker.io/library/nginx:stable-  0.5s\n",
      " => [frontend internal] load metadata for docker.io/library/node:18        0.5s\n",
      "\u001b[34m => [backend internal] load .dockerignore                                  0.0s\n",
      "\u001b[0m\u001b[34m => => transferring context: 2B                                            0.0s\n",
      "\u001b[0m\u001b[34m => [backend 1/4] FROM docker.io/library/nginx:latest                      0.0s\n",
      "\u001b[0m\u001b[34m => [backend internal] load build context                                  0.0s\n",
      "\u001b[0m\u001b[34m => => transferring context: 305B                                          0.0s\n",
      "\u001b[0m\u001b[34m => CACHED [backend 2/4] RUN echo 'server {\\n    listen 80;\\n    location  0.0s\n",
      "\u001b[0m\u001b[34m => CACHED [backend 3/4] COPY vector/out/ /usr/share/nginx/html            0.0s\n",
      "\u001b[0m\u001b[34m => CACHED [backend 4/4] COPY raster/out/ /usr/share/nginx/html            0.0s\n",
      "\u001b[0m\u001b[34m => [backend] exporting to image                                           0.0s\n",
      "\u001b[0m\u001b[34m => => exporting layers                                                    0.0s\n",
      "\u001b[0m\u001b[34m => => writing image sha256:b89f26482af738d7c291630b6919c5a852073508fab83  0.0s\n",
      "\u001b[0m\u001b[34m => => naming to docker.io/library/pmtiles-backend                         0.0s\n",
      "\u001b[0m\u001b[34m => [backend] resolving provenance for metadata file                       0.0s\n",
      "\u001b[0m\u001b[?25h\u001b[1A\u001b[1A\u001b[1A\u001b[1A\u001b[1A\u001b[1A\u001b[1A\u001b[1A\u001b[1A\u001b[1A\u001b[1A\u001b[1A\u001b[1A\u001b[1A\u001b[1A\u001b[1A\u001b[1A\u001b[1A\u001b[1A\u001b[1A\u001b[1A\u001b[0G\u001b[?25l[+] Building 0.6s (11/13)                                        docker:default\n",
      "\u001b[34m => [backend internal] load build definition from Dockerfile               0.0s\n",
      "\u001b[0m\u001b[34m => => transferring dockerfile: 1.04kB                                     0.0s\n",
      "\u001b[0m\u001b[34m => [frontend internal] load build definition from Dockerfile              0.0s\n",
      "\u001b[0m\u001b[34m => => transferring dockerfile: 454B                                       0.0s\n",
      "\u001b[0m\u001b[34m => [backend internal] load metadata for docker.io/library/nginx:latest    0.0s\n",
      "\u001b[0m => [frontend internal] load metadata for docker.io/library/nginx:stable-  0.6s\n",
      " => [frontend internal] load metadata for docker.io/library/node:18        0.6s\n",
      "\u001b[34m => [backend internal] load .dockerignore                                  0.0s\n",
      "\u001b[0m\u001b[34m => => transferring context: 2B                                            0.0s\n",
      "\u001b[0m\u001b[34m => [backend 1/4] FROM docker.io/library/nginx:latest                      0.0s\n",
      "\u001b[0m\u001b[34m => [backend internal] load build context                                  0.0s\n",
      "\u001b[0m\u001b[34m => => transferring context: 305B                                          0.0s\n",
      "\u001b[0m\u001b[34m => CACHED [backend 2/4] RUN echo 'server {\\n    listen 80;\\n    location  0.0s\n",
      "\u001b[0m\u001b[34m => CACHED [backend 3/4] COPY vector/out/ /usr/share/nginx/html            0.0s\n",
      "\u001b[0m\u001b[34m => CACHED [backend 4/4] COPY raster/out/ /usr/share/nginx/html            0.0s\n",
      "\u001b[0m\u001b[34m => [backend] exporting to image                                           0.0s\n",
      "\u001b[0m\u001b[34m => => exporting layers                                                    0.0s\n",
      "\u001b[0m\u001b[34m => => writing image sha256:b89f26482af738d7c291630b6919c5a852073508fab83  0.0s\n",
      "\u001b[0m\u001b[34m => => naming to docker.io/library/pmtiles-backend                         0.0s\n",
      "\u001b[0m\u001b[34m => [backend] resolving provenance for metadata file                       0.0s\n",
      "\u001b[0m\u001b[?25h\u001b[1A\u001b[1A\u001b[1A\u001b[1A\u001b[1A\u001b[1A\u001b[1A\u001b[1A\u001b[1A\u001b[1A\u001b[1A\u001b[1A\u001b[1A\u001b[1A\u001b[1A\u001b[1A\u001b[1A\u001b[1A\u001b[1A\u001b[1A\u001b[1A\u001b[0G\u001b[?25l[+] Building 0.7s (12/13)                                        docker:default\n",
      "\u001b[34m => [backend internal] load build definition from Dockerfile               0.0s\n",
      "\u001b[0m\u001b[34m => => transferring dockerfile: 1.04kB                                     0.0s\n",
      "\u001b[0m\u001b[34m => [frontend internal] load build definition from Dockerfile              0.0s\n",
      "\u001b[0m\u001b[34m => => transferring dockerfile: 454B                                       0.0s\n",
      "\u001b[0m\u001b[34m => [backend internal] load metadata for docker.io/library/nginx:latest    0.0s\n",
      "\u001b[0m => [frontend internal] load metadata for docker.io/library/nginx:stable-  0.6s\n",
      "\u001b[34m => [frontend internal] load metadata for docker.io/library/node:18        0.6s\n",
      "\u001b[0m\u001b[34m => [backend internal] load .dockerignore                                  0.0s\n",
      "\u001b[0m\u001b[34m => => transferring context: 2B                                            0.0s\n",
      "\u001b[0m\u001b[34m => [backend 1/4] FROM docker.io/library/nginx:latest                      0.0s\n",
      "\u001b[0m\u001b[34m => [backend internal] load build context                                  0.0s\n",
      "\u001b[0m\u001b[34m => => transferring context: 305B                                          0.0s\n",
      "\u001b[0m\u001b[34m => CACHED [backend 2/4] RUN echo 'server {\\n    listen 80;\\n    location  0.0s\n",
      "\u001b[0m\u001b[34m => CACHED [backend 3/4] COPY vector/out/ /usr/share/nginx/html            0.0s\n",
      "\u001b[0m\u001b[34m => CACHED [backend 4/4] COPY raster/out/ /usr/share/nginx/html            0.0s\n",
      "\u001b[0m\u001b[34m => [backend] exporting to image                                           0.0s\n",
      "\u001b[0m\u001b[34m => => exporting layers                                                    0.0s\n",
      "\u001b[0m\u001b[34m => => writing image sha256:b89f26482af738d7c291630b6919c5a852073508fab83  0.0s\n",
      "\u001b[0m\u001b[34m => => naming to docker.io/library/pmtiles-backend                         0.0s\n",
      "\u001b[0m\u001b[34m => [backend] resolving provenance for metadata file                       0.0s\n",
      "\u001b[0m\u001b[?25h\u001b[1A\u001b[1A\u001b[1A\u001b[1A\u001b[1A\u001b[1A\u001b[1A\u001b[1A\u001b[1A\u001b[1A\u001b[1A\u001b[1A\u001b[1A\u001b[1A\u001b[1A\u001b[1A\u001b[1A\u001b[1A\u001b[1A\u001b[1A\u001b[1A\u001b[0G\u001b[?25l[+] Building 0.7s (25/25) FINISHED                               docker:default\n",
      "\u001b[34m => [backend internal] load build definition from Dockerfile               0.0s\n",
      "\u001b[0m\u001b[34m => => transferring dockerfile: 1.04kB                                     0.0s\n",
      "\u001b[0m\u001b[34m => [frontend internal] load build definition from Dockerfile              0.0s\n",
      "\u001b[0m\u001b[34m => => transferring dockerfile: 454B                                       0.0s\n",
      "\u001b[0m\u001b[34m => [backend internal] load metadata for docker.io/library/nginx:latest    0.0s\n",
      "\u001b[0m\u001b[34m => [frontend internal] load metadata for docker.io/library/nginx:stable-  0.6s\n",
      "\u001b[0m\u001b[34m => [frontend internal] load metadata for docker.io/library/node:18        0.6s\n",
      "\u001b[0m\u001b[34m => [backend internal] load .dockerignore                                  0.0s\n",
      "\u001b[0m\u001b[34m => => transferring context: 2B                                            0.0s\n",
      "\u001b[0m\u001b[34m => [backend 1/4] FROM docker.io/library/nginx:latest                      0.0s\n",
      "\u001b[0m\u001b[34m => [backend internal] load build context                                  0.0s\n",
      "\u001b[0m\u001b[34m => => transferring context: 305B                                          0.0s\n",
      "\u001b[0m\u001b[34m => CACHED [backend 2/4] RUN echo 'server {\\n    listen 80;\\n    location  0.0s\n",
      "\u001b[0m\u001b[34m => CACHED [backend 3/4] COPY vector/out/ /usr/share/nginx/html            0.0s\n",
      "\u001b[0m\u001b[34m => CACHED [backend 4/4] COPY raster/out/ /usr/share/nginx/html            0.0s\n",
      "\u001b[0m\u001b[34m => [backend] exporting to image                                           0.0s\n",
      "\u001b[0m\u001b[34m => => exporting layers                                                    0.0s\n",
      "\u001b[0m\u001b[34m => => writing image sha256:b89f26482af738d7c291630b6919c5a852073508fab83  0.0s\n",
      "\u001b[0m\u001b[34m => => naming to docker.io/library/pmtiles-backend                         0.0s\n",
      "\u001b[0m\u001b[34m => [backend] resolving provenance for metadata file                       0.0s\n",
      "\u001b[0m\u001b[34m => [frontend internal] load .dockerignore                                 0.0s\n",
      "\u001b[0m\u001b[34m => => transferring context: 2B                                            0.0s\n",
      "\u001b[0m\u001b[34m => [frontend build 1/6] FROM docker.io/library/node:18@sha256:c6ae79e384  0.0s\n",
      "\u001b[0m\u001b[34m => [frontend stage-1 1/2] FROM docker.io/library/nginx:stable-alpine@sha  0.0s\n",
      "\u001b[0m\u001b[34m => [frontend internal] load build context                                 0.0s\n",
      "\u001b[0m\u001b[34m => => transferring context: 245B                                          0.0s\n",
      "\u001b[0m\u001b[34m => CACHED [frontend build 2/6] WORKDIR /app                               0.0s\n",
      "\u001b[0m\u001b[34m => CACHED [frontend build 3/6] COPY package*.json ./                      0.0s\n",
      "\u001b[0m\u001b[34m => CACHED [frontend build 4/6] RUN npm install                            0.0s\n",
      "\u001b[0m\u001b[34m => CACHED [frontend build 5/6] COPY . .                                   0.0s\n",
      "\u001b[0m\u001b[34m => CACHED [frontend build 6/6] RUN npm run build                          0.0s\n",
      "\u001b[0m\u001b[34m => CACHED [frontend stage-1 2/2] COPY --from=build /app/build /usr/share  0.0s\n",
      "\u001b[0m\u001b[34m => [frontend] exporting to image                                          0.0s\n",
      "\u001b[0m\u001b[34m => => exporting layers                                                    0.0s\n",
      "\u001b[0m\u001b[34m => => writing image sha256:7d84258db1828cd26b1a0be948c99935e776b9e0d56ee  0.0s\n",
      "\u001b[0m\u001b[34m => => naming to docker.io/library/pmtiles-frontend                        0.0s\n",
      "\u001b[0m\u001b[34m => [frontend] resolving provenance for metadata file                      0.0s\n",
      "\u001b[0m\u001b[?25h\u001b[1A\u001b[1B\u001b[0G\u001b[?25l[+] Running 4/4\n",
      " \u001b[32m✔\u001b[0m backend                       \u001b[32mBuilt\u001b[0m                                     \u001b[34m0.0s \u001b[0m\n",
      " \u001b[32m✔\u001b[0m frontend                      \u001b[32mBuilt\u001b[0m                                     \u001b[34m0.0s \u001b[0m\n",
      " \u001b[32m✔\u001b[0m Container pmtiles-frontend-1  \u001b[32mCreated\u001b[0m                                   \u001b[34m0.0s \u001b[0m\n",
      " \u001b[32m✔\u001b[0m Container pmtiles-backend-1   \u001b[32mCreated\u001b[0m                                   \u001b[34m0.0s \u001b[0m\n",
      "\u001b[?25hAttaching to backend-1, frontend-1\n",
      "\u001b[0G\u001b7\u001b[1B\u001b[2K\u001b[1B\u001b[2K\u001b[1B\u001b[2K\u001b[1B\u001b[2K\u001b[1B\u001b[2K\u001b[1B\u001b[2K\u001b[1B\u001b[2K\u001b[1B\u001b[2K\u001b[1B\u001b[2K\u001b[1B\u001b[2K\u001b[1B\u001b[2K\u001b[1B\u001b[2K\u001b[1B\u001b[2K\u001b[1B\u001b[2K\u001b[1B\u001b[2K\u001b[1B\u001b[2K\u001b[1B\u001b[2K\u001b[1B\u001b[2K\u001b[1B\u001b[2K\u001b[1B\u001b[2K\u001b[1B\u001b[2K\u001b[1B\u001b[2K\u001b[1B\u001b[2K\u001b[1B\u001b[2K\u001b8\u001b[33mfrontend-1  | \u001b[0m/docker-entrypoint.sh: /docker-entrypoint.d/ is not empty, will attempt to perform configuration\n",
      "\u001b[0G\u001b7\u001b[1B\u001b[2K\u001b[1B\u001b[2K\u001b[1B\u001b[2K\u001b[1B\u001b[2K\u001b[1B\u001b[2K\u001b[1B\u001b[2K\u001b[1B\u001b[2K\u001b[1B\u001b[2K\u001b[1B\u001b[2K\u001b[1B\u001b[2K\u001b[1B\u001b[2K\u001b[1B\u001b[2K\u001b[1B\u001b[2K\u001b[1B\u001b[2K\u001b[1B\u001b[2K\u001b[1B\u001b[2K\u001b[1B\u001b[2K\u001b[1B\u001b[2K\u001b[1B\u001b[2K\u001b[1B\u001b[2K\u001b[1B\u001b[2K\u001b[1B\u001b[2K\u001b[1B\u001b[2K\u001b[1B\u001b[2K\u001b8\u001b[2K\n",
      "\u001b[0G\u001b[2K\n",
      "\u001b[0G\u001b[2A\u001b[0G\u001b7\u001b[24;0H\u001b[2K\u001b[1;38;2;0;0;0;48;2;255;255;255mw\u001b[0m\u001b[2m Enable Watch\u001b[0m\u001b[0G\u001b8\u001b[0G\u001b7\u001b[1B\u001b[2K\u001b[1B\u001b[2K\u001b[1B\u001b[2K\u001b[1B\u001b[2K\u001b[1B\u001b[2K\u001b[1B\u001b[2K\u001b[1B\u001b[2K\u001b[1B\u001b[2K\u001b[1B\u001b[2K\u001b[1B\u001b[2K\u001b[1B\u001b[2K\u001b[1B\u001b[2K\u001b[1B\u001b[2K\u001b[1B\u001b[2K\u001b[1B\u001b[2K\u001b[1B\u001b[2K\u001b[1B\u001b[2K\u001b[1B\u001b[2K\u001b[1B\u001b[2K\u001b[1B\u001b[2K\u001b[1B\u001b[2K\u001b[1B\u001b[2K\u001b[1B\u001b[2K\u001b[1B\u001b[2K\u001b8\u001b[33mfrontend-1  | \u001b[0m/docker-entrypoint.sh: Looking for shell scripts in /docker-entrypoint.d/\n",
      "\u001b[0G\u001b7\u001b[1B\u001b[2K\u001b[1B\u001b[2K\u001b[1B\u001b[2K\u001b[1B\u001b[2K\u001b[1B\u001b[2K\u001b[1B\u001b[2K\u001b[1B\u001b[2K\u001b[1B\u001b[2K\u001b[1B\u001b[2K\u001b[1B\u001b[2K\u001b[1B\u001b[2K\u001b[1B\u001b[2K\u001b[1B\u001b[2K\u001b[1B\u001b[2K\u001b[1B\u001b[2K\u001b[1B\u001b[2K\u001b[1B\u001b[2K\u001b[1B\u001b[2K\u001b[1B\u001b[2K\u001b[1B\u001b[2K\u001b[1B\u001b[2K\u001b[1B\u001b[2K\u001b[1B\u001b[2K\u001b[1B\u001b[2K\u001b8\u001b[2K\n",
      "\u001b[0G\u001b[2K\n",
      "\u001b[0G\u001b[2A\u001b[0G\u001b7\u001b[24;0H\u001b[2K\u001b[1;38;2;0;0;0;48;2;255;255;255mw\u001b[0m\u001b[2m Enable Watch\u001b[0m\u001b[0G\u001b8\u001b[0G\u001b7\u001b[1B\u001b[2K\u001b[1B\u001b[2K\u001b[1B\u001b[2K\u001b[1B\u001b[2K\u001b[1B\u001b[2K\u001b[1B\u001b[2K\u001b[1B\u001b[2K\u001b[1B\u001b[2K\u001b[1B\u001b[2K\u001b[1B\u001b[2K\u001b[1B\u001b[2K\u001b[1B\u001b[2K\u001b[1B\u001b[2K\u001b[1B\u001b[2K\u001b[1B\u001b[2K\u001b[1B\u001b[2K\u001b[1B\u001b[2K\u001b[1B\u001b[2K\u001b[1B\u001b[2K\u001b[1B\u001b[2K\u001b[1B\u001b[2K\u001b[1B\u001b[2K\u001b[1B\u001b[2K\u001b[1B\u001b[2K\u001b8\u001b[33mfrontend-1  | \u001b[0m/docker-entrypoint.sh: Launching /docker-entrypoint.d/10-listen-on-ipv6-by-default.sh\n",
      "\u001b[0G\u001b7\u001b[1B\u001b[2K\u001b[1B\u001b[2K\u001b[1B\u001b[2K\u001b[1B\u001b[2K\u001b[1B\u001b[2K\u001b[1B\u001b[2K\u001b[1B\u001b[2K\u001b[1B\u001b[2K\u001b[1B\u001b[2K\u001b[1B\u001b[2K\u001b[1B\u001b[2K\u001b[1B\u001b[2K\u001b[1B\u001b[2K\u001b[1B\u001b[2K\u001b[1B\u001b[2K\u001b[1B\u001b[2K\u001b[1B\u001b[2K\u001b[1B\u001b[2K\u001b[1B\u001b[2K\u001b[1B\u001b[2K\u001b[1B\u001b[2K\u001b[1B\u001b[2K\u001b[1B\u001b[2K\u001b[1B\u001b[2K\u001b8\u001b[2K\n",
      "\u001b[0G\u001b[2K\n",
      "\u001b[0G\u001b[2A\u001b[0G\u001b7\u001b[24;0H\u001b[2K\u001b[1;38;2;0;0;0;48;2;255;255;255mw\u001b[0m\u001b[2m Enable Watch\u001b[0m\u001b[0G\u001b8\u001b[0G\u001b7\u001b[1B\u001b[2K\u001b[1B\u001b[2K\u001b[1B\u001b[2K\u001b[1B\u001b[2K\u001b[1B\u001b[2K\u001b[1B\u001b[2K\u001b[1B\u001b[2K\u001b[1B\u001b[2K\u001b[1B\u001b[2K\u001b[1B\u001b[2K\u001b[1B\u001b[2K\u001b[1B\u001b[2K\u001b[1B\u001b[2K\u001b[1B\u001b[2K\u001b[1B\u001b[2K\u001b[1B\u001b[2K\u001b[1B\u001b[2K\u001b[1B\u001b[2K\u001b[1B\u001b[2K\u001b[1B\u001b[2K\u001b[1B\u001b[2K\u001b[1B\u001b[2K\u001b[1B\u001b[2K\u001b[1B\u001b[2K\u001b8\u001b[33mfrontend-1  | \u001b[0m10-listen-on-ipv6-by-default.sh: info: Getting the checksum of /etc/nginx/conf.d/default.conf\n",
      "\u001b[0G\u001b7\u001b[1B\u001b[2K\u001b[1B\u001b[2K\u001b[1B\u001b[2K\u001b[1B\u001b[2K\u001b[1B\u001b[2K\u001b[1B\u001b[2K\u001b[1B\u001b[2K\u001b[1B\u001b[2K\u001b[1B\u001b[2K\u001b[1B\u001b[2K\u001b[1B\u001b[2K\u001b[1B\u001b[2K\u001b[1B\u001b[2K\u001b[1B\u001b[2K\u001b[1B\u001b[2K\u001b[1B\u001b[2K\u001b[1B\u001b[2K\u001b[1B\u001b[2K\u001b[1B\u001b[2K\u001b[1B\u001b[2K\u001b[1B\u001b[2K\u001b[1B\u001b[2K\u001b[1B\u001b[2K\u001b[1B\u001b[2K\u001b8\u001b[2K\n",
      "\u001b[0G\u001b[2K\n",
      "\u001b[0G\u001b[2A\u001b[0G\u001b7\u001b[24;0H\u001b[2K\u001b[1;38;2;0;0;0;48;2;255;255;255mw\u001b[0m\u001b[2m Enable Watch\u001b[0m\u001b[0G\u001b8\u001b[0G\u001b7\u001b[1B\u001b[2K\u001b[1B\u001b[2K\u001b[1B\u001b[2K\u001b[1B\u001b[2K\u001b[1B\u001b[2K\u001b[1B\u001b[2K\u001b[1B\u001b[2K\u001b[1B\u001b[2K\u001b[1B\u001b[2K\u001b[1B\u001b[2K\u001b[1B\u001b[2K\u001b[1B\u001b[2K\u001b[1B\u001b[2K\u001b[1B\u001b[2K\u001b[1B\u001b[2K\u001b[1B\u001b[2K\u001b[1B\u001b[2K\u001b[1B\u001b[2K\u001b[1B\u001b[2K\u001b[1B\u001b[2K\u001b[1B\u001b[2K\u001b[1B\u001b[2K\u001b[1B\u001b[2K\u001b[1B\u001b[2K\u001b8\u001b[33mfrontend-1  | \u001b[0m10-listen-on-ipv6-by-default.sh: info: Enabled listen on IPv6 in /etc/nginx/conf.d/default.conf\n",
      "\u001b[0G\u001b7\u001b[1B\u001b[2K\u001b[1B\u001b[2K\u001b[1B\u001b[2K\u001b[1B\u001b[2K\u001b[1B\u001b[2K\u001b[1B\u001b[2K\u001b[1B\u001b[2K\u001b[1B\u001b[2K\u001b[1B\u001b[2K\u001b[1B\u001b[2K\u001b[1B\u001b[2K\u001b[1B\u001b[2K\u001b[1B\u001b[2K\u001b[1B\u001b[2K\u001b[1B\u001b[2K\u001b[1B\u001b[2K\u001b[1B\u001b[2K\u001b[1B\u001b[2K\u001b[1B\u001b[2K\u001b[1B\u001b[2K\u001b[1B\u001b[2K\u001b[1B\u001b[2K\u001b[1B\u001b[2K\u001b[1B\u001b[2K\u001b8\u001b[2K\n",
      "\u001b[0G\u001b[2K\n",
      "\u001b[0G\u001b[2A\u001b[0G\u001b7\u001b[24;0H\u001b[2K\u001b[1;38;2;0;0;0;48;2;255;255;255mw\u001b[0m\u001b[2m Enable Watch\u001b[0m\u001b[0G\u001b8\u001b[0G\u001b7\u001b[1B\u001b[2K\u001b[1B\u001b[2K\u001b[1B\u001b[2K\u001b[1B\u001b[2K\u001b[1B\u001b[2K\u001b[1B\u001b[2K\u001b[1B\u001b[2K\u001b[1B\u001b[2K\u001b[1B\u001b[2K\u001b[1B\u001b[2K\u001b[1B\u001b[2K\u001b[1B\u001b[2K\u001b[1B\u001b[2K\u001b[1B\u001b[2K\u001b[1B\u001b[2K\u001b[1B\u001b[2K\u001b[1B\u001b[2K\u001b[1B\u001b[2K\u001b[1B\u001b[2K\u001b[1B\u001b[2K\u001b[1B\u001b[2K\u001b[1B\u001b[2K\u001b[1B\u001b[2K\u001b[1B\u001b[2K\u001b8\u001b[33mfrontend-1  | \u001b[0m/docker-entrypoint.sh: Sourcing /docker-entrypoint.d/15-local-resolvers.envsh\n",
      "\u001b[0G\u001b7\u001b[1B\u001b[2K\u001b[1B\u001b[2K\u001b[1B\u001b[2K\u001b[1B\u001b[2K\u001b[1B\u001b[2K\u001b[1B\u001b[2K\u001b[1B\u001b[2K\u001b[1B\u001b[2K\u001b[1B\u001b[2K\u001b[1B\u001b[2K\u001b[1B\u001b[2K\u001b[1B\u001b[2K\u001b[1B\u001b[2K\u001b[1B\u001b[2K\u001b[1B\u001b[2K\u001b[1B\u001b[2K\u001b[1B\u001b[2K\u001b[1B\u001b[2K\u001b[1B\u001b[2K\u001b[1B\u001b[2K\u001b[1B\u001b[2K\u001b[1B\u001b[2K\u001b[1B\u001b[2K\u001b[1B\u001b[2K\u001b8\u001b[2K\n",
      "\u001b[0G\u001b[2K\n",
      "\u001b[0G\u001b[2A\u001b[0G\u001b7\u001b[24;0H\u001b[2K\u001b[1;38;2;0;0;0;48;2;255;255;255mw\u001b[0m\u001b[2m Enable Watch\u001b[0m\u001b[0G\u001b8\u001b[0G\u001b7\u001b[1B\u001b[2K\u001b[1B\u001b[2K\u001b[1B\u001b[2K\u001b[1B\u001b[2K\u001b[1B\u001b[2K\u001b[1B\u001b[2K\u001b[1B\u001b[2K\u001b[1B\u001b[2K\u001b[1B\u001b[2K\u001b[1B\u001b[2K\u001b[1B\u001b[2K\u001b[1B\u001b[2K\u001b[1B\u001b[2K\u001b[1B\u001b[2K\u001b[1B\u001b[2K\u001b[1B\u001b[2K\u001b[1B\u001b[2K\u001b[1B\u001b[2K\u001b[1B\u001b[2K\u001b[1B\u001b[2K\u001b[1B\u001b[2K\u001b[1B\u001b[2K\u001b[1B\u001b[2K\u001b[1B\u001b[2K\u001b8\u001b[33mfrontend-1  | \u001b[0m/docker-entrypoint.sh: Launching /docker-entrypoint.d/20-envsubst-on-templates.sh\n",
      "\u001b[0G\u001b7\u001b[1B\u001b[2K\u001b[1B\u001b[2K\u001b[1B\u001b[2K\u001b[1B\u001b[2K\u001b[1B\u001b[2K\u001b[1B\u001b[2K\u001b[1B\u001b[2K\u001b[1B\u001b[2K\u001b[1B\u001b[2K\u001b[1B\u001b[2K\u001b[1B\u001b[2K\u001b[1B\u001b[2K\u001b[1B\u001b[2K\u001b[1B\u001b[2K\u001b[1B\u001b[2K\u001b[1B\u001b[2K\u001b[1B\u001b[2K\u001b[1B\u001b[2K\u001b[1B\u001b[2K\u001b[1B\u001b[2K\u001b[1B\u001b[2K\u001b[1B\u001b[2K\u001b[1B\u001b[2K\u001b[1B\u001b[2K\u001b8\u001b[2K\n",
      "\u001b[0G\u001b[2K\n",
      "\u001b[0G\u001b[2A\u001b[0G\u001b7\u001b[24;0H\u001b[2K\u001b[1;38;2;0;0;0;48;2;255;255;255mw\u001b[0m\u001b[2m Enable Watch\u001b[0m\u001b[0G\u001b8\u001b[0G\u001b7\u001b[1B\u001b[2K\u001b[1B\u001b[2K\u001b[1B\u001b[2K\u001b[1B\u001b[2K\u001b[1B\u001b[2K\u001b[1B\u001b[2K\u001b[1B\u001b[2K\u001b[1B\u001b[2K\u001b[1B\u001b[2K\u001b[1B\u001b[2K\u001b[1B\u001b[2K\u001b[1B\u001b[2K\u001b[1B\u001b[2K\u001b[1B\u001b[2K\u001b[1B\u001b[2K\u001b[1B\u001b[2K\u001b[1B\u001b[2K\u001b[1B\u001b[2K\u001b[1B\u001b[2K\u001b[1B\u001b[2K\u001b[1B\u001b[2K\u001b[1B\u001b[2K\u001b[1B\u001b[2K\u001b[1B\u001b[2K\u001b8\u001b[33mfrontend-1  | \u001b[0m/docker-entrypoint.sh: Launching /docker-entrypoint.d/30-tune-worker-processes.sh\n",
      "\u001b[0G\u001b7\u001b[1B\u001b[2K\u001b[1B\u001b[2K\u001b[1B\u001b[2K\u001b[1B\u001b[2K\u001b[1B\u001b[2K\u001b[1B\u001b[2K\u001b[1B\u001b[2K\u001b[1B\u001b[2K\u001b[1B\u001b[2K\u001b[1B\u001b[2K\u001b[1B\u001b[2K\u001b[1B\u001b[2K\u001b[1B\u001b[2K\u001b[1B\u001b[2K\u001b[1B\u001b[2K\u001b[1B\u001b[2K\u001b[1B\u001b[2K\u001b[1B\u001b[2K\u001b[1B\u001b[2K\u001b[1B\u001b[2K\u001b[1B\u001b[2K\u001b[1B\u001b[2K\u001b[1B\u001b[2K\u001b[1B\u001b[2K\u001b8\u001b[2K\n",
      "\u001b[0G\u001b[2K\n",
      "\u001b[0G\u001b[2A\u001b[0G\u001b7\u001b[24;0H\u001b[2K\u001b[1;38;2;0;0;0;48;2;255;255;255mw\u001b[0m\u001b[2m Enable Watch\u001b[0m\u001b[0G\u001b8\u001b[0G\u001b7\u001b[1B\u001b[2K\u001b[1B\u001b[2K\u001b[1B\u001b[2K\u001b[1B\u001b[2K\u001b[1B\u001b[2K\u001b[1B\u001b[2K\u001b[1B\u001b[2K\u001b[1B\u001b[2K\u001b[1B\u001b[2K\u001b[1B\u001b[2K\u001b[1B\u001b[2K\u001b[1B\u001b[2K\u001b[1B\u001b[2K\u001b[1B\u001b[2K\u001b[1B\u001b[2K\u001b[1B\u001b[2K\u001b[1B\u001b[2K\u001b[1B\u001b[2K\u001b[1B\u001b[2K\u001b[1B\u001b[2K\u001b[1B\u001b[2K\u001b[1B\u001b[2K\u001b[1B\u001b[2K\u001b[1B\u001b[2K\u001b8\u001b[33mfrontend-1  | \u001b[0m/docker-entrypoint.sh: Configuration complete; ready for start up\n",
      "\u001b[0G\u001b7\u001b[1B\u001b[2K\u001b[1B\u001b[2K\u001b[1B\u001b[2K\u001b[1B\u001b[2K\u001b[1B\u001b[2K\u001b[1B\u001b[2K\u001b[1B\u001b[2K\u001b[1B\u001b[2K\u001b[1B\u001b[2K\u001b[1B\u001b[2K\u001b[1B\u001b[2K\u001b[1B\u001b[2K\u001b[1B\u001b[2K\u001b[1B\u001b[2K\u001b[1B\u001b[2K\u001b[1B\u001b[2K\u001b[1B\u001b[2K\u001b[1B\u001b[2K\u001b[1B\u001b[2K\u001b[1B\u001b[2K\u001b[1B\u001b[2K\u001b[1B\u001b[2K\u001b[1B\u001b[2K\u001b[1B\u001b[2K\u001b8\u001b[2K\n",
      "\u001b[0G\u001b[2K\n",
      "\u001b[0G\u001b[2A\u001b[0G\u001b7\u001b[24;0H\u001b[2K\u001b[1;38;2;0;0;0;48;2;255;255;255mw\u001b[0m\u001b[2m Enable Watch\u001b[0m\u001b[0G\u001b8\u001b[0G\u001b7\u001b[1B\u001b[2K\u001b[1B\u001b[2K\u001b[1B\u001b[2K\u001b[1B\u001b[2K\u001b[1B\u001b[2K\u001b[1B\u001b[2K\u001b[1B\u001b[2K\u001b[1B\u001b[2K\u001b[1B\u001b[2K\u001b[1B\u001b[2K\u001b[1B\u001b[2K\u001b[1B\u001b[2K\u001b[1B\u001b[2K\u001b[1B\u001b[2K\u001b[1B\u001b[2K\u001b[1B\u001b[2K\u001b[1B\u001b[2K\u001b[1B\u001b[2K\u001b[1B\u001b[2K\u001b[1B\u001b[2K\u001b[1B\u001b[2K\u001b[1B\u001b[2K\u001b[1B\u001b[2K\u001b[1B\u001b[2K\u001b8\u001b[36mbackend-1   | \u001b[0m/docker-entrypoint.sh: /docker-entrypoint.d/ is not empty, will attempt to perform configuration\n",
      "\u001b[0G\u001b7\u001b[1B\u001b[2K\u001b[1B\u001b[2K\u001b[1B\u001b[2K\u001b[1B\u001b[2K\u001b[1B\u001b[2K\u001b[1B\u001b[2K\u001b[1B\u001b[2K\u001b[1B\u001b[2K\u001b[1B\u001b[2K\u001b[1B\u001b[2K\u001b[1B\u001b[2K\u001b[1B\u001b[2K\u001b[1B\u001b[2K\u001b[1B\u001b[2K\u001b[1B\u001b[2K\u001b[1B\u001b[2K\u001b[1B\u001b[2K\u001b[1B\u001b[2K\u001b[1B\u001b[2K\u001b[1B\u001b[2K\u001b[1B\u001b[2K\u001b[1B\u001b[2K\u001b[1B\u001b[2K\u001b[1B\u001b[2K\u001b8\u001b[2K\n",
      "\u001b[0G\u001b[2K\n",
      "\u001b[0G\u001b[2A\u001b[0G\u001b7\u001b[24;0H\u001b[2K\u001b[1;38;2;0;0;0;48;2;255;255;255mw\u001b[0m\u001b[2m Enable Watch\u001b[0m\u001b[0G\u001b8\u001b[0G\u001b7\u001b[1B\u001b[2K\u001b[1B\u001b[2K\u001b[1B\u001b[2K\u001b[1B\u001b[2K\u001b[1B\u001b[2K\u001b[1B\u001b[2K\u001b[1B\u001b[2K\u001b[1B\u001b[2K\u001b[1B\u001b[2K\u001b[1B\u001b[2K\u001b[1B\u001b[2K\u001b[1B\u001b[2K\u001b[1B\u001b[2K\u001b[1B\u001b[2K\u001b[1B\u001b[2K\u001b[1B\u001b[2K\u001b[1B\u001b[2K\u001b[1B\u001b[2K\u001b[1B\u001b[2K\u001b[1B\u001b[2K\u001b[1B\u001b[2K\u001b[1B\u001b[2K\u001b[1B\u001b[2K\u001b[1B\u001b[2K\u001b8\u001b[36mbackend-1   | \u001b[0m/docker-entrypoint.sh: Looking for shell scripts in /docker-entrypoint.d/\n",
      "\u001b[0G\u001b7\u001b[1B\u001b[2K\u001b[1B\u001b[2K\u001b[1B\u001b[2K\u001b[1B\u001b[2K\u001b[1B\u001b[2K\u001b[1B\u001b[2K\u001b[1B\u001b[2K\u001b[1B\u001b[2K\u001b[1B\u001b[2K\u001b[1B\u001b[2K\u001b[1B\u001b[2K\u001b[1B\u001b[2K\u001b[1B\u001b[2K\u001b[1B\u001b[2K\u001b[1B\u001b[2K\u001b[1B\u001b[2K\u001b[1B\u001b[2K\u001b[1B\u001b[2K\u001b[1B\u001b[2K\u001b[1B\u001b[2K\u001b[1B\u001b[2K\u001b[1B\u001b[2K\u001b[1B\u001b[2K\u001b[1B\u001b[2K\u001b8\u001b[2K\n",
      "\u001b[0G\u001b[2K\n",
      "\u001b[0G\u001b[2A\u001b[0G\u001b7\u001b[24;0H\u001b[2K\u001b[1;38;2;0;0;0;48;2;255;255;255mw\u001b[0m\u001b[2m Enable Watch\u001b[0m\u001b[0G\u001b8\u001b[0G\u001b7\u001b[1B\u001b[2K\u001b[1B\u001b[2K\u001b[1B\u001b[2K\u001b[1B\u001b[2K\u001b[1B\u001b[2K\u001b[1B\u001b[2K\u001b[1B\u001b[2K\u001b[1B\u001b[2K\u001b[1B\u001b[2K\u001b[1B\u001b[2K\u001b[1B\u001b[2K\u001b[1B\u001b[2K\u001b[1B\u001b[2K\u001b[1B\u001b[2K\u001b[1B\u001b[2K\u001b[1B\u001b[2K\u001b[1B\u001b[2K\u001b[1B\u001b[2K\u001b[1B\u001b[2K\u001b[1B\u001b[2K\u001b[1B\u001b[2K\u001b[1B\u001b[2K\u001b[1B\u001b[2K\u001b[1B\u001b[2K\u001b8\u001b[36mbackend-1   | \u001b[0m/docker-entrypoint.sh: Launching /docker-entrypoint.d/10-listen-on-ipv6-by-default.sh\n",
      "\u001b[0G\u001b7\u001b[1B\u001b[2K\u001b[1B\u001b[2K\u001b[1B\u001b[2K\u001b[1B\u001b[2K\u001b[1B\u001b[2K\u001b[1B\u001b[2K\u001b[1B\u001b[2K\u001b[1B\u001b[2K\u001b[1B\u001b[2K\u001b[1B\u001b[2K\u001b[1B\u001b[2K\u001b[1B\u001b[2K\u001b[1B\u001b[2K\u001b[1B\u001b[2K\u001b[1B\u001b[2K\u001b[1B\u001b[2K\u001b[1B\u001b[2K\u001b[1B\u001b[2K\u001b[1B\u001b[2K\u001b[1B\u001b[2K\u001b[1B\u001b[2K\u001b[1B\u001b[2K\u001b[1B\u001b[2K\u001b[1B\u001b[2K\u001b8\u001b[2K\n",
      "\u001b[0G\u001b[2K\n",
      "\u001b[0G\u001b[2A\u001b[0G\u001b7\u001b[24;0H\u001b[2K\u001b[1;38;2;0;0;0;48;2;255;255;255mw\u001b[0m\u001b[2m Enable Watch\u001b[0m\u001b[0G\u001b8\u001b[0G\u001b7\u001b[1B\u001b[2K\u001b[1B\u001b[2K\u001b[1B\u001b[2K\u001b[1B\u001b[2K\u001b[1B\u001b[2K\u001b[1B\u001b[2K\u001b[1B\u001b[2K\u001b[1B\u001b[2K\u001b[1B\u001b[2K\u001b[1B\u001b[2K\u001b[1B\u001b[2K\u001b[1B\u001b[2K\u001b[1B\u001b[2K\u001b[1B\u001b[2K\u001b[1B\u001b[2K\u001b[1B\u001b[2K\u001b[1B\u001b[2K\u001b[1B\u001b[2K\u001b[1B\u001b[2K\u001b[1B\u001b[2K\u001b[1B\u001b[2K\u001b[1B\u001b[2K\u001b[1B\u001b[2K\u001b[1B\u001b[2K\u001b8\u001b[33mfrontend-1  | \u001b[0m2025/08/18 08:15:33 [notice] 1#1: using the \"epoll\" event method\n",
      "\u001b[0G\u001b7\u001b[1B\u001b[2K\u001b[1B\u001b[2K\u001b[1B\u001b[2K\u001b[1B\u001b[2K\u001b[1B\u001b[2K\u001b[1B\u001b[2K\u001b[1B\u001b[2K\u001b[1B\u001b[2K\u001b[1B\u001b[2K\u001b[1B\u001b[2K\u001b[1B\u001b[2K\u001b[1B\u001b[2K\u001b[1B\u001b[2K\u001b[1B\u001b[2K\u001b[1B\u001b[2K\u001b[1B\u001b[2K\u001b[1B\u001b[2K\u001b[1B\u001b[2K\u001b[1B\u001b[2K\u001b[1B\u001b[2K\u001b[1B\u001b[2K\u001b[1B\u001b[2K\u001b[1B\u001b[2K\u001b[1B\u001b[2K\u001b8\u001b[2K\n",
      "\u001b[0G\u001b[2K\n",
      "\u001b[0G\u001b[2A\u001b[0G\u001b7\u001b[24;0H\u001b[2K\u001b[1;38;2;0;0;0;48;2;255;255;255mw\u001b[0m\u001b[2m Enable Watch\u001b[0m\u001b[0G\u001b8\u001b[0G\u001b7\u001b[1B\u001b[2K\u001b[1B\u001b[2K\u001b[1B\u001b[2K\u001b[1B\u001b[2K\u001b[1B\u001b[2K\u001b[1B\u001b[2K\u001b[1B\u001b[2K\u001b[1B\u001b[2K\u001b[1B\u001b[2K\u001b[1B\u001b[2K\u001b[1B\u001b[2K\u001b[1B\u001b[2K\u001b[1B\u001b[2K\u001b[1B\u001b[2K\u001b[1B\u001b[2K\u001b[1B\u001b[2K\u001b[1B\u001b[2K\u001b[1B\u001b[2K\u001b[1B\u001b[2K\u001b[1B\u001b[2K\u001b[1B\u001b[2K\u001b[1B\u001b[2K\u001b[1B\u001b[2K\u001b[1B\u001b[2K\u001b8\u001b[33mfrontend-1  | \u001b[0m2025/08/18 08:15:33 [notice] 1#1: nginx/1.28.0\n",
      "\u001b[0G\u001b7\u001b[1B\u001b[2K\u001b[1B\u001b[2K\u001b[1B\u001b[2K\u001b[1B\u001b[2K\u001b[1B\u001b[2K\u001b[1B\u001b[2K\u001b[1B\u001b[2K\u001b[1B\u001b[2K\u001b[1B\u001b[2K\u001b[1B\u001b[2K\u001b[1B\u001b[2K\u001b[1B\u001b[2K\u001b[1B\u001b[2K\u001b[1B\u001b[2K\u001b[1B\u001b[2K\u001b[1B\u001b[2K\u001b[1B\u001b[2K\u001b[1B\u001b[2K\u001b[1B\u001b[2K\u001b[1B\u001b[2K\u001b[1B\u001b[2K\u001b[1B\u001b[2K\u001b[1B\u001b[2K\u001b[1B\u001b[2K\u001b8\u001b[2K\n",
      "\u001b[0G\u001b[2K\n",
      "\u001b[0G\u001b[2A\u001b[0G\u001b7\u001b[24;0H\u001b[2K\u001b[1;38;2;0;0;0;48;2;255;255;255mw\u001b[0m\u001b[2m Enable Watch\u001b[0m\u001b[0G\u001b8\u001b[0G\u001b7\u001b[1B\u001b[2K\u001b[1B\u001b[2K\u001b[1B\u001b[2K\u001b[1B\u001b[2K\u001b[1B\u001b[2K\u001b[1B\u001b[2K\u001b[1B\u001b[2K\u001b[1B\u001b[2K\u001b[1B\u001b[2K\u001b[1B\u001b[2K\u001b[1B\u001b[2K\u001b[1B\u001b[2K\u001b[1B\u001b[2K\u001b[1B\u001b[2K\u001b[1B\u001b[2K\u001b[1B\u001b[2K\u001b[1B\u001b[2K\u001b[1B\u001b[2K\u001b[1B\u001b[2K\u001b[1B\u001b[2K\u001b[1B\u001b[2K\u001b[1B\u001b[2K\u001b[1B\u001b[2K\u001b[1B\u001b[2K\u001b8\u001b[33mfrontend-1  | \u001b[0m2025/08/18 08:15:33 [notice] 1#1: built by gcc 14.2.0 (Alpine 14.2.0) \n",
      "\u001b[0G\u001b7\u001b[1B\u001b[2K\u001b[1B\u001b[2K\u001b[1B\u001b[2K\u001b[1B\u001b[2K\u001b[1B\u001b[2K\u001b[1B\u001b[2K\u001b[1B\u001b[2K\u001b[1B\u001b[2K\u001b[1B\u001b[2K\u001b[1B\u001b[2K\u001b[1B\u001b[2K\u001b[1B\u001b[2K\u001b[1B\u001b[2K\u001b[1B\u001b[2K\u001b[1B\u001b[2K\u001b[1B\u001b[2K\u001b[1B\u001b[2K\u001b[1B\u001b[2K\u001b[1B\u001b[2K\u001b[1B\u001b[2K\u001b[1B\u001b[2K\u001b[1B\u001b[2K\u001b[1B\u001b[2K\u001b[1B\u001b[2K\u001b8\u001b[2K\n",
      "\u001b[0G\u001b[2K\n",
      "\u001b[0G\u001b[2A\u001b[0G\u001b7\u001b[24;0H\u001b[2K\u001b[1;38;2;0;0;0;48;2;255;255;255mw\u001b[0m\u001b[2m Enable Watch\u001b[0m\u001b[0G\u001b8\u001b[0G\u001b7\u001b[1B\u001b[2K\u001b[1B\u001b[2K\u001b[1B\u001b[2K\u001b[1B\u001b[2K\u001b[1B\u001b[2K\u001b[1B\u001b[2K\u001b[1B\u001b[2K\u001b[1B\u001b[2K\u001b[1B\u001b[2K\u001b[1B\u001b[2K\u001b[1B\u001b[2K\u001b[1B\u001b[2K\u001b[1B\u001b[2K\u001b[1B\u001b[2K\u001b[1B\u001b[2K\u001b[1B\u001b[2K\u001b[1B\u001b[2K\u001b[1B\u001b[2K\u001b[1B\u001b[2K\u001b[1B\u001b[2K\u001b[1B\u001b[2K\u001b[1B\u001b[2K\u001b[1B\u001b[2K\u001b[1B\u001b[2K\u001b8\u001b[33mfrontend-1  | \u001b[0m2025/08/18 08:15:33 [notice] 1#1: OS: Linux 6.14.0-27-generic\n",
      "\u001b[0G\u001b7\u001b[1B\u001b[2K\u001b[1B\u001b[2K\u001b[1B\u001b[2K\u001b[1B\u001b[2K\u001b[1B\u001b[2K\u001b[1B\u001b[2K\u001b[1B\u001b[2K\u001b[1B\u001b[2K\u001b[1B\u001b[2K\u001b[1B\u001b[2K\u001b[1B\u001b[2K\u001b[1B\u001b[2K\u001b[1B\u001b[2K\u001b[1B\u001b[2K\u001b[1B\u001b[2K\u001b[1B\u001b[2K\u001b[1B\u001b[2K\u001b[1B\u001b[2K\u001b[1B\u001b[2K\u001b[1B\u001b[2K\u001b[1B\u001b[2K\u001b[1B\u001b[2K\u001b[1B\u001b[2K\u001b[1B\u001b[2K\u001b8\u001b[2K\n",
      "\u001b[0G\u001b[2K\n",
      "\u001b[0G\u001b[2A\u001b[0G\u001b7\u001b[24;0H\u001b[2K\u001b[1;38;2;0;0;0;48;2;255;255;255mw\u001b[0m\u001b[2m Enable Watch\u001b[0m\u001b[0G\u001b8\u001b[0G\u001b7\u001b[1B\u001b[2K\u001b[1B\u001b[2K\u001b[1B\u001b[2K\u001b[1B\u001b[2K\u001b[1B\u001b[2K\u001b[1B\u001b[2K\u001b[1B\u001b[2K\u001b[1B\u001b[2K\u001b[1B\u001b[2K\u001b[1B\u001b[2K\u001b[1B\u001b[2K\u001b[1B\u001b[2K\u001b[1B\u001b[2K\u001b[1B\u001b[2K\u001b[1B\u001b[2K\u001b[1B\u001b[2K\u001b[1B\u001b[2K\u001b[1B\u001b[2K\u001b[1B\u001b[2K\u001b[1B\u001b[2K\u001b[1B\u001b[2K\u001b[1B\u001b[2K\u001b[1B\u001b[2K\u001b[1B\u001b[2K\u001b8\u001b[33mfrontend-1  | \u001b[0m2025/08/18 08:15:33 [notice] 1#1: getrlimit(RLIMIT_NOFILE): 1048576:1048576\n",
      "\u001b[0G\u001b7\u001b[1B\u001b[2K\u001b[1B\u001b[2K\u001b[1B\u001b[2K\u001b[1B\u001b[2K\u001b[1B\u001b[2K\u001b[1B\u001b[2K\u001b[1B\u001b[2K\u001b[1B\u001b[2K\u001b[1B\u001b[2K\u001b[1B\u001b[2K\u001b[1B\u001b[2K\u001b[1B\u001b[2K\u001b[1B\u001b[2K\u001b[1B\u001b[2K\u001b[1B\u001b[2K\u001b[1B\u001b[2K\u001b[1B\u001b[2K\u001b[1B\u001b[2K\u001b[1B\u001b[2K\u001b[1B\u001b[2K\u001b[1B\u001b[2K\u001b[1B\u001b[2K\u001b[1B\u001b[2K\u001b[1B\u001b[2K\u001b8\u001b[2K\n",
      "\u001b[0G\u001b[2K\n",
      "\u001b[0G\u001b[2A\u001b[0G\u001b7\u001b[24;0H\u001b[2K\u001b[1;38;2;0;0;0;48;2;255;255;255mw\u001b[0m\u001b[2m Enable Watch\u001b[0m\u001b[0G\u001b8\u001b[0G\u001b7\u001b[1B\u001b[2K\u001b[1B\u001b[2K\u001b[1B\u001b[2K\u001b[1B\u001b[2K\u001b[1B\u001b[2K\u001b[1B\u001b[2K\u001b[1B\u001b[2K\u001b[1B\u001b[2K\u001b[1B\u001b[2K\u001b[1B\u001b[2K\u001b[1B\u001b[2K\u001b[1B\u001b[2K\u001b[1B\u001b[2K\u001b[1B\u001b[2K\u001b[1B\u001b[2K\u001b[1B\u001b[2K\u001b[1B\u001b[2K\u001b[1B\u001b[2K\u001b[1B\u001b[2K\u001b[1B\u001b[2K\u001b[1B\u001b[2K\u001b[1B\u001b[2K\u001b[1B\u001b[2K\u001b[1B\u001b[2K\u001b8\u001b[33mfrontend-1  | \u001b[0m2025/08/18 08:15:33 [notice] 1#1: start worker processes\n",
      "\u001b[0G\u001b7\u001b[1B\u001b[2K\u001b[1B\u001b[2K\u001b[1B\u001b[2K\u001b[1B\u001b[2K\u001b[1B\u001b[2K\u001b[1B\u001b[2K\u001b[1B\u001b[2K\u001b[1B\u001b[2K\u001b[1B\u001b[2K\u001b[1B\u001b[2K\u001b[1B\u001b[2K\u001b[1B\u001b[2K\u001b[1B\u001b[2K\u001b[1B\u001b[2K\u001b[1B\u001b[2K\u001b[1B\u001b[2K\u001b[1B\u001b[2K\u001b[1B\u001b[2K\u001b[1B\u001b[2K\u001b[1B\u001b[2K\u001b[1B\u001b[2K\u001b[1B\u001b[2K\u001b[1B\u001b[2K\u001b[1B\u001b[2K\u001b8\u001b[2K\n",
      "\u001b[0G\u001b[2K\n",
      "\u001b[0G\u001b[2A\u001b[0G\u001b7\u001b[24;0H\u001b[2K\u001b[1;38;2;0;0;0;48;2;255;255;255mw\u001b[0m\u001b[2m Enable Watch\u001b[0m\u001b[0G\u001b8\u001b[0G\u001b7\u001b[1B\u001b[2K\u001b[1B\u001b[2K\u001b[1B\u001b[2K\u001b[1B\u001b[2K\u001b[1B\u001b[2K\u001b[1B\u001b[2K\u001b[1B\u001b[2K\u001b[1B\u001b[2K\u001b[1B\u001b[2K\u001b[1B\u001b[2K\u001b[1B\u001b[2K\u001b[1B\u001b[2K\u001b[1B\u001b[2K\u001b[1B\u001b[2K\u001b[1B\u001b[2K\u001b[1B\u001b[2K\u001b[1B\u001b[2K\u001b[1B\u001b[2K\u001b[1B\u001b[2K\u001b[1B\u001b[2K\u001b[1B\u001b[2K\u001b[1B\u001b[2K\u001b[1B\u001b[2K\u001b[1B\u001b[2K\u001b8\u001b[33mfrontend-1  | \u001b[0m2025/08/18 08:15:33 [notice] 1#1: start worker process 30\n",
      "\u001b[0G\u001b7\u001b[1B\u001b[2K\u001b[1B\u001b[2K\u001b[1B\u001b[2K\u001b[1B\u001b[2K\u001b[1B\u001b[2K\u001b[1B\u001b[2K\u001b[1B\u001b[2K\u001b[1B\u001b[2K\u001b[1B\u001b[2K\u001b[1B\u001b[2K\u001b[1B\u001b[2K\u001b[1B\u001b[2K\u001b[1B\u001b[2K\u001b[1B\u001b[2K\u001b[1B\u001b[2K\u001b[1B\u001b[2K\u001b[1B\u001b[2K\u001b[1B\u001b[2K\u001b[1B\u001b[2K\u001b[1B\u001b[2K\u001b[1B\u001b[2K\u001b[1B\u001b[2K\u001b[1B\u001b[2K\u001b[1B\u001b[2K\u001b8\u001b[2K\n",
      "\u001b[0G\u001b[2K\n",
      "\u001b[0G\u001b[2A\u001b[0G\u001b7\u001b[24;0H\u001b[2K\u001b[1;38;2;0;0;0;48;2;255;255;255mw\u001b[0m\u001b[2m Enable Watch\u001b[0m\u001b[0G\u001b8\u001b[0G\u001b7\u001b[1B\u001b[2K\u001b[1B\u001b[2K\u001b[1B\u001b[2K\u001b[1B\u001b[2K\u001b[1B\u001b[2K\u001b[1B\u001b[2K\u001b[1B\u001b[2K\u001b[1B\u001b[2K\u001b[1B\u001b[2K\u001b[1B\u001b[2K\u001b[1B\u001b[2K\u001b[1B\u001b[2K\u001b[1B\u001b[2K\u001b[1B\u001b[2K\u001b[1B\u001b[2K\u001b[1B\u001b[2K\u001b[1B\u001b[2K\u001b[1B\u001b[2K\u001b[1B\u001b[2K\u001b[1B\u001b[2K\u001b[1B\u001b[2K\u001b[1B\u001b[2K\u001b[1B\u001b[2K\u001b[1B\u001b[2K\u001b8\u001b[33mfrontend-1  | \u001b[0m2025/08/18 08:15:33 [notice] 1#1: start worker process 31\n",
      "\u001b[0G\u001b7\u001b[1B\u001b[2K\u001b[1B\u001b[2K\u001b[1B\u001b[2K\u001b[1B\u001b[2K\u001b[1B\u001b[2K\u001b[1B\u001b[2K\u001b[1B\u001b[2K\u001b[1B\u001b[2K\u001b[1B\u001b[2K\u001b[1B\u001b[2K\u001b[1B\u001b[2K\u001b[1B\u001b[2K\u001b[1B\u001b[2K\u001b[1B\u001b[2K\u001b[1B\u001b[2K\u001b[1B\u001b[2K\u001b[1B\u001b[2K\u001b[1B\u001b[2K\u001b[1B\u001b[2K\u001b[1B\u001b[2K\u001b[1B\u001b[2K\u001b[1B\u001b[2K\u001b[1B\u001b[2K\u001b[1B\u001b[2K\u001b8\u001b[2K\n",
      "\u001b[0G\u001b[2K\n",
      "\u001b[0G\u001b[2A\u001b[0G\u001b7\u001b[24;0H\u001b[2K\u001b[1;38;2;0;0;0;48;2;255;255;255mw\u001b[0m\u001b[2m Enable Watch\u001b[0m\u001b[0G\u001b8\u001b[0G\u001b7\u001b[1B\u001b[2K\u001b[1B\u001b[2K\u001b[1B\u001b[2K\u001b[1B\u001b[2K\u001b[1B\u001b[2K\u001b[1B\u001b[2K\u001b[1B\u001b[2K\u001b[1B\u001b[2K\u001b[1B\u001b[2K\u001b[1B\u001b[2K\u001b[1B\u001b[2K\u001b[1B\u001b[2K\u001b[1B\u001b[2K\u001b[1B\u001b[2K\u001b[1B\u001b[2K\u001b[1B\u001b[2K\u001b[1B\u001b[2K\u001b[1B\u001b[2K\u001b[1B\u001b[2K\u001b[1B\u001b[2K\u001b[1B\u001b[2K\u001b[1B\u001b[2K\u001b[1B\u001b[2K\u001b[1B\u001b[2K\u001b8\u001b[33mfrontend-1  | \u001b[0m2025/08/18 08:15:33 [notice] 1#1: start worker process 32\n",
      "\u001b[0G\u001b7\u001b[1B\u001b[2K\u001b[1B\u001b[2K\u001b[1B\u001b[2K\u001b[1B\u001b[2K\u001b[1B\u001b[2K\u001b[1B\u001b[2K\u001b[1B\u001b[2K\u001b[1B\u001b[2K\u001b[1B\u001b[2K\u001b[1B\u001b[2K\u001b[1B\u001b[2K\u001b[1B\u001b[2K\u001b[1B\u001b[2K\u001b[1B\u001b[2K\u001b[1B\u001b[2K\u001b[1B\u001b[2K\u001b[1B\u001b[2K\u001b[1B\u001b[2K\u001b[1B\u001b[2K\u001b[1B\u001b[2K\u001b[1B\u001b[2K\u001b[1B\u001b[2K\u001b[1B\u001b[2K\u001b[1B\u001b[2K\u001b8\u001b[2K\n",
      "\u001b[0G\u001b[2K\n",
      "\u001b[0G\u001b[2A\u001b[0G\u001b7\u001b[24;0H\u001b[2K\u001b[1;38;2;0;0;0;48;2;255;255;255mw\u001b[0m\u001b[2m Enable Watch\u001b[0m\u001b[0G\u001b8\u001b[0G\u001b7\u001b[1B\u001b[2K\u001b[1B\u001b[2K\u001b[1B\u001b[2K\u001b[1B\u001b[2K\u001b[1B\u001b[2K\u001b[1B\u001b[2K\u001b[1B\u001b[2K\u001b[1B\u001b[2K\u001b[1B\u001b[2K\u001b[1B\u001b[2K\u001b[1B\u001b[2K\u001b[1B\u001b[2K\u001b[1B\u001b[2K\u001b[1B\u001b[2K\u001b[1B\u001b[2K\u001b[1B\u001b[2K\u001b[1B\u001b[2K\u001b[1B\u001b[2K\u001b[1B\u001b[2K\u001b[1B\u001b[2K\u001b[1B\u001b[2K\u001b[1B\u001b[2K\u001b[1B\u001b[2K\u001b[1B\u001b[2K\u001b8\u001b[33mfrontend-1  | \u001b[0m2025/08/18 08:15:33 [notice] 1#1: start worker process 33\n",
      "\u001b[0G\u001b7\u001b[1B\u001b[2K\u001b[1B\u001b[2K\u001b[1B\u001b[2K\u001b[1B\u001b[2K\u001b[1B\u001b[2K\u001b[1B\u001b[2K\u001b[1B\u001b[2K\u001b[1B\u001b[2K\u001b[1B\u001b[2K\u001b[1B\u001b[2K\u001b[1B\u001b[2K\u001b[1B\u001b[2K\u001b[1B\u001b[2K\u001b[1B\u001b[2K\u001b[1B\u001b[2K\u001b[1B\u001b[2K\u001b[1B\u001b[2K\u001b[1B\u001b[2K\u001b[1B\u001b[2K\u001b[1B\u001b[2K\u001b[1B\u001b[2K\u001b[1B\u001b[2K\u001b[1B\u001b[2K\u001b[1B\u001b[2K\u001b8\u001b[2K\n",
      "\u001b[0G\u001b[2K\n",
      "\u001b[0G\u001b[2A\u001b[0G\u001b7\u001b[24;0H\u001b[2K\u001b[1;38;2;0;0;0;48;2;255;255;255mw\u001b[0m\u001b[2m Enable Watch\u001b[0m\u001b[0G\u001b8\u001b[0G\u001b7\u001b[1B\u001b[2K\u001b[1B\u001b[2K\u001b[1B\u001b[2K\u001b[1B\u001b[2K\u001b[1B\u001b[2K\u001b[1B\u001b[2K\u001b[1B\u001b[2K\u001b[1B\u001b[2K\u001b[1B\u001b[2K\u001b[1B\u001b[2K\u001b[1B\u001b[2K\u001b[1B\u001b[2K\u001b[1B\u001b[2K\u001b[1B\u001b[2K\u001b[1B\u001b[2K\u001b[1B\u001b[2K\u001b[1B\u001b[2K\u001b[1B\u001b[2K\u001b[1B\u001b[2K\u001b[1B\u001b[2K\u001b[1B\u001b[2K\u001b[1B\u001b[2K\u001b[1B\u001b[2K\u001b[1B\u001b[2K\u001b8\u001b[33mfrontend-1  | \u001b[0m2025/08/18 08:15:33 [notice] 1#1: start worker process 34\n",
      "\u001b[0G\u001b7\u001b[1B\u001b[2K\u001b[1B\u001b[2K\u001b[1B\u001b[2K\u001b[1B\u001b[2K\u001b[1B\u001b[2K\u001b[1B\u001b[2K\u001b[1B\u001b[2K\u001b[1B\u001b[2K\u001b[1B\u001b[2K\u001b[1B\u001b[2K\u001b[1B\u001b[2K\u001b[1B\u001b[2K\u001b[1B\u001b[2K\u001b[1B\u001b[2K\u001b[1B\u001b[2K\u001b[1B\u001b[2K\u001b[1B\u001b[2K\u001b[1B\u001b[2K\u001b[1B\u001b[2K\u001b[1B\u001b[2K\u001b[1B\u001b[2K\u001b[1B\u001b[2K\u001b[1B\u001b[2K\u001b[1B\u001b[2K\u001b8\u001b[2K\n",
      "\u001b[0G\u001b[2K\n",
      "\u001b[0G\u001b[2A\u001b[0G\u001b7\u001b[24;0H\u001b[2K\u001b[1;38;2;0;0;0;48;2;255;255;255mw\u001b[0m\u001b[2m Enable Watch\u001b[0m\u001b[0G\u001b8\u001b[0G\u001b7\u001b[1B\u001b[2K\u001b[1B\u001b[2K\u001b[1B\u001b[2K\u001b[1B\u001b[2K\u001b[1B\u001b[2K\u001b[1B\u001b[2K\u001b[1B\u001b[2K\u001b[1B\u001b[2K\u001b[1B\u001b[2K\u001b[1B\u001b[2K\u001b[1B\u001b[2K\u001b[1B\u001b[2K\u001b[1B\u001b[2K\u001b[1B\u001b[2K\u001b[1B\u001b[2K\u001b[1B\u001b[2K\u001b[1B\u001b[2K\u001b[1B\u001b[2K\u001b[1B\u001b[2K\u001b[1B\u001b[2K\u001b[1B\u001b[2K\u001b[1B\u001b[2K\u001b[1B\u001b[2K\u001b[1B\u001b[2K\u001b8\u001b[33mfrontend-1  | \u001b[0m2025/08/18 08:15:33 [notice] 1#1: start worker process 35\n",
      "\u001b[0G\u001b7\u001b[1B\u001b[2K\u001b[1B\u001b[2K\u001b[1B\u001b[2K\u001b[1B\u001b[2K\u001b[1B\u001b[2K\u001b[1B\u001b[2K\u001b[1B\u001b[2K\u001b[1B\u001b[2K\u001b[1B\u001b[2K\u001b[1B\u001b[2K\u001b[1B\u001b[2K\u001b[1B\u001b[2K\u001b[1B\u001b[2K\u001b[1B\u001b[2K\u001b[1B\u001b[2K\u001b[1B\u001b[2K\u001b[1B\u001b[2K\u001b[1B\u001b[2K\u001b[1B\u001b[2K\u001b[1B\u001b[2K\u001b[1B\u001b[2K\u001b[1B\u001b[2K\u001b[1B\u001b[2K\u001b[1B\u001b[2K\u001b8\u001b[2K\n",
      "\u001b[0G\u001b[2K\n",
      "\u001b[0G\u001b[2A\u001b[0G\u001b7\u001b[24;0H\u001b[2K\u001b[1;38;2;0;0;0;48;2;255;255;255mw\u001b[0m\u001b[2m Enable Watch\u001b[0m\u001b[0G\u001b8\u001b[0G\u001b7\u001b[1B\u001b[2K\u001b[1B\u001b[2K\u001b[1B\u001b[2K\u001b[1B\u001b[2K\u001b[1B\u001b[2K\u001b[1B\u001b[2K\u001b[1B\u001b[2K\u001b[1B\u001b[2K\u001b[1B\u001b[2K\u001b[1B\u001b[2K\u001b[1B\u001b[2K\u001b[1B\u001b[2K\u001b[1B\u001b[2K\u001b[1B\u001b[2K\u001b[1B\u001b[2K\u001b[1B\u001b[2K\u001b[1B\u001b[2K\u001b[1B\u001b[2K\u001b[1B\u001b[2K\u001b[1B\u001b[2K\u001b[1B\u001b[2K\u001b[1B\u001b[2K\u001b[1B\u001b[2K\u001b[1B\u001b[2K\u001b8\u001b[33mfrontend-1  | \u001b[0m2025/08/18 08:15:33 [notice] 1#1: start worker process 36\n",
      "\u001b[0G\u001b7\u001b[1B\u001b[2K\u001b[1B\u001b[2K\u001b[1B\u001b[2K\u001b[1B\u001b[2K\u001b[1B\u001b[2K\u001b[1B\u001b[2K\u001b[1B\u001b[2K\u001b[1B\u001b[2K\u001b[1B\u001b[2K\u001b[1B\u001b[2K\u001b[1B\u001b[2K\u001b[1B\u001b[2K\u001b[1B\u001b[2K\u001b[1B\u001b[2K\u001b[1B\u001b[2K\u001b[1B\u001b[2K\u001b[1B\u001b[2K\u001b[1B\u001b[2K\u001b[1B\u001b[2K\u001b[1B\u001b[2K\u001b[1B\u001b[2K\u001b[1B\u001b[2K\u001b[1B\u001b[2K\u001b[1B\u001b[2K\u001b8\u001b[2K\n",
      "\u001b[0G\u001b[2K\n",
      "\u001b[0G\u001b[2A\u001b[0G\u001b7\u001b[24;0H\u001b[2K\u001b[1;38;2;0;0;0;48;2;255;255;255mw\u001b[0m\u001b[2m Enable Watch\u001b[0m\u001b[0G\u001b8\u001b[0G\u001b7\u001b[1B\u001b[2K\u001b[1B\u001b[2K\u001b[1B\u001b[2K\u001b[1B\u001b[2K\u001b[1B\u001b[2K\u001b[1B\u001b[2K\u001b[1B\u001b[2K\u001b[1B\u001b[2K\u001b[1B\u001b[2K\u001b[1B\u001b[2K\u001b[1B\u001b[2K\u001b[1B\u001b[2K\u001b[1B\u001b[2K\u001b[1B\u001b[2K\u001b[1B\u001b[2K\u001b[1B\u001b[2K\u001b[1B\u001b[2K\u001b[1B\u001b[2K\u001b[1B\u001b[2K\u001b[1B\u001b[2K\u001b[1B\u001b[2K\u001b[1B\u001b[2K\u001b[1B\u001b[2K\u001b[1B\u001b[2K\u001b8\u001b[33mfrontend-1  | \u001b[0m2025/08/18 08:15:33 [notice] 1#1: start worker process 37\n",
      "\u001b[0G\u001b7\u001b[1B\u001b[2K\u001b[1B\u001b[2K\u001b[1B\u001b[2K\u001b[1B\u001b[2K\u001b[1B\u001b[2K\u001b[1B\u001b[2K\u001b[1B\u001b[2K\u001b[1B\u001b[2K\u001b[1B\u001b[2K\u001b[1B\u001b[2K\u001b[1B\u001b[2K\u001b[1B\u001b[2K\u001b[1B\u001b[2K\u001b[1B\u001b[2K\u001b[1B\u001b[2K\u001b[1B\u001b[2K\u001b[1B\u001b[2K\u001b[1B\u001b[2K\u001b[1B\u001b[2K\u001b[1B\u001b[2K\u001b[1B\u001b[2K\u001b[1B\u001b[2K\u001b[1B\u001b[2K\u001b[1B\u001b[2K\u001b8\u001b[2K\n",
      "\u001b[0G\u001b[2K\n",
      "\u001b[0G\u001b[2A\u001b[0G\u001b7\u001b[24;0H\u001b[2K\u001b[1;38;2;0;0;0;48;2;255;255;255mw\u001b[0m\u001b[2m Enable Watch\u001b[0m\u001b[0G\u001b8\u001b[0G\u001b7\u001b[1B\u001b[2K\u001b[1B\u001b[2K\u001b[1B\u001b[2K\u001b[1B\u001b[2K\u001b[1B\u001b[2K\u001b[1B\u001b[2K\u001b[1B\u001b[2K\u001b[1B\u001b[2K\u001b[1B\u001b[2K\u001b[1B\u001b[2K\u001b[1B\u001b[2K\u001b[1B\u001b[2K\u001b[1B\u001b[2K\u001b[1B\u001b[2K\u001b[1B\u001b[2K\u001b[1B\u001b[2K\u001b[1B\u001b[2K\u001b[1B\u001b[2K\u001b[1B\u001b[2K\u001b[1B\u001b[2K\u001b[1B\u001b[2K\u001b[1B\u001b[2K\u001b[1B\u001b[2K\u001b[1B\u001b[2K\u001b8\u001b[33mfrontend-1  | \u001b[0m2025/08/18 08:15:33 [notice] 1#1: start worker process 38\n",
      "\u001b[0G\u001b7\u001b[1B\u001b[2K\u001b[1B\u001b[2K\u001b[1B\u001b[2K\u001b[1B\u001b[2K\u001b[1B\u001b[2K\u001b[1B\u001b[2K\u001b[1B\u001b[2K\u001b[1B\u001b[2K\u001b[1B\u001b[2K\u001b[1B\u001b[2K\u001b[1B\u001b[2K\u001b[1B\u001b[2K\u001b[1B\u001b[2K\u001b[1B\u001b[2K\u001b[1B\u001b[2K\u001b[1B\u001b[2K\u001b[1B\u001b[2K\u001b[1B\u001b[2K\u001b[1B\u001b[2K\u001b[1B\u001b[2K\u001b[1B\u001b[2K\u001b[1B\u001b[2K\u001b[1B\u001b[2K\u001b[1B\u001b[2K\u001b8\u001b[2K\n",
      "\u001b[0G\u001b[2K\n",
      "\u001b[0G\u001b[2A\u001b[0G\u001b7\u001b[24;0H\u001b[2K\u001b[1;38;2;0;0;0;48;2;255;255;255mw\u001b[0m\u001b[2m Enable Watch\u001b[0m\u001b[0G\u001b8\u001b[0G\u001b7\u001b[1B\u001b[2K\u001b[1B\u001b[2K\u001b[1B\u001b[2K\u001b[1B\u001b[2K\u001b[1B\u001b[2K\u001b[1B\u001b[2K\u001b[1B\u001b[2K\u001b[1B\u001b[2K\u001b[1B\u001b[2K\u001b[1B\u001b[2K\u001b[1B\u001b[2K\u001b[1B\u001b[2K\u001b[1B\u001b[2K\u001b[1B\u001b[2K\u001b[1B\u001b[2K\u001b[1B\u001b[2K\u001b[1B\u001b[2K\u001b[1B\u001b[2K\u001b[1B\u001b[2K\u001b[1B\u001b[2K\u001b[1B\u001b[2K\u001b[1B\u001b[2K\u001b[1B\u001b[2K\u001b[1B\u001b[2K\u001b8\u001b[33mfrontend-1  | \u001b[0m2025/08/18 08:15:33 [notice] 1#1: start worker process 39\n",
      "\u001b[0G\u001b7\u001b[1B\u001b[2K\u001b[1B\u001b[2K\u001b[1B\u001b[2K\u001b[1B\u001b[2K\u001b[1B\u001b[2K\u001b[1B\u001b[2K\u001b[1B\u001b[2K\u001b[1B\u001b[2K\u001b[1B\u001b[2K\u001b[1B\u001b[2K\u001b[1B\u001b[2K\u001b[1B\u001b[2K\u001b[1B\u001b[2K\u001b[1B\u001b[2K\u001b[1B\u001b[2K\u001b[1B\u001b[2K\u001b[1B\u001b[2K\u001b[1B\u001b[2K\u001b[1B\u001b[2K\u001b[1B\u001b[2K\u001b[1B\u001b[2K\u001b[1B\u001b[2K\u001b[1B\u001b[2K\u001b[1B\u001b[2K\u001b8\u001b[2K\n",
      "\u001b[0G\u001b[2K\n",
      "\u001b[0G\u001b[2A\u001b[0G\u001b7\u001b[24;0H\u001b[2K\u001b[1;38;2;0;0;0;48;2;255;255;255mw\u001b[0m\u001b[2m Enable Watch\u001b[0m\u001b[0G\u001b8\u001b[0G\u001b7\u001b[1B\u001b[2K\u001b[1B\u001b[2K\u001b[1B\u001b[2K\u001b[1B\u001b[2K\u001b[1B\u001b[2K\u001b[1B\u001b[2K\u001b[1B\u001b[2K\u001b[1B\u001b[2K\u001b[1B\u001b[2K\u001b[1B\u001b[2K\u001b[1B\u001b[2K\u001b[1B\u001b[2K\u001b[1B\u001b[2K\u001b[1B\u001b[2K\u001b[1B\u001b[2K\u001b[1B\u001b[2K\u001b[1B\u001b[2K\u001b[1B\u001b[2K\u001b[1B\u001b[2K\u001b[1B\u001b[2K\u001b[1B\u001b[2K\u001b[1B\u001b[2K\u001b[1B\u001b[2K\u001b[1B\u001b[2K\u001b8\u001b[33mfrontend-1  | \u001b[0m2025/08/18 08:15:33 [notice] 1#1: start worker process 40\n",
      "\u001b[0G\u001b7\u001b[1B\u001b[2K\u001b[1B\u001b[2K\u001b[1B\u001b[2K\u001b[1B\u001b[2K\u001b[1B\u001b[2K\u001b[1B\u001b[2K\u001b[1B\u001b[2K\u001b[1B\u001b[2K\u001b[1B\u001b[2K\u001b[1B\u001b[2K\u001b[1B\u001b[2K\u001b[1B\u001b[2K\u001b[1B\u001b[2K\u001b[1B\u001b[2K\u001b[1B\u001b[2K\u001b[1B\u001b[2K\u001b[1B\u001b[2K\u001b[1B\u001b[2K\u001b[1B\u001b[2K\u001b[1B\u001b[2K\u001b[1B\u001b[2K\u001b[1B\u001b[2K\u001b[1B\u001b[2K\u001b[1B\u001b[2K\u001b8\u001b[2K\n",
      "\u001b[0G\u001b[2K\n",
      "\u001b[0G\u001b[2A\u001b[0G\u001b7\u001b[24;0H\u001b[2K\u001b[1;38;2;0;0;0;48;2;255;255;255mw\u001b[0m\u001b[2m Enable Watch\u001b[0m\u001b[0G\u001b8\u001b[0G\u001b7\u001b[1B\u001b[2K\u001b[1B\u001b[2K\u001b[1B\u001b[2K\u001b[1B\u001b[2K\u001b[1B\u001b[2K\u001b[1B\u001b[2K\u001b[1B\u001b[2K\u001b[1B\u001b[2K\u001b[1B\u001b[2K\u001b[1B\u001b[2K\u001b[1B\u001b[2K\u001b[1B\u001b[2K\u001b[1B\u001b[2K\u001b[1B\u001b[2K\u001b[1B\u001b[2K\u001b[1B\u001b[2K\u001b[1B\u001b[2K\u001b[1B\u001b[2K\u001b[1B\u001b[2K\u001b[1B\u001b[2K\u001b[1B\u001b[2K\u001b[1B\u001b[2K\u001b[1B\u001b[2K\u001b[1B\u001b[2K\u001b8\u001b[33mfrontend-1  | \u001b[0m2025/08/18 08:15:33 [notice] 1#1: start worker process 41\n",
      "\u001b[0G\u001b7\u001b[1B\u001b[2K\u001b[1B\u001b[2K\u001b[1B\u001b[2K\u001b[1B\u001b[2K\u001b[1B\u001b[2K\u001b[1B\u001b[2K\u001b[1B\u001b[2K\u001b[1B\u001b[2K\u001b[1B\u001b[2K\u001b[1B\u001b[2K\u001b[1B\u001b[2K\u001b[1B\u001b[2K\u001b[1B\u001b[2K\u001b[1B\u001b[2K\u001b[1B\u001b[2K\u001b[1B\u001b[2K\u001b[1B\u001b[2K\u001b[1B\u001b[2K\u001b[1B\u001b[2K\u001b[1B\u001b[2K\u001b[1B\u001b[2K\u001b[1B\u001b[2K\u001b[1B\u001b[2K\u001b[1B\u001b[2K\u001b8\u001b[2K\n",
      "\u001b[0G\u001b[2K\n",
      "\u001b[0G\u001b[2A\u001b[0G\u001b7\u001b[24;0H\u001b[2K\u001b[1;38;2;0;0;0;48;2;255;255;255mw\u001b[0m\u001b[2m Enable Watch\u001b[0m\u001b[0G\u001b8\u001b[0G\u001b7\u001b[1B\u001b[2K\u001b[1B\u001b[2K\u001b[1B\u001b[2K\u001b[1B\u001b[2K\u001b[1B\u001b[2K\u001b[1B\u001b[2K\u001b[1B\u001b[2K\u001b[1B\u001b[2K\u001b[1B\u001b[2K\u001b[1B\u001b[2K\u001b[1B\u001b[2K\u001b[1B\u001b[2K\u001b[1B\u001b[2K\u001b[1B\u001b[2K\u001b[1B\u001b[2K\u001b[1B\u001b[2K\u001b[1B\u001b[2K\u001b[1B\u001b[2K\u001b[1B\u001b[2K\u001b[1B\u001b[2K\u001b[1B\u001b[2K\u001b[1B\u001b[2K\u001b[1B\u001b[2K\u001b[1B\u001b[2K\u001b8\u001b[33mfrontend-1  | \u001b[0m2025/08/18 08:15:33 [notice] 1#1: start worker process 42\n",
      "\u001b[0G\u001b7\u001b[1B\u001b[2K\u001b[1B\u001b[2K\u001b[1B\u001b[2K\u001b[1B\u001b[2K\u001b[1B\u001b[2K\u001b[1B\u001b[2K\u001b[1B\u001b[2K\u001b[1B\u001b[2K\u001b[1B\u001b[2K\u001b[1B\u001b[2K\u001b[1B\u001b[2K\u001b[1B\u001b[2K\u001b[1B\u001b[2K\u001b[1B\u001b[2K\u001b[1B\u001b[2K\u001b[1B\u001b[2K\u001b[1B\u001b[2K\u001b[1B\u001b[2K\u001b[1B\u001b[2K\u001b[1B\u001b[2K\u001b[1B\u001b[2K\u001b[1B\u001b[2K\u001b[1B\u001b[2K\u001b[1B\u001b[2K\u001b8\u001b[2K\n",
      "\u001b[0G\u001b[2K\n",
      "\u001b[0G\u001b[2A\u001b[0G\u001b7\u001b[24;0H\u001b[2K\u001b[1;38;2;0;0;0;48;2;255;255;255mw\u001b[0m\u001b[2m Enable Watch\u001b[0m\u001b[0G\u001b8\u001b[0G\u001b7\u001b[1B\u001b[2K\u001b[1B\u001b[2K\u001b[1B\u001b[2K\u001b[1B\u001b[2K\u001b[1B\u001b[2K\u001b[1B\u001b[2K\u001b[1B\u001b[2K\u001b[1B\u001b[2K\u001b[1B\u001b[2K\u001b[1B\u001b[2K\u001b[1B\u001b[2K\u001b[1B\u001b[2K\u001b[1B\u001b[2K\u001b[1B\u001b[2K\u001b[1B\u001b[2K\u001b[1B\u001b[2K\u001b[1B\u001b[2K\u001b[1B\u001b[2K\u001b[1B\u001b[2K\u001b[1B\u001b[2K\u001b[1B\u001b[2K\u001b[1B\u001b[2K\u001b[1B\u001b[2K\u001b[1B\u001b[2K\u001b8\u001b[33mfrontend-1  | \u001b[0m2025/08/18 08:15:33 [notice] 1#1: start worker process 43\n",
      "\u001b[0G\u001b7\u001b[1B\u001b[2K\u001b[1B\u001b[2K\u001b[1B\u001b[2K\u001b[1B\u001b[2K\u001b[1B\u001b[2K\u001b[1B\u001b[2K\u001b[1B\u001b[2K\u001b[1B\u001b[2K\u001b[1B\u001b[2K\u001b[1B\u001b[2K\u001b[1B\u001b[2K\u001b[1B\u001b[2K\u001b[1B\u001b[2K\u001b[1B\u001b[2K\u001b[1B\u001b[2K\u001b[1B\u001b[2K\u001b[1B\u001b[2K\u001b[1B\u001b[2K\u001b[1B\u001b[2K\u001b[1B\u001b[2K\u001b[1B\u001b[2K\u001b[1B\u001b[2K\u001b[1B\u001b[2K\u001b[1B\u001b[2K\u001b8\u001b[2K\n",
      "\u001b[0G\u001b[2K\n",
      "\u001b[0G\u001b[2A\u001b[0G\u001b7\u001b[24;0H\u001b[2K\u001b[1;38;2;0;0;0;48;2;255;255;255mw\u001b[0m\u001b[2m Enable Watch\u001b[0m\u001b[0G\u001b8\u001b[0G\u001b7\u001b[1B\u001b[2K\u001b[1B\u001b[2K\u001b[1B\u001b[2K\u001b[1B\u001b[2K\u001b[1B\u001b[2K\u001b[1B\u001b[2K\u001b[1B\u001b[2K\u001b[1B\u001b[2K\u001b[1B\u001b[2K\u001b[1B\u001b[2K\u001b[1B\u001b[2K\u001b[1B\u001b[2K\u001b[1B\u001b[2K\u001b[1B\u001b[2K\u001b[1B\u001b[2K\u001b[1B\u001b[2K\u001b[1B\u001b[2K\u001b[1B\u001b[2K\u001b[1B\u001b[2K\u001b[1B\u001b[2K\u001b[1B\u001b[2K\u001b[1B\u001b[2K\u001b[1B\u001b[2K\u001b[1B\u001b[2K\u001b8\u001b[33mfrontend-1  | \u001b[0m2025/08/18 08:15:33 [notice] 1#1: start worker process 44\n",
      "\u001b[0G\u001b7\u001b[1B\u001b[2K\u001b[1B\u001b[2K\u001b[1B\u001b[2K\u001b[1B\u001b[2K\u001b[1B\u001b[2K\u001b[1B\u001b[2K\u001b[1B\u001b[2K\u001b[1B\u001b[2K\u001b[1B\u001b[2K\u001b[1B\u001b[2K\u001b[1B\u001b[2K\u001b[1B\u001b[2K\u001b[1B\u001b[2K\u001b[1B\u001b[2K\u001b[1B\u001b[2K\u001b[1B\u001b[2K\u001b[1B\u001b[2K\u001b[1B\u001b[2K\u001b[1B\u001b[2K\u001b[1B\u001b[2K\u001b[1B\u001b[2K\u001b[1B\u001b[2K\u001b[1B\u001b[2K\u001b[1B\u001b[2K\u001b8\u001b[2K\n",
      "\u001b[0G\u001b[2K\n",
      "\u001b[0G\u001b[2A\u001b[0G\u001b7\u001b[24;0H\u001b[2K\u001b[1;38;2;0;0;0;48;2;255;255;255mw\u001b[0m\u001b[2m Enable Watch\u001b[0m\u001b[0G\u001b8\u001b[0G\u001b7\u001b[1B\u001b[2K\u001b[1B\u001b[2K\u001b[1B\u001b[2K\u001b[1B\u001b[2K\u001b[1B\u001b[2K\u001b[1B\u001b[2K\u001b[1B\u001b[2K\u001b[1B\u001b[2K\u001b[1B\u001b[2K\u001b[1B\u001b[2K\u001b[1B\u001b[2K\u001b[1B\u001b[2K\u001b[1B\u001b[2K\u001b[1B\u001b[2K\u001b[1B\u001b[2K\u001b[1B\u001b[2K\u001b[1B\u001b[2K\u001b[1B\u001b[2K\u001b[1B\u001b[2K\u001b[1B\u001b[2K\u001b[1B\u001b[2K\u001b[1B\u001b[2K\u001b[1B\u001b[2K\u001b[1B\u001b[2K\u001b8\u001b[33mfrontend-1  | \u001b[0m2025/08/18 08:15:33 [notice] 1#1: start worker process 45\n",
      "\u001b[0G\u001b7\u001b[1B\u001b[2K\u001b[1B\u001b[2K\u001b[1B\u001b[2K\u001b[1B\u001b[2K\u001b[1B\u001b[2K\u001b[1B\u001b[2K\u001b[1B\u001b[2K\u001b[1B\u001b[2K\u001b[1B\u001b[2K\u001b[1B\u001b[2K\u001b[1B\u001b[2K\u001b[1B\u001b[2K\u001b[1B\u001b[2K\u001b[1B\u001b[2K\u001b[1B\u001b[2K\u001b[1B\u001b[2K\u001b[1B\u001b[2K\u001b[1B\u001b[2K\u001b[1B\u001b[2K\u001b[1B\u001b[2K\u001b[1B\u001b[2K\u001b[1B\u001b[2K\u001b[1B\u001b[2K\u001b[1B\u001b[2K\u001b8\u001b[2K\n",
      "\u001b[0G\u001b[2K\n",
      "\u001b[0G\u001b[2A\u001b[0G\u001b7\u001b[24;0H\u001b[2K\u001b[1;38;2;0;0;0;48;2;255;255;255mw\u001b[0m\u001b[2m Enable Watch\u001b[0m\u001b[0G\u001b8\u001b[0G\u001b7\u001b[1B\u001b[2K\u001b[1B\u001b[2K\u001b[1B\u001b[2K\u001b[1B\u001b[2K\u001b[1B\u001b[2K\u001b[1B\u001b[2K\u001b[1B\u001b[2K\u001b[1B\u001b[2K\u001b[1B\u001b[2K\u001b[1B\u001b[2K\u001b[1B\u001b[2K\u001b[1B\u001b[2K\u001b[1B\u001b[2K\u001b[1B\u001b[2K\u001b[1B\u001b[2K\u001b[1B\u001b[2K\u001b[1B\u001b[2K\u001b[1B\u001b[2K\u001b[1B\u001b[2K\u001b[1B\u001b[2K\u001b[1B\u001b[2K\u001b[1B\u001b[2K\u001b[1B\u001b[2K\u001b[1B\u001b[2K\u001b8\u001b[33mfrontend-1  | \u001b[0m2025/08/18 08:15:33 [notice] 1#1: start worker process 46\n",
      "\u001b[0G\u001b7\u001b[1B\u001b[2K\u001b[1B\u001b[2K\u001b[1B\u001b[2K\u001b[1B\u001b[2K\u001b[1B\u001b[2K\u001b[1B\u001b[2K\u001b[1B\u001b[2K\u001b[1B\u001b[2K\u001b[1B\u001b[2K\u001b[1B\u001b[2K\u001b[1B\u001b[2K\u001b[1B\u001b[2K\u001b[1B\u001b[2K\u001b[1B\u001b[2K\u001b[1B\u001b[2K\u001b[1B\u001b[2K\u001b[1B\u001b[2K\u001b[1B\u001b[2K\u001b[1B\u001b[2K\u001b[1B\u001b[2K\u001b[1B\u001b[2K\u001b[1B\u001b[2K\u001b[1B\u001b[2K\u001b[1B\u001b[2K\u001b8\u001b[2K\n",
      "\u001b[0G\u001b[2K\n",
      "\u001b[0G\u001b[2A\u001b[0G\u001b7\u001b[24;0H\u001b[2K\u001b[1;38;2;0;0;0;48;2;255;255;255mw\u001b[0m\u001b[2m Enable Watch\u001b[0m\u001b[0G\u001b8\u001b[0G\u001b7\u001b[1B\u001b[2K\u001b[1B\u001b[2K\u001b[1B\u001b[2K\u001b[1B\u001b[2K\u001b[1B\u001b[2K\u001b[1B\u001b[2K\u001b[1B\u001b[2K\u001b[1B\u001b[2K\u001b[1B\u001b[2K\u001b[1B\u001b[2K\u001b[1B\u001b[2K\u001b[1B\u001b[2K\u001b[1B\u001b[2K\u001b[1B\u001b[2K\u001b[1B\u001b[2K\u001b[1B\u001b[2K\u001b[1B\u001b[2K\u001b[1B\u001b[2K\u001b[1B\u001b[2K\u001b[1B\u001b[2K\u001b[1B\u001b[2K\u001b[1B\u001b[2K\u001b[1B\u001b[2K\u001b[1B\u001b[2K\u001b8\u001b[36mbackend-1   | \u001b[0m10-listen-on-ipv6-by-default.sh: info: Getting the checksum of /etc/nginx/conf.d/default.conf\n",
      "\u001b[0G\u001b7\u001b[1B\u001b[2K\u001b[1B\u001b[2K\u001b[1B\u001b[2K\u001b[1B\u001b[2K\u001b[1B\u001b[2K\u001b[1B\u001b[2K\u001b[1B\u001b[2K\u001b[1B\u001b[2K\u001b[1B\u001b[2K\u001b[1B\u001b[2K\u001b[1B\u001b[2K\u001b[1B\u001b[2K\u001b[1B\u001b[2K\u001b[1B\u001b[2K\u001b[1B\u001b[2K\u001b[1B\u001b[2K\u001b[1B\u001b[2K\u001b[1B\u001b[2K\u001b[1B\u001b[2K\u001b[1B\u001b[2K\u001b[1B\u001b[2K\u001b[1B\u001b[2K\u001b[1B\u001b[2K\u001b[1B\u001b[2K\u001b8\u001b[2K\n",
      "\u001b[0G\u001b[2K\n",
      "\u001b[0G\u001b[2A\u001b[0G\u001b7\u001b[24;0H\u001b[2K\u001b[1;38;2;0;0;0;48;2;255;255;255mw\u001b[0m\u001b[2m Enable Watch\u001b[0m\u001b[0G\u001b8\u001b[0G\u001b7\u001b[1B\u001b[2K\u001b[1B\u001b[2K\u001b[1B\u001b[2K\u001b[1B\u001b[2K\u001b[1B\u001b[2K\u001b[1B\u001b[2K\u001b[1B\u001b[2K\u001b[1B\u001b[2K\u001b[1B\u001b[2K\u001b[1B\u001b[2K\u001b[1B\u001b[2K\u001b[1B\u001b[2K\u001b[1B\u001b[2K\u001b[1B\u001b[2K\u001b[1B\u001b[2K\u001b[1B\u001b[2K\u001b[1B\u001b[2K\u001b[1B\u001b[2K\u001b[1B\u001b[2K\u001b[1B\u001b[2K\u001b[1B\u001b[2K\u001b[1B\u001b[2K\u001b[1B\u001b[2K\u001b[1B\u001b[2K\u001b8\u001b[33mfrontend-1  | \u001b[0m2025/08/18 08:15:33 [notice] 1#1: start worker process 47\n",
      "\u001b[0G\u001b7\u001b[1B\u001b[2K\u001b[1B\u001b[2K\u001b[1B\u001b[2K\u001b[1B\u001b[2K\u001b[1B\u001b[2K\u001b[1B\u001b[2K\u001b[1B\u001b[2K\u001b[1B\u001b[2K\u001b[1B\u001b[2K\u001b[1B\u001b[2K\u001b[1B\u001b[2K\u001b[1B\u001b[2K\u001b[1B\u001b[2K\u001b[1B\u001b[2K\u001b[1B\u001b[2K\u001b[1B\u001b[2K\u001b[1B\u001b[2K\u001b[1B\u001b[2K\u001b[1B\u001b[2K\u001b[1B\u001b[2K\u001b[1B\u001b[2K\u001b[1B\u001b[2K\u001b[1B\u001b[2K\u001b[1B\u001b[2K\u001b8\u001b[2K\n",
      "\u001b[0G\u001b[2K\n",
      "\u001b[0G\u001b[2A\u001b[0G\u001b7\u001b[24;0H\u001b[2K\u001b[1;38;2;0;0;0;48;2;255;255;255mw\u001b[0m\u001b[2m Enable Watch\u001b[0m\u001b[0G\u001b8\u001b[0G\u001b7\u001b[1B\u001b[2K\u001b[1B\u001b[2K\u001b[1B\u001b[2K\u001b[1B\u001b[2K\u001b[1B\u001b[2K\u001b[1B\u001b[2K\u001b[1B\u001b[2K\u001b[1B\u001b[2K\u001b[1B\u001b[2K\u001b[1B\u001b[2K\u001b[1B\u001b[2K\u001b[1B\u001b[2K\u001b[1B\u001b[2K\u001b[1B\u001b[2K\u001b[1B\u001b[2K\u001b[1B\u001b[2K\u001b[1B\u001b[2K\u001b[1B\u001b[2K\u001b[1B\u001b[2K\u001b[1B\u001b[2K\u001b[1B\u001b[2K\u001b[1B\u001b[2K\u001b[1B\u001b[2K\u001b[1B\u001b[2K\u001b8\u001b[33mfrontend-1  | \u001b[0m2025/08/18 08:15:33 [notice] 1#1: start worker process 48\n",
      "\u001b[0G\u001b7\u001b[1B\u001b[2K\u001b[1B\u001b[2K\u001b[1B\u001b[2K\u001b[1B\u001b[2K\u001b[1B\u001b[2K\u001b[1B\u001b[2K\u001b[1B\u001b[2K\u001b[1B\u001b[2K\u001b[1B\u001b[2K\u001b[1B\u001b[2K\u001b[1B\u001b[2K\u001b[1B\u001b[2K\u001b[1B\u001b[2K\u001b[1B\u001b[2K\u001b[1B\u001b[2K\u001b[1B\u001b[2K\u001b[1B\u001b[2K\u001b[1B\u001b[2K\u001b[1B\u001b[2K\u001b[1B\u001b[2K\u001b[1B\u001b[2K\u001b[1B\u001b[2K\u001b[1B\u001b[2K\u001b[1B\u001b[2K\u001b8\u001b[2K\n",
      "\u001b[0G\u001b[2K\n",
      "\u001b[0G\u001b[2A\u001b[0G\u001b7\u001b[24;0H\u001b[2K\u001b[1;38;2;0;0;0;48;2;255;255;255mw\u001b[0m\u001b[2m Enable Watch\u001b[0m\u001b[0G\u001b8\u001b[0G\u001b7\u001b[1B\u001b[2K\u001b[1B\u001b[2K\u001b[1B\u001b[2K\u001b[1B\u001b[2K\u001b[1B\u001b[2K\u001b[1B\u001b[2K\u001b[1B\u001b[2K\u001b[1B\u001b[2K\u001b[1B\u001b[2K\u001b[1B\u001b[2K\u001b[1B\u001b[2K\u001b[1B\u001b[2K\u001b[1B\u001b[2K\u001b[1B\u001b[2K\u001b[1B\u001b[2K\u001b[1B\u001b[2K\u001b[1B\u001b[2K\u001b[1B\u001b[2K\u001b[1B\u001b[2K\u001b[1B\u001b[2K\u001b[1B\u001b[2K\u001b[1B\u001b[2K\u001b[1B\u001b[2K\u001b[1B\u001b[2K\u001b8\u001b[33mfrontend-1  | \u001b[0m2025/08/18 08:15:33 [notice] 1#1: start worker process 49\n",
      "\u001b[0G\u001b7\u001b[1B\u001b[2K\u001b[1B\u001b[2K\u001b[1B\u001b[2K\u001b[1B\u001b[2K\u001b[1B\u001b[2K\u001b[1B\u001b[2K\u001b[1B\u001b[2K\u001b[1B\u001b[2K\u001b[1B\u001b[2K\u001b[1B\u001b[2K\u001b[1B\u001b[2K\u001b[1B\u001b[2K\u001b[1B\u001b[2K\u001b[1B\u001b[2K\u001b[1B\u001b[2K\u001b[1B\u001b[2K\u001b[1B\u001b[2K\u001b[1B\u001b[2K\u001b[1B\u001b[2K\u001b[1B\u001b[2K\u001b[1B\u001b[2K\u001b[1B\u001b[2K\u001b[1B\u001b[2K\u001b[1B\u001b[2K\u001b8\u001b[2K\n",
      "\u001b[0G\u001b[2K\n",
      "\u001b[0G\u001b[2A\u001b[0G\u001b7\u001b[24;0H\u001b[2K\u001b[1;38;2;0;0;0;48;2;255;255;255mw\u001b[0m\u001b[2m Enable Watch\u001b[0m\u001b[0G\u001b8\u001b[0G\u001b7\u001b[1B\u001b[2K\u001b[1B\u001b[2K\u001b[1B\u001b[2K\u001b[1B\u001b[2K\u001b[1B\u001b[2K\u001b[1B\u001b[2K\u001b[1B\u001b[2K\u001b[1B\u001b[2K\u001b[1B\u001b[2K\u001b[1B\u001b[2K\u001b[1B\u001b[2K\u001b[1B\u001b[2K\u001b[1B\u001b[2K\u001b[1B\u001b[2K\u001b[1B\u001b[2K\u001b[1B\u001b[2K\u001b[1B\u001b[2K\u001b[1B\u001b[2K\u001b[1B\u001b[2K\u001b[1B\u001b[2K\u001b[1B\u001b[2K\u001b[1B\u001b[2K\u001b[1B\u001b[2K\u001b[1B\u001b[2K\u001b8\u001b[33mfrontend-1  | \u001b[0m2025/08/18 08:15:33 [notice] 1#1: start worker process 50\n",
      "\u001b[0G\u001b7\u001b[1B\u001b[2K\u001b[1B\u001b[2K\u001b[1B\u001b[2K\u001b[1B\u001b[2K\u001b[1B\u001b[2K\u001b[1B\u001b[2K\u001b[1B\u001b[2K\u001b[1B\u001b[2K\u001b[1B\u001b[2K\u001b[1B\u001b[2K\u001b[1B\u001b[2K\u001b[1B\u001b[2K\u001b[1B\u001b[2K\u001b[1B\u001b[2K\u001b[1B\u001b[2K\u001b[1B\u001b[2K\u001b[1B\u001b[2K\u001b[1B\u001b[2K\u001b[1B\u001b[2K\u001b[1B\u001b[2K\u001b[1B\u001b[2K\u001b[1B\u001b[2K\u001b[1B\u001b[2K\u001b[1B\u001b[2K\u001b8\u001b[2K\n",
      "\u001b[0G\u001b[2K\n",
      "\u001b[0G\u001b[2A\u001b[0G\u001b7\u001b[24;0H\u001b[2K\u001b[1;38;2;0;0;0;48;2;255;255;255mw\u001b[0m\u001b[2m Enable Watch\u001b[0m\u001b[0G\u001b8\u001b[0G\u001b7\u001b[1B\u001b[2K\u001b[1B\u001b[2K\u001b[1B\u001b[2K\u001b[1B\u001b[2K\u001b[1B\u001b[2K\u001b[1B\u001b[2K\u001b[1B\u001b[2K\u001b[1B\u001b[2K\u001b[1B\u001b[2K\u001b[1B\u001b[2K\u001b[1B\u001b[2K\u001b[1B\u001b[2K\u001b[1B\u001b[2K\u001b[1B\u001b[2K\u001b[1B\u001b[2K\u001b[1B\u001b[2K\u001b[1B\u001b[2K\u001b[1B\u001b[2K\u001b[1B\u001b[2K\u001b[1B\u001b[2K\u001b[1B\u001b[2K\u001b[1B\u001b[2K\u001b[1B\u001b[2K\u001b[1B\u001b[2K\u001b8\u001b[33mfrontend-1  | \u001b[0m2025/08/18 08:15:33 [notice] 1#1: start worker process 51\n",
      "\u001b[0G\u001b7\u001b[1B\u001b[2K\u001b[1B\u001b[2K\u001b[1B\u001b[2K\u001b[1B\u001b[2K\u001b[1B\u001b[2K\u001b[1B\u001b[2K\u001b[1B\u001b[2K\u001b[1B\u001b[2K\u001b[1B\u001b[2K\u001b[1B\u001b[2K\u001b[1B\u001b[2K\u001b[1B\u001b[2K\u001b[1B\u001b[2K\u001b[1B\u001b[2K\u001b[1B\u001b[2K\u001b[1B\u001b[2K\u001b[1B\u001b[2K\u001b[1B\u001b[2K\u001b[1B\u001b[2K\u001b[1B\u001b[2K\u001b[1B\u001b[2K\u001b[1B\u001b[2K\u001b[1B\u001b[2K\u001b[1B\u001b[2K\u001b8\u001b[2K\n",
      "\u001b[0G\u001b[2K\n",
      "\u001b[0G\u001b[2A\u001b[0G\u001b7\u001b[24;0H\u001b[2K\u001b[1;38;2;0;0;0;48;2;255;255;255mw\u001b[0m\u001b[2m Enable Watch\u001b[0m\u001b[0G\u001b8\u001b[0G\u001b7\u001b[1B\u001b[2K\u001b[1B\u001b[2K\u001b[1B\u001b[2K\u001b[1B\u001b[2K\u001b[1B\u001b[2K\u001b[1B\u001b[2K\u001b[1B\u001b[2K\u001b[1B\u001b[2K\u001b[1B\u001b[2K\u001b[1B\u001b[2K\u001b[1B\u001b[2K\u001b[1B\u001b[2K\u001b[1B\u001b[2K\u001b[1B\u001b[2K\u001b[1B\u001b[2K\u001b[1B\u001b[2K\u001b[1B\u001b[2K\u001b[1B\u001b[2K\u001b[1B\u001b[2K\u001b[1B\u001b[2K\u001b[1B\u001b[2K\u001b[1B\u001b[2K\u001b[1B\u001b[2K\u001b[1B\u001b[2K\u001b8\u001b[36mbackend-1   | \u001b[0m10-listen-on-ipv6-by-default.sh: info: /etc/nginx/conf.d/default.conf differs from the packaged version\n",
      "\u001b[0G\u001b7\u001b[1B\u001b[2K\u001b[1B\u001b[2K\u001b[1B\u001b[2K\u001b[1B\u001b[2K\u001b[1B\u001b[2K\u001b[1B\u001b[2K\u001b[1B\u001b[2K\u001b[1B\u001b[2K\u001b[1B\u001b[2K\u001b[1B\u001b[2K\u001b[1B\u001b[2K\u001b[1B\u001b[2K\u001b[1B\u001b[2K\u001b[1B\u001b[2K\u001b[1B\u001b[2K\u001b[1B\u001b[2K\u001b[1B\u001b[2K\u001b[1B\u001b[2K\u001b[1B\u001b[2K\u001b[1B\u001b[2K\u001b[1B\u001b[2K\u001b[1B\u001b[2K\u001b[1B\u001b[2K\u001b[1B\u001b[2K\u001b8\u001b[2K\n",
      "\u001b[0G\u001b[2K\n",
      "\u001b[0G\u001b[2A\u001b[0G\u001b7\u001b[24;0H\u001b[2K\u001b[1;38;2;0;0;0;48;2;255;255;255mw\u001b[0m\u001b[2m Enable Watch\u001b[0m\u001b[0G\u001b8\u001b[0G\u001b7\u001b[1B\u001b[2K\u001b[1B\u001b[2K\u001b[1B\u001b[2K\u001b[1B\u001b[2K\u001b[1B\u001b[2K\u001b[1B\u001b[2K\u001b[1B\u001b[2K\u001b[1B\u001b[2K\u001b[1B\u001b[2K\u001b[1B\u001b[2K\u001b[1B\u001b[2K\u001b[1B\u001b[2K\u001b[1B\u001b[2K\u001b[1B\u001b[2K\u001b[1B\u001b[2K\u001b[1B\u001b[2K\u001b[1B\u001b[2K\u001b[1B\u001b[2K\u001b[1B\u001b[2K\u001b[1B\u001b[2K\u001b[1B\u001b[2K\u001b[1B\u001b[2K\u001b[1B\u001b[2K\u001b[1B\u001b[2K\u001b8\u001b[36mbackend-1   | \u001b[0m/docker-entrypoint.sh: Sourcing /docker-entrypoint.d/15-local-resolvers.envsh\n",
      "\u001b[0G\u001b7\u001b[1B\u001b[2K\u001b[1B\u001b[2K\u001b[1B\u001b[2K\u001b[1B\u001b[2K\u001b[1B\u001b[2K\u001b[1B\u001b[2K\u001b[1B\u001b[2K\u001b[1B\u001b[2K\u001b[1B\u001b[2K\u001b[1B\u001b[2K\u001b[1B\u001b[2K\u001b[1B\u001b[2K\u001b[1B\u001b[2K\u001b[1B\u001b[2K\u001b[1B\u001b[2K\u001b[1B\u001b[2K\u001b[1B\u001b[2K\u001b[1B\u001b[2K\u001b[1B\u001b[2K\u001b[1B\u001b[2K\u001b[1B\u001b[2K\u001b[1B\u001b[2K\u001b[1B\u001b[2K\u001b[1B\u001b[2K\u001b8\u001b[2K\n",
      "\u001b[0G\u001b[2K\n",
      "\u001b[0G\u001b[2A\u001b[0G\u001b7\u001b[24;0H\u001b[2K\u001b[1;38;2;0;0;0;48;2;255;255;255mw\u001b[0m\u001b[2m Enable Watch\u001b[0m\u001b[0G\u001b8\u001b[0G\u001b7\u001b[1B\u001b[2K\u001b[1B\u001b[2K\u001b[1B\u001b[2K\u001b[1B\u001b[2K\u001b[1B\u001b[2K\u001b[1B\u001b[2K\u001b[1B\u001b[2K\u001b[1B\u001b[2K\u001b[1B\u001b[2K\u001b[1B\u001b[2K\u001b[1B\u001b[2K\u001b[1B\u001b[2K\u001b[1B\u001b[2K\u001b[1B\u001b[2K\u001b[1B\u001b[2K\u001b[1B\u001b[2K\u001b[1B\u001b[2K\u001b[1B\u001b[2K\u001b[1B\u001b[2K\u001b[1B\u001b[2K\u001b[1B\u001b[2K\u001b[1B\u001b[2K\u001b[1B\u001b[2K\u001b[1B\u001b[2K\u001b8\u001b[36mbackend-1   | \u001b[0m/docker-entrypoint.sh: Launching /docker-entrypoint.d/20-envsubst-on-templates.sh\n",
      "\u001b[0G\u001b7\u001b[1B\u001b[2K\u001b[1B\u001b[2K\u001b[1B\u001b[2K\u001b[1B\u001b[2K\u001b[1B\u001b[2K\u001b[1B\u001b[2K\u001b[1B\u001b[2K\u001b[1B\u001b[2K\u001b[1B\u001b[2K\u001b[1B\u001b[2K\u001b[1B\u001b[2K\u001b[1B\u001b[2K\u001b[1B\u001b[2K\u001b[1B\u001b[2K\u001b[1B\u001b[2K\u001b[1B\u001b[2K\u001b[1B\u001b[2K\u001b[1B\u001b[2K\u001b[1B\u001b[2K\u001b[1B\u001b[2K\u001b[1B\u001b[2K\u001b[1B\u001b[2K\u001b[1B\u001b[2K\u001b[1B\u001b[2K\u001b8\u001b[2K\n",
      "\u001b[0G\u001b[2K\n",
      "\u001b[0G\u001b[2A\u001b[0G\u001b7\u001b[24;0H\u001b[2K\u001b[1;38;2;0;0;0;48;2;255;255;255mw\u001b[0m\u001b[2m Enable Watch\u001b[0m\u001b[0G\u001b8\u001b[0G\u001b7\u001b[1B\u001b[2K\u001b[1B\u001b[2K\u001b[1B\u001b[2K\u001b[1B\u001b[2K\u001b[1B\u001b[2K\u001b[1B\u001b[2K\u001b[1B\u001b[2K\u001b[1B\u001b[2K\u001b[1B\u001b[2K\u001b[1B\u001b[2K\u001b[1B\u001b[2K\u001b[1B\u001b[2K\u001b[1B\u001b[2K\u001b[1B\u001b[2K\u001b[1B\u001b[2K\u001b[1B\u001b[2K\u001b[1B\u001b[2K\u001b[1B\u001b[2K\u001b[1B\u001b[2K\u001b[1B\u001b[2K\u001b[1B\u001b[2K\u001b[1B\u001b[2K\u001b[1B\u001b[2K\u001b[1B\u001b[2K\u001b8\u001b[36mbackend-1   | \u001b[0m/docker-entrypoint.sh: Launching /docker-entrypoint.d/30-tune-worker-processes.sh\n",
      "\u001b[0G\u001b7\u001b[1B\u001b[2K\u001b[1B\u001b[2K\u001b[1B\u001b[2K\u001b[1B\u001b[2K\u001b[1B\u001b[2K\u001b[1B\u001b[2K\u001b[1B\u001b[2K\u001b[1B\u001b[2K\u001b[1B\u001b[2K\u001b[1B\u001b[2K\u001b[1B\u001b[2K\u001b[1B\u001b[2K\u001b[1B\u001b[2K\u001b[1B\u001b[2K\u001b[1B\u001b[2K\u001b[1B\u001b[2K\u001b[1B\u001b[2K\u001b[1B\u001b[2K\u001b[1B\u001b[2K\u001b[1B\u001b[2K\u001b[1B\u001b[2K\u001b[1B\u001b[2K\u001b[1B\u001b[2K\u001b[1B\u001b[2K\u001b8\u001b[2K\n",
      "\u001b[0G\u001b[2K\n",
      "\u001b[0G\u001b[2A\u001b[0G\u001b7\u001b[24;0H\u001b[2K\u001b[1;38;2;0;0;0;48;2;255;255;255mw\u001b[0m\u001b[2m Enable Watch\u001b[0m\u001b[0G\u001b8\u001b[0G\u001b7\u001b[1B\u001b[2K\u001b[1B\u001b[2K\u001b[1B\u001b[2K\u001b[1B\u001b[2K\u001b[1B\u001b[2K\u001b[1B\u001b[2K\u001b[1B\u001b[2K\u001b[1B\u001b[2K\u001b[1B\u001b[2K\u001b[1B\u001b[2K\u001b[1B\u001b[2K\u001b[1B\u001b[2K\u001b[1B\u001b[2K\u001b[1B\u001b[2K\u001b[1B\u001b[2K\u001b[1B\u001b[2K\u001b[1B\u001b[2K\u001b[1B\u001b[2K\u001b[1B\u001b[2K\u001b[1B\u001b[2K\u001b[1B\u001b[2K\u001b[1B\u001b[2K\u001b[1B\u001b[2K\u001b[1B\u001b[2K\u001b8\u001b[36mbackend-1   | \u001b[0m/docker-entrypoint.sh: Configuration complete; ready for start up\n",
      "\u001b[0G\u001b7\u001b[1B\u001b[2K\u001b[1B\u001b[2K\u001b[1B\u001b[2K\u001b[1B\u001b[2K\u001b[1B\u001b[2K\u001b[1B\u001b[2K\u001b[1B\u001b[2K\u001b[1B\u001b[2K\u001b[1B\u001b[2K\u001b[1B\u001b[2K\u001b[1B\u001b[2K\u001b[1B\u001b[2K\u001b[1B\u001b[2K\u001b[1B\u001b[2K\u001b[1B\u001b[2K\u001b[1B\u001b[2K\u001b[1B\u001b[2K\u001b[1B\u001b[2K\u001b[1B\u001b[2K\u001b[1B\u001b[2K\u001b[1B\u001b[2K\u001b[1B\u001b[2K\u001b[1B\u001b[2K\u001b[1B\u001b[2K\u001b8\u001b[2K\n",
      "\u001b[0G\u001b[2K\n",
      "\u001b[0G\u001b[2A\u001b[0G\u001b7\u001b[24;0H\u001b[2K\u001b[1;38;2;0;0;0;48;2;255;255;255mw\u001b[0m\u001b[2m Enable Watch\u001b[0m\u001b[0G\u001b8\u001b[0G\u001b7\u001b[1B\u001b[2K\u001b[1B\u001b[2K\u001b[1B\u001b[2K\u001b[1B\u001b[2K\u001b[1B\u001b[2K\u001b[1B\u001b[2K\u001b[1B\u001b[2K\u001b[1B\u001b[2K\u001b[1B\u001b[2K\u001b[1B\u001b[2K\u001b[1B\u001b[2K\u001b[1B\u001b[2K\u001b[1B\u001b[2K\u001b[1B\u001b[2K\u001b[1B\u001b[2K\u001b[1B\u001b[2K\u001b[1B\u001b[2K\u001b[1B\u001b[2K\u001b[1B\u001b[2K\u001b[1B\u001b[2K\u001b[1B\u001b[2K\u001b[1B\u001b[2K\u001b[1B\u001b[2K\u001b[1B\u001b[2K\u001b8\u001b[36mbackend-1   | \u001b[0m2025/08/18 08:15:33 [notice] 1#1: using the \"epoll\" event method\n",
      "\u001b[0G\u001b7\u001b[1B\u001b[2K\u001b[1B\u001b[2K\u001b[1B\u001b[2K\u001b[1B\u001b[2K\u001b[1B\u001b[2K\u001b[1B\u001b[2K\u001b[1B\u001b[2K\u001b[1B\u001b[2K\u001b[1B\u001b[2K\u001b[1B\u001b[2K\u001b[1B\u001b[2K\u001b[1B\u001b[2K\u001b[1B\u001b[2K\u001b[1B\u001b[2K\u001b[1B\u001b[2K\u001b[1B\u001b[2K\u001b[1B\u001b[2K\u001b[1B\u001b[2K\u001b[1B\u001b[2K\u001b[1B\u001b[2K\u001b[1B\u001b[2K\u001b[1B\u001b[2K\u001b[1B\u001b[2K\u001b[1B\u001b[2K\u001b8\u001b[2K\n",
      "\u001b[0G\u001b[2K\n",
      "\u001b[0G\u001b[2A\u001b[0G\u001b7\u001b[24;0H\u001b[2K\u001b[1;38;2;0;0;0;48;2;255;255;255mw\u001b[0m\u001b[2m Enable Watch\u001b[0m\u001b[0G\u001b8\u001b[0G\u001b7\u001b[1B\u001b[2K\u001b[1B\u001b[2K\u001b[1B\u001b[2K\u001b[1B\u001b[2K\u001b[1B\u001b[2K\u001b[1B\u001b[2K\u001b[1B\u001b[2K\u001b[1B\u001b[2K\u001b[1B\u001b[2K\u001b[1B\u001b[2K\u001b[1B\u001b[2K\u001b[1B\u001b[2K\u001b[1B\u001b[2K\u001b[1B\u001b[2K\u001b[1B\u001b[2K\u001b[1B\u001b[2K\u001b[1B\u001b[2K\u001b[1B\u001b[2K\u001b[1B\u001b[2K\u001b[1B\u001b[2K\u001b[1B\u001b[2K\u001b[1B\u001b[2K\u001b[1B\u001b[2K\u001b[1B\u001b[2K\u001b8\u001b[36mbackend-1   | \u001b[0m2025/08/18 08:15:33 [notice] 1#1: nginx/1.27.5\n",
      "\u001b[0G\u001b7\u001b[1B\u001b[2K\u001b[1B\u001b[2K\u001b[1B\u001b[2K\u001b[1B\u001b[2K\u001b[1B\u001b[2K\u001b[1B\u001b[2K\u001b[1B\u001b[2K\u001b[1B\u001b[2K\u001b[1B\u001b[2K\u001b[1B\u001b[2K\u001b[1B\u001b[2K\u001b[1B\u001b[2K\u001b[1B\u001b[2K\u001b[1B\u001b[2K\u001b[1B\u001b[2K\u001b[1B\u001b[2K\u001b[1B\u001b[2K\u001b[1B\u001b[2K\u001b[1B\u001b[2K\u001b[1B\u001b[2K\u001b[1B\u001b[2K\u001b[1B\u001b[2K\u001b[1B\u001b[2K\u001b[1B\u001b[2K\u001b8\u001b[2K\n",
      "\u001b[0G\u001b[2K\n",
      "\u001b[0G\u001b[2A\u001b[0G\u001b7\u001b[24;0H\u001b[2K\u001b[1;38;2;0;0;0;48;2;255;255;255mw\u001b[0m\u001b[2m Enable Watch\u001b[0m\u001b[0G\u001b8\u001b[0G\u001b7\u001b[1B\u001b[2K\u001b[1B\u001b[2K\u001b[1B\u001b[2K\u001b[1B\u001b[2K\u001b[1B\u001b[2K\u001b[1B\u001b[2K\u001b[1B\u001b[2K\u001b[1B\u001b[2K\u001b[1B\u001b[2K\u001b[1B\u001b[2K\u001b[1B\u001b[2K\u001b[1B\u001b[2K\u001b[1B\u001b[2K\u001b[1B\u001b[2K\u001b[1B\u001b[2K\u001b[1B\u001b[2K\u001b[1B\u001b[2K\u001b[1B\u001b[2K\u001b[1B\u001b[2K\u001b[1B\u001b[2K\u001b[1B\u001b[2K\u001b[1B\u001b[2K\u001b[1B\u001b[2K\u001b[1B\u001b[2K\u001b8\u001b[36mbackend-1   | \u001b[0m2025/08/18 08:15:33 [notice] 1#1: built by gcc 12.2.0 (Debian 12.2.0-14) \n",
      "\u001b[0G\u001b7\u001b[1B\u001b[2K\u001b[1B\u001b[2K\u001b[1B\u001b[2K\u001b[1B\u001b[2K\u001b[1B\u001b[2K\u001b[1B\u001b[2K\u001b[1B\u001b[2K\u001b[1B\u001b[2K\u001b[1B\u001b[2K\u001b[1B\u001b[2K\u001b[1B\u001b[2K\u001b[1B\u001b[2K\u001b[1B\u001b[2K\u001b[1B\u001b[2K\u001b[1B\u001b[2K\u001b[1B\u001b[2K\u001b[1B\u001b[2K\u001b[1B\u001b[2K\u001b[1B\u001b[2K\u001b[1B\u001b[2K\u001b[1B\u001b[2K\u001b[1B\u001b[2K\u001b[1B\u001b[2K\u001b[1B\u001b[2K\u001b8\u001b[2K\n",
      "\u001b[0G\u001b[2K\n",
      "\u001b[0G\u001b[2A\u001b[0G\u001b7\u001b[24;0H\u001b[2K\u001b[1;38;2;0;0;0;48;2;255;255;255mw\u001b[0m\u001b[2m Enable Watch\u001b[0m\u001b[0G\u001b8\u001b[0G\u001b7\u001b[1B\u001b[2K\u001b[1B\u001b[2K\u001b[1B\u001b[2K\u001b[1B\u001b[2K\u001b[1B\u001b[2K\u001b[1B\u001b[2K\u001b[1B\u001b[2K\u001b[1B\u001b[2K\u001b[1B\u001b[2K\u001b[1B\u001b[2K\u001b[1B\u001b[2K\u001b[1B\u001b[2K\u001b[1B\u001b[2K\u001b[1B\u001b[2K\u001b[1B\u001b[2K\u001b[1B\u001b[2K\u001b[1B\u001b[2K\u001b[1B\u001b[2K\u001b[1B\u001b[2K\u001b[1B\u001b[2K\u001b[1B\u001b[2K\u001b[1B\u001b[2K\u001b[1B\u001b[2K\u001b[1B\u001b[2K\u001b8\u001b[36mbackend-1   | \u001b[0m2025/08/18 08:15:33 [notice] 1#1: OS: Linux 6.14.0-27-generic\n",
      "\u001b[0G\u001b7\u001b[1B\u001b[2K\u001b[1B\u001b[2K\u001b[1B\u001b[2K\u001b[1B\u001b[2K\u001b[1B\u001b[2K\u001b[1B\u001b[2K\u001b[1B\u001b[2K\u001b[1B\u001b[2K\u001b[1B\u001b[2K\u001b[1B\u001b[2K\u001b[1B\u001b[2K\u001b[1B\u001b[2K\u001b[1B\u001b[2K\u001b[1B\u001b[2K\u001b[1B\u001b[2K\u001b[1B\u001b[2K\u001b[1B\u001b[2K\u001b[1B\u001b[2K\u001b[1B\u001b[2K\u001b[1B\u001b[2K\u001b[1B\u001b[2K\u001b[1B\u001b[2K\u001b[1B\u001b[2K\u001b[1B\u001b[2K\u001b8\u001b[2K\n",
      "\u001b[0G\u001b[2K\n",
      "\u001b[0G\u001b[2A\u001b[0G\u001b7\u001b[24;0H\u001b[2K\u001b[1;38;2;0;0;0;48;2;255;255;255mw\u001b[0m\u001b[2m Enable Watch\u001b[0m\u001b[0G\u001b8\u001b[0G\u001b7\u001b[1B\u001b[2K\u001b[1B\u001b[2K\u001b[1B\u001b[2K\u001b[1B\u001b[2K\u001b[1B\u001b[2K\u001b[1B\u001b[2K\u001b[1B\u001b[2K\u001b[1B\u001b[2K\u001b[1B\u001b[2K\u001b[1B\u001b[2K\u001b[1B\u001b[2K\u001b[1B\u001b[2K\u001b[1B\u001b[2K\u001b[1B\u001b[2K\u001b[1B\u001b[2K\u001b[1B\u001b[2K\u001b[1B\u001b[2K\u001b[1B\u001b[2K\u001b[1B\u001b[2K\u001b[1B\u001b[2K\u001b[1B\u001b[2K\u001b[1B\u001b[2K\u001b[1B\u001b[2K\u001b[1B\u001b[2K\u001b8\u001b[36mbackend-1   | \u001b[0m2025/08/18 08:15:33 [notice] 1#1: getrlimit(RLIMIT_NOFILE): 1048576:1048576\n",
      "\u001b[0G\u001b7\u001b[1B\u001b[2K\u001b[1B\u001b[2K\u001b[1B\u001b[2K\u001b[1B\u001b[2K\u001b[1B\u001b[2K\u001b[1B\u001b[2K\u001b[1B\u001b[2K\u001b[1B\u001b[2K\u001b[1B\u001b[2K\u001b[1B\u001b[2K\u001b[1B\u001b[2K\u001b[1B\u001b[2K\u001b[1B\u001b[2K\u001b[1B\u001b[2K\u001b[1B\u001b[2K\u001b[1B\u001b[2K\u001b[1B\u001b[2K\u001b[1B\u001b[2K\u001b[1B\u001b[2K\u001b[1B\u001b[2K\u001b[1B\u001b[2K\u001b[1B\u001b[2K\u001b[1B\u001b[2K\u001b[1B\u001b[2K\u001b8\u001b[2K\n",
      "\u001b[0G\u001b[2K\n",
      "\u001b[0G\u001b[2A\u001b[0G\u001b7\u001b[24;0H\u001b[2K\u001b[1;38;2;0;0;0;48;2;255;255;255mw\u001b[0m\u001b[2m Enable Watch\u001b[0m\u001b[0G\u001b8\u001b[0G\u001b7\u001b[1B\u001b[2K\u001b[1B\u001b[2K\u001b[1B\u001b[2K\u001b[1B\u001b[2K\u001b[1B\u001b[2K\u001b[1B\u001b[2K\u001b[1B\u001b[2K\u001b[1B\u001b[2K\u001b[1B\u001b[2K\u001b[1B\u001b[2K\u001b[1B\u001b[2K\u001b[1B\u001b[2K\u001b[1B\u001b[2K\u001b[1B\u001b[2K\u001b[1B\u001b[2K\u001b[1B\u001b[2K\u001b[1B\u001b[2K\u001b[1B\u001b[2K\u001b[1B\u001b[2K\u001b[1B\u001b[2K\u001b[1B\u001b[2K\u001b[1B\u001b[2K\u001b[1B\u001b[2K\u001b[1B\u001b[2K\u001b8\u001b[36mbackend-1   | \u001b[0m2025/08/18 08:15:33 [notice] 1#1: start worker processes\n",
      "\u001b[0G\u001b7\u001b[1B\u001b[2K\u001b[1B\u001b[2K\u001b[1B\u001b[2K\u001b[1B\u001b[2K\u001b[1B\u001b[2K\u001b[1B\u001b[2K\u001b[1B\u001b[2K\u001b[1B\u001b[2K\u001b[1B\u001b[2K\u001b[1B\u001b[2K\u001b[1B\u001b[2K\u001b[1B\u001b[2K\u001b[1B\u001b[2K\u001b[1B\u001b[2K\u001b[1B\u001b[2K\u001b[1B\u001b[2K\u001b[1B\u001b[2K\u001b[1B\u001b[2K\u001b[1B\u001b[2K\u001b[1B\u001b[2K\u001b[1B\u001b[2K\u001b[1B\u001b[2K\u001b[1B\u001b[2K\u001b[1B\u001b[2K\u001b8\u001b[2K\n",
      "\u001b[0G\u001b[2K\n",
      "\u001b[0G\u001b[2A\u001b[0G\u001b7\u001b[24;0H\u001b[2K\u001b[1;38;2;0;0;0;48;2;255;255;255mw\u001b[0m\u001b[2m Enable Watch\u001b[0m\u001b[0G\u001b8\u001b[0G\u001b7\u001b[1B\u001b[2K\u001b[1B\u001b[2K\u001b[1B\u001b[2K\u001b[1B\u001b[2K\u001b[1B\u001b[2K\u001b[1B\u001b[2K\u001b[1B\u001b[2K\u001b[1B\u001b[2K\u001b[1B\u001b[2K\u001b[1B\u001b[2K\u001b[1B\u001b[2K\u001b[1B\u001b[2K\u001b[1B\u001b[2K\u001b[1B\u001b[2K\u001b[1B\u001b[2K\u001b[1B\u001b[2K\u001b[1B\u001b[2K\u001b[1B\u001b[2K\u001b[1B\u001b[2K\u001b[1B\u001b[2K\u001b[1B\u001b[2K\u001b[1B\u001b[2K\u001b[1B\u001b[2K\u001b[1B\u001b[2K\u001b8\u001b[36mbackend-1   | \u001b[0m2025/08/18 08:15:33 [notice] 1#1: start worker process 28\n",
      "\u001b[0G\u001b7\u001b[1B\u001b[2K\u001b[1B\u001b[2K\u001b[1B\u001b[2K\u001b[1B\u001b[2K\u001b[1B\u001b[2K\u001b[1B\u001b[2K\u001b[1B\u001b[2K\u001b[1B\u001b[2K\u001b[1B\u001b[2K\u001b[1B\u001b[2K\u001b[1B\u001b[2K\u001b[1B\u001b[2K\u001b[1B\u001b[2K\u001b[1B\u001b[2K\u001b[1B\u001b[2K\u001b[1B\u001b[2K\u001b[1B\u001b[2K\u001b[1B\u001b[2K\u001b[1B\u001b[2K\u001b[1B\u001b[2K\u001b[1B\u001b[2K\u001b[1B\u001b[2K\u001b[1B\u001b[2K\u001b[1B\u001b[2K\u001b8\u001b[2K\n",
      "\u001b[0G\u001b[2K\n",
      "\u001b[0G\u001b[2A\u001b[0G\u001b7\u001b[24;0H\u001b[2K\u001b[1;38;2;0;0;0;48;2;255;255;255mw\u001b[0m\u001b[2m Enable Watch\u001b[0m\u001b[0G\u001b8\u001b[0G\u001b7\u001b[1B\u001b[2K\u001b[1B\u001b[2K\u001b[1B\u001b[2K\u001b[1B\u001b[2K\u001b[1B\u001b[2K\u001b[1B\u001b[2K\u001b[1B\u001b[2K\u001b[1B\u001b[2K\u001b[1B\u001b[2K\u001b[1B\u001b[2K\u001b[1B\u001b[2K\u001b[1B\u001b[2K\u001b[1B\u001b[2K\u001b[1B\u001b[2K\u001b[1B\u001b[2K\u001b[1B\u001b[2K\u001b[1B\u001b[2K\u001b[1B\u001b[2K\u001b[1B\u001b[2K\u001b[1B\u001b[2K\u001b[1B\u001b[2K\u001b[1B\u001b[2K\u001b[1B\u001b[2K\u001b[1B\u001b[2K\u001b8\u001b[36mbackend-1   | \u001b[0m2025/08/18 08:15:33 [notice] 1#1: start worker process 29\n",
      "\u001b[0G\u001b7\u001b[1B\u001b[2K\u001b[1B\u001b[2K\u001b[1B\u001b[2K\u001b[1B\u001b[2K\u001b[1B\u001b[2K\u001b[1B\u001b[2K\u001b[1B\u001b[2K\u001b[1B\u001b[2K\u001b[1B\u001b[2K\u001b[1B\u001b[2K\u001b[1B\u001b[2K\u001b[1B\u001b[2K\u001b[1B\u001b[2K\u001b[1B\u001b[2K\u001b[1B\u001b[2K\u001b[1B\u001b[2K\u001b[1B\u001b[2K\u001b[1B\u001b[2K\u001b[1B\u001b[2K\u001b[1B\u001b[2K\u001b[1B\u001b[2K\u001b[1B\u001b[2K\u001b[1B\u001b[2K\u001b[1B\u001b[2K\u001b8\u001b[2K\n",
      "\u001b[0G\u001b[2K\n",
      "\u001b[0G\u001b[2A\u001b[0G\u001b7\u001b[24;0H\u001b[2K\u001b[1;38;2;0;0;0;48;2;255;255;255mw\u001b[0m\u001b[2m Enable Watch\u001b[0m\u001b[0G\u001b8\u001b[0G\u001b7\u001b[1B\u001b[2K\u001b[1B\u001b[2K\u001b[1B\u001b[2K\u001b[1B\u001b[2K\u001b[1B\u001b[2K\u001b[1B\u001b[2K\u001b[1B\u001b[2K\u001b[1B\u001b[2K\u001b[1B\u001b[2K\u001b[1B\u001b[2K\u001b[1B\u001b[2K\u001b[1B\u001b[2K\u001b[1B\u001b[2K\u001b[1B\u001b[2K\u001b[1B\u001b[2K\u001b[1B\u001b[2K\u001b[1B\u001b[2K\u001b[1B\u001b[2K\u001b[1B\u001b[2K\u001b[1B\u001b[2K\u001b[1B\u001b[2K\u001b[1B\u001b[2K\u001b[1B\u001b[2K\u001b[1B\u001b[2K\u001b8\u001b[36mbackend-1   | \u001b[0m2025/08/18 08:15:33 [notice] 1#1: start worker process 30\n",
      "\u001b[0G\u001b7\u001b[1B\u001b[2K\u001b[1B\u001b[2K\u001b[1B\u001b[2K\u001b[1B\u001b[2K\u001b[1B\u001b[2K\u001b[1B\u001b[2K\u001b[1B\u001b[2K\u001b[1B\u001b[2K\u001b[1B\u001b[2K\u001b[1B\u001b[2K\u001b[1B\u001b[2K\u001b[1B\u001b[2K\u001b[1B\u001b[2K\u001b[1B\u001b[2K\u001b[1B\u001b[2K\u001b[1B\u001b[2K\u001b[1B\u001b[2K\u001b[1B\u001b[2K\u001b[1B\u001b[2K\u001b[1B\u001b[2K\u001b[1B\u001b[2K\u001b[1B\u001b[2K\u001b[1B\u001b[2K\u001b[1B\u001b[2K\u001b8\u001b[2K\n",
      "\u001b[0G\u001b[2K\n",
      "\u001b[0G\u001b[2A\u001b[0G\u001b7\u001b[24;0H\u001b[2K\u001b[1;38;2;0;0;0;48;2;255;255;255mw\u001b[0m\u001b[2m Enable Watch\u001b[0m\u001b[0G\u001b8\u001b[0G\u001b7\u001b[1B\u001b[2K\u001b[1B\u001b[2K\u001b[1B\u001b[2K\u001b[1B\u001b[2K\u001b[1B\u001b[2K\u001b[1B\u001b[2K\u001b[1B\u001b[2K\u001b[1B\u001b[2K\u001b[1B\u001b[2K\u001b[1B\u001b[2K\u001b[1B\u001b[2K\u001b[1B\u001b[2K\u001b[1B\u001b[2K\u001b[1B\u001b[2K\u001b[1B\u001b[2K\u001b[1B\u001b[2K\u001b[1B\u001b[2K\u001b[1B\u001b[2K\u001b[1B\u001b[2K\u001b[1B\u001b[2K\u001b[1B\u001b[2K\u001b[1B\u001b[2K\u001b[1B\u001b[2K\u001b[1B\u001b[2K\u001b8\u001b[36mbackend-1   | \u001b[0m2025/08/18 08:15:33 [notice] 1#1: start worker process 31\n",
      "\u001b[0G\u001b7\u001b[1B\u001b[2K\u001b[1B\u001b[2K\u001b[1B\u001b[2K\u001b[1B\u001b[2K\u001b[1B\u001b[2K\u001b[1B\u001b[2K\u001b[1B\u001b[2K\u001b[1B\u001b[2K\u001b[1B\u001b[2K\u001b[1B\u001b[2K\u001b[1B\u001b[2K\u001b[1B\u001b[2K\u001b[1B\u001b[2K\u001b[1B\u001b[2K\u001b[1B\u001b[2K\u001b[1B\u001b[2K\u001b[1B\u001b[2K\u001b[1B\u001b[2K\u001b[1B\u001b[2K\u001b[1B\u001b[2K\u001b[1B\u001b[2K\u001b[1B\u001b[2K\u001b[1B\u001b[2K\u001b[1B\u001b[2K\u001b8\u001b[2K\n",
      "\u001b[0G\u001b[2K\n",
      "\u001b[0G\u001b[2A\u001b[0G\u001b7\u001b[24;0H\u001b[2K\u001b[1;38;2;0;0;0;48;2;255;255;255mw\u001b[0m\u001b[2m Enable Watch\u001b[0m\u001b[0G\u001b8\u001b[0G\u001b7\u001b[1B\u001b[2K\u001b[1B\u001b[2K\u001b[1B\u001b[2K\u001b[1B\u001b[2K\u001b[1B\u001b[2K\u001b[1B\u001b[2K\u001b[1B\u001b[2K\u001b[1B\u001b[2K\u001b[1B\u001b[2K\u001b[1B\u001b[2K\u001b[1B\u001b[2K\u001b[1B\u001b[2K\u001b[1B\u001b[2K\u001b[1B\u001b[2K\u001b[1B\u001b[2K\u001b[1B\u001b[2K\u001b[1B\u001b[2K\u001b[1B\u001b[2K\u001b[1B\u001b[2K\u001b[1B\u001b[2K\u001b[1B\u001b[2K\u001b[1B\u001b[2K\u001b[1B\u001b[2K\u001b[1B\u001b[2K\u001b8\u001b[36mbackend-1   | \u001b[0m2025/08/18 08:15:33 [notice] 1#1: start worker process 32\n",
      "\u001b[0G\u001b7\u001b[1B\u001b[2K\u001b[1B\u001b[2K\u001b[1B\u001b[2K\u001b[1B\u001b[2K\u001b[1B\u001b[2K\u001b[1B\u001b[2K\u001b[1B\u001b[2K\u001b[1B\u001b[2K\u001b[1B\u001b[2K\u001b[1B\u001b[2K\u001b[1B\u001b[2K\u001b[1B\u001b[2K\u001b[1B\u001b[2K\u001b[1B\u001b[2K\u001b[1B\u001b[2K\u001b[1B\u001b[2K\u001b[1B\u001b[2K\u001b[1B\u001b[2K\u001b[1B\u001b[2K\u001b[1B\u001b[2K\u001b[1B\u001b[2K\u001b[1B\u001b[2K\u001b[1B\u001b[2K\u001b[1B\u001b[2K\u001b8\u001b[2K\n",
      "\u001b[0G\u001b[2K\n",
      "\u001b[0G\u001b[2A\u001b[0G\u001b7\u001b[24;0H\u001b[2K\u001b[1;38;2;0;0;0;48;2;255;255;255mw\u001b[0m\u001b[2m Enable Watch\u001b[0m\u001b[0G\u001b8\u001b[0G\u001b7\u001b[1B\u001b[2K\u001b[1B\u001b[2K\u001b[1B\u001b[2K\u001b[1B\u001b[2K\u001b[1B\u001b[2K\u001b[1B\u001b[2K\u001b[1B\u001b[2K\u001b[1B\u001b[2K\u001b[1B\u001b[2K\u001b[1B\u001b[2K\u001b[1B\u001b[2K\u001b[1B\u001b[2K\u001b[1B\u001b[2K\u001b[1B\u001b[2K\u001b[1B\u001b[2K\u001b[1B\u001b[2K\u001b[1B\u001b[2K\u001b[1B\u001b[2K\u001b[1B\u001b[2K\u001b[1B\u001b[2K\u001b[1B\u001b[2K\u001b[1B\u001b[2K\u001b[1B\u001b[2K\u001b[1B\u001b[2K\u001b8\u001b[36mbackend-1   | \u001b[0m2025/08/18 08:15:33 [notice] 1#1: start worker process 33\n",
      "\u001b[0G\u001b7\u001b[1B\u001b[2K\u001b[1B\u001b[2K\u001b[1B\u001b[2K\u001b[1B\u001b[2K\u001b[1B\u001b[2K\u001b[1B\u001b[2K\u001b[1B\u001b[2K\u001b[1B\u001b[2K\u001b[1B\u001b[2K\u001b[1B\u001b[2K\u001b[1B\u001b[2K\u001b[1B\u001b[2K\u001b[1B\u001b[2K\u001b[1B\u001b[2K\u001b[1B\u001b[2K\u001b[1B\u001b[2K\u001b[1B\u001b[2K\u001b[1B\u001b[2K\u001b[1B\u001b[2K\u001b[1B\u001b[2K\u001b[1B\u001b[2K\u001b[1B\u001b[2K\u001b[1B\u001b[2K\u001b[1B\u001b[2K\u001b8\u001b[2K\n",
      "\u001b[0G\u001b[2K\n",
      "\u001b[0G\u001b[2A\u001b[0G\u001b7\u001b[24;0H\u001b[2K\u001b[1;38;2;0;0;0;48;2;255;255;255mw\u001b[0m\u001b[2m Enable Watch\u001b[0m\u001b[0G\u001b8\u001b[0G\u001b7\u001b[1B\u001b[2K\u001b[1B\u001b[2K\u001b[1B\u001b[2K\u001b[1B\u001b[2K\u001b[1B\u001b[2K\u001b[1B\u001b[2K\u001b[1B\u001b[2K\u001b[1B\u001b[2K\u001b[1B\u001b[2K\u001b[1B\u001b[2K\u001b[1B\u001b[2K\u001b[1B\u001b[2K\u001b[1B\u001b[2K\u001b[1B\u001b[2K\u001b[1B\u001b[2K\u001b[1B\u001b[2K\u001b[1B\u001b[2K\u001b[1B\u001b[2K\u001b[1B\u001b[2K\u001b[1B\u001b[2K\u001b[1B\u001b[2K\u001b[1B\u001b[2K\u001b[1B\u001b[2K\u001b[1B\u001b[2K\u001b8\u001b[36mbackend-1   | \u001b[0m2025/08/18 08:15:33 [notice] 1#1: start worker process 34\n",
      "\u001b[0G\u001b7\u001b[1B\u001b[2K\u001b[1B\u001b[2K\u001b[1B\u001b[2K\u001b[1B\u001b[2K\u001b[1B\u001b[2K\u001b[1B\u001b[2K\u001b[1B\u001b[2K\u001b[1B\u001b[2K\u001b[1B\u001b[2K\u001b[1B\u001b[2K\u001b[1B\u001b[2K\u001b[1B\u001b[2K\u001b[1B\u001b[2K\u001b[1B\u001b[2K\u001b[1B\u001b[2K\u001b[1B\u001b[2K\u001b[1B\u001b[2K\u001b[1B\u001b[2K\u001b[1B\u001b[2K\u001b[1B\u001b[2K\u001b[1B\u001b[2K\u001b[1B\u001b[2K\u001b[1B\u001b[2K\u001b[1B\u001b[2K\u001b8\u001b[2K\n",
      "\u001b[0G\u001b[2K\n",
      "\u001b[0G\u001b[2A\u001b[0G\u001b7\u001b[24;0H\u001b[2K\u001b[1;38;2;0;0;0;48;2;255;255;255mw\u001b[0m\u001b[2m Enable Watch\u001b[0m\u001b[0G\u001b8\u001b[0G\u001b7\u001b[1B\u001b[2K\u001b[1B\u001b[2K\u001b[1B\u001b[2K\u001b[1B\u001b[2K\u001b[1B\u001b[2K\u001b[1B\u001b[2K\u001b[1B\u001b[2K\u001b[1B\u001b[2K\u001b[1B\u001b[2K\u001b[1B\u001b[2K\u001b[1B\u001b[2K\u001b[1B\u001b[2K\u001b[1B\u001b[2K\u001b[1B\u001b[2K\u001b[1B\u001b[2K\u001b[1B\u001b[2K\u001b[1B\u001b[2K\u001b[1B\u001b[2K\u001b[1B\u001b[2K\u001b[1B\u001b[2K\u001b[1B\u001b[2K\u001b[1B\u001b[2K\u001b[1B\u001b[2K\u001b[1B\u001b[2K\u001b8\u001b[36mbackend-1   | \u001b[0m2025/08/18 08:15:33 [notice] 1#1: start worker process 35\n",
      "\u001b[0G\u001b7\u001b[1B\u001b[2K\u001b[1B\u001b[2K\u001b[1B\u001b[2K\u001b[1B\u001b[2K\u001b[1B\u001b[2K\u001b[1B\u001b[2K\u001b[1B\u001b[2K\u001b[1B\u001b[2K\u001b[1B\u001b[2K\u001b[1B\u001b[2K\u001b[1B\u001b[2K\u001b[1B\u001b[2K\u001b[1B\u001b[2K\u001b[1B\u001b[2K\u001b[1B\u001b[2K\u001b[1B\u001b[2K\u001b[1B\u001b[2K\u001b[1B\u001b[2K\u001b[1B\u001b[2K\u001b[1B\u001b[2K\u001b[1B\u001b[2K\u001b[1B\u001b[2K\u001b[1B\u001b[2K\u001b[1B\u001b[2K\u001b8\u001b[2K\n",
      "\u001b[0G\u001b[2K\n",
      "\u001b[0G\u001b[2A\u001b[0G\u001b7\u001b[24;0H\u001b[2K\u001b[1;38;2;0;0;0;48;2;255;255;255mw\u001b[0m\u001b[2m Enable Watch\u001b[0m\u001b[0G\u001b8\u001b[0G\u001b7\u001b[1B\u001b[2K\u001b[1B\u001b[2K\u001b[1B\u001b[2K\u001b[1B\u001b[2K\u001b[1B\u001b[2K\u001b[1B\u001b[2K\u001b[1B\u001b[2K\u001b[1B\u001b[2K\u001b[1B\u001b[2K\u001b[1B\u001b[2K\u001b[1B\u001b[2K\u001b[1B\u001b[2K\u001b[1B\u001b[2K\u001b[1B\u001b[2K\u001b[1B\u001b[2K\u001b[1B\u001b[2K\u001b[1B\u001b[2K\u001b[1B\u001b[2K\u001b[1B\u001b[2K\u001b[1B\u001b[2K\u001b[1B\u001b[2K\u001b[1B\u001b[2K\u001b[1B\u001b[2K\u001b[1B\u001b[2K\u001b8\u001b[36mbackend-1   | \u001b[0m2025/08/18 08:15:33 [notice] 1#1: start worker process 36\n",
      "\u001b[0G\u001b7\u001b[1B\u001b[2K\u001b[1B\u001b[2K\u001b[1B\u001b[2K\u001b[1B\u001b[2K\u001b[1B\u001b[2K\u001b[1B\u001b[2K\u001b[1B\u001b[2K\u001b[1B\u001b[2K\u001b[1B\u001b[2K\u001b[1B\u001b[2K\u001b[1B\u001b[2K\u001b[1B\u001b[2K\u001b[1B\u001b[2K\u001b[1B\u001b[2K\u001b[1B\u001b[2K\u001b[1B\u001b[2K\u001b[1B\u001b[2K\u001b[1B\u001b[2K\u001b[1B\u001b[2K\u001b[1B\u001b[2K\u001b[1B\u001b[2K\u001b[1B\u001b[2K\u001b[1B\u001b[2K\u001b[1B\u001b[2K\u001b8\u001b[2K\n",
      "\u001b[0G\u001b[2K\n",
      "\u001b[0G\u001b[2A\u001b[0G\u001b7\u001b[24;0H\u001b[2K\u001b[1;38;2;0;0;0;48;2;255;255;255mw\u001b[0m\u001b[2m Enable Watch\u001b[0m\u001b[0G\u001b8\u001b[0G\u001b7\u001b[1B\u001b[2K\u001b[1B\u001b[2K\u001b[1B\u001b[2K\u001b[1B\u001b[2K\u001b[1B\u001b[2K\u001b[1B\u001b[2K\u001b[1B\u001b[2K\u001b[1B\u001b[2K\u001b[1B\u001b[2K\u001b[1B\u001b[2K\u001b[1B\u001b[2K\u001b[1B\u001b[2K\u001b[1B\u001b[2K\u001b[1B\u001b[2K\u001b[1B\u001b[2K\u001b[1B\u001b[2K\u001b[1B\u001b[2K\u001b[1B\u001b[2K\u001b[1B\u001b[2K\u001b[1B\u001b[2K\u001b[1B\u001b[2K\u001b[1B\u001b[2K\u001b[1B\u001b[2K\u001b[1B\u001b[2K\u001b8\u001b[36mbackend-1   | \u001b[0m2025/08/18 08:15:33 [notice] 1#1: start worker process 37\n",
      "\u001b[0G\u001b7\u001b[1B\u001b[2K\u001b[1B\u001b[2K\u001b[1B\u001b[2K\u001b[1B\u001b[2K\u001b[1B\u001b[2K\u001b[1B\u001b[2K\u001b[1B\u001b[2K\u001b[1B\u001b[2K\u001b[1B\u001b[2K\u001b[1B\u001b[2K\u001b[1B\u001b[2K\u001b[1B\u001b[2K\u001b[1B\u001b[2K\u001b[1B\u001b[2K\u001b[1B\u001b[2K\u001b[1B\u001b[2K\u001b[1B\u001b[2K\u001b[1B\u001b[2K\u001b[1B\u001b[2K\u001b[1B\u001b[2K\u001b[1B\u001b[2K\u001b[1B\u001b[2K\u001b[1B\u001b[2K\u001b[1B\u001b[2K\u001b8\u001b[2K\n",
      "\u001b[0G\u001b[2K\n",
      "\u001b[0G\u001b[2A\u001b[0G\u001b7\u001b[24;0H\u001b[2K\u001b[1;38;2;0;0;0;48;2;255;255;255mw\u001b[0m\u001b[2m Enable Watch\u001b[0m\u001b[0G\u001b8\u001b[0G\u001b7\u001b[1B\u001b[2K\u001b[1B\u001b[2K\u001b[1B\u001b[2K\u001b[1B\u001b[2K\u001b[1B\u001b[2K\u001b[1B\u001b[2K\u001b[1B\u001b[2K\u001b[1B\u001b[2K\u001b[1B\u001b[2K\u001b[1B\u001b[2K\u001b[1B\u001b[2K\u001b[1B\u001b[2K\u001b[1B\u001b[2K\u001b[1B\u001b[2K\u001b[1B\u001b[2K\u001b[1B\u001b[2K\u001b[1B\u001b[2K\u001b[1B\u001b[2K\u001b[1B\u001b[2K\u001b[1B\u001b[2K\u001b[1B\u001b[2K\u001b[1B\u001b[2K\u001b[1B\u001b[2K\u001b[1B\u001b[2K\u001b8\u001b[36mbackend-1   | \u001b[0m2025/08/18 08:15:33 [notice] 1#1: start worker process 38\n",
      "\u001b[0G\u001b7\u001b[1B\u001b[2K\u001b[1B\u001b[2K\u001b[1B\u001b[2K\u001b[1B\u001b[2K\u001b[1B\u001b[2K\u001b[1B\u001b[2K\u001b[1B\u001b[2K\u001b[1B\u001b[2K\u001b[1B\u001b[2K\u001b[1B\u001b[2K\u001b[1B\u001b[2K\u001b[1B\u001b[2K\u001b[1B\u001b[2K\u001b[1B\u001b[2K\u001b[1B\u001b[2K\u001b[1B\u001b[2K\u001b[1B\u001b[2K\u001b[1B\u001b[2K\u001b[1B\u001b[2K\u001b[1B\u001b[2K\u001b[1B\u001b[2K\u001b[1B\u001b[2K\u001b[1B\u001b[2K\u001b[1B\u001b[2K\u001b8\u001b[2K\n",
      "\u001b[0G\u001b[2K\n",
      "\u001b[0G\u001b[2A\u001b[0G\u001b7\u001b[24;0H\u001b[2K\u001b[1;38;2;0;0;0;48;2;255;255;255mw\u001b[0m\u001b[2m Enable Watch\u001b[0m\u001b[0G\u001b8\u001b[0G\u001b7\u001b[1B\u001b[2K\u001b[1B\u001b[2K\u001b[1B\u001b[2K\u001b[1B\u001b[2K\u001b[1B\u001b[2K\u001b[1B\u001b[2K\u001b[1B\u001b[2K\u001b[1B\u001b[2K\u001b[1B\u001b[2K\u001b[1B\u001b[2K\u001b[1B\u001b[2K\u001b[1B\u001b[2K\u001b[1B\u001b[2K\u001b[1B\u001b[2K\u001b[1B\u001b[2K\u001b[1B\u001b[2K\u001b[1B\u001b[2K\u001b[1B\u001b[2K\u001b[1B\u001b[2K\u001b[1B\u001b[2K\u001b[1B\u001b[2K\u001b[1B\u001b[2K\u001b[1B\u001b[2K\u001b[1B\u001b[2K\u001b8\u001b[36mbackend-1   | \u001b[0m2025/08/18 08:15:33 [notice] 1#1: start worker process 39\n",
      "\u001b[0G\u001b7\u001b[1B\u001b[2K\u001b[1B\u001b[2K\u001b[1B\u001b[2K\u001b[1B\u001b[2K\u001b[1B\u001b[2K\u001b[1B\u001b[2K\u001b[1B\u001b[2K\u001b[1B\u001b[2K\u001b[1B\u001b[2K\u001b[1B\u001b[2K\u001b[1B\u001b[2K\u001b[1B\u001b[2K\u001b[1B\u001b[2K\u001b[1B\u001b[2K\u001b[1B\u001b[2K\u001b[1B\u001b[2K\u001b[1B\u001b[2K\u001b[1B\u001b[2K\u001b[1B\u001b[2K\u001b[1B\u001b[2K\u001b[1B\u001b[2K\u001b[1B\u001b[2K\u001b[1B\u001b[2K\u001b[1B\u001b[2K\u001b8\u001b[2K\n",
      "\u001b[0G\u001b[2K\n",
      "\u001b[0G\u001b[2A\u001b[0G\u001b7\u001b[24;0H\u001b[2K\u001b[1;38;2;0;0;0;48;2;255;255;255mw\u001b[0m\u001b[2m Enable Watch\u001b[0m\u001b[0G\u001b8\u001b[0G\u001b7\u001b[1B\u001b[2K\u001b[1B\u001b[2K\u001b[1B\u001b[2K\u001b[1B\u001b[2K\u001b[1B\u001b[2K\u001b[1B\u001b[2K\u001b[1B\u001b[2K\u001b[1B\u001b[2K\u001b[1B\u001b[2K\u001b[1B\u001b[2K\u001b[1B\u001b[2K\u001b[1B\u001b[2K\u001b[1B\u001b[2K\u001b[1B\u001b[2K\u001b[1B\u001b[2K\u001b[1B\u001b[2K\u001b[1B\u001b[2K\u001b[1B\u001b[2K\u001b[1B\u001b[2K\u001b[1B\u001b[2K\u001b[1B\u001b[2K\u001b[1B\u001b[2K\u001b[1B\u001b[2K\u001b[1B\u001b[2K\u001b8\u001b[36mbackend-1   | \u001b[0m2025/08/18 08:15:33 [notice] 1#1: start worker process 40\n",
      "\u001b[0G\u001b7\u001b[1B\u001b[2K\u001b[1B\u001b[2K\u001b[1B\u001b[2K\u001b[1B\u001b[2K\u001b[1B\u001b[2K\u001b[1B\u001b[2K\u001b[1B\u001b[2K\u001b[1B\u001b[2K\u001b[1B\u001b[2K\u001b[1B\u001b[2K\u001b[1B\u001b[2K\u001b[1B\u001b[2K\u001b[1B\u001b[2K\u001b[1B\u001b[2K\u001b[1B\u001b[2K\u001b[1B\u001b[2K\u001b[1B\u001b[2K\u001b[1B\u001b[2K\u001b[1B\u001b[2K\u001b[1B\u001b[2K\u001b[1B\u001b[2K\u001b[1B\u001b[2K\u001b[1B\u001b[2K\u001b[1B\u001b[2K\u001b8\u001b[2K\n",
      "\u001b[0G\u001b[2K\n",
      "\u001b[0G\u001b[2A\u001b[0G\u001b7\u001b[24;0H\u001b[2K\u001b[1;38;2;0;0;0;48;2;255;255;255mw\u001b[0m\u001b[2m Enable Watch\u001b[0m\u001b[0G\u001b8\u001b[0G\u001b7\u001b[1B\u001b[2K\u001b[1B\u001b[2K\u001b[1B\u001b[2K\u001b[1B\u001b[2K\u001b[1B\u001b[2K\u001b[1B\u001b[2K\u001b[1B\u001b[2K\u001b[1B\u001b[2K\u001b[1B\u001b[2K\u001b[1B\u001b[2K\u001b[1B\u001b[2K\u001b[1B\u001b[2K\u001b[1B\u001b[2K\u001b[1B\u001b[2K\u001b[1B\u001b[2K\u001b[1B\u001b[2K\u001b[1B\u001b[2K\u001b[1B\u001b[2K\u001b[1B\u001b[2K\u001b[1B\u001b[2K\u001b[1B\u001b[2K\u001b[1B\u001b[2K\u001b[1B\u001b[2K\u001b[1B\u001b[2K\u001b8\u001b[36mbackend-1   | \u001b[0m2025/08/18 08:15:33 [notice] 1#1: start worker process 41\n",
      "\u001b[0G\u001b7\u001b[1B\u001b[2K\u001b[1B\u001b[2K\u001b[1B\u001b[2K\u001b[1B\u001b[2K\u001b[1B\u001b[2K\u001b[1B\u001b[2K\u001b[1B\u001b[2K\u001b[1B\u001b[2K\u001b[1B\u001b[2K\u001b[1B\u001b[2K\u001b[1B\u001b[2K\u001b[1B\u001b[2K\u001b[1B\u001b[2K\u001b[1B\u001b[2K\u001b[1B\u001b[2K\u001b[1B\u001b[2K\u001b[1B\u001b[2K\u001b[1B\u001b[2K\u001b[1B\u001b[2K\u001b[1B\u001b[2K\u001b[1B\u001b[2K\u001b[1B\u001b[2K\u001b[1B\u001b[2K\u001b[1B\u001b[2K\u001b8\u001b[2K\n",
      "\u001b[0G\u001b[2K\n",
      "\u001b[0G\u001b[2A\u001b[0G\u001b7\u001b[24;0H\u001b[2K\u001b[1;38;2;0;0;0;48;2;255;255;255mw\u001b[0m\u001b[2m Enable Watch\u001b[0m\u001b[0G\u001b8\u001b[0G\u001b7\u001b[1B\u001b[2K\u001b[1B\u001b[2K\u001b[1B\u001b[2K\u001b[1B\u001b[2K\u001b[1B\u001b[2K\u001b[1B\u001b[2K\u001b[1B\u001b[2K\u001b[1B\u001b[2K\u001b[1B\u001b[2K\u001b[1B\u001b[2K\u001b[1B\u001b[2K\u001b[1B\u001b[2K\u001b[1B\u001b[2K\u001b[1B\u001b[2K\u001b[1B\u001b[2K\u001b[1B\u001b[2K\u001b[1B\u001b[2K\u001b[1B\u001b[2K\u001b[1B\u001b[2K\u001b[1B\u001b[2K\u001b[1B\u001b[2K\u001b[1B\u001b[2K\u001b[1B\u001b[2K\u001b[1B\u001b[2K\u001b8\u001b[36mbackend-1   | \u001b[0m2025/08/18 08:15:33 [notice] 1#1: start worker process 42\n",
      "\u001b[0G\u001b7\u001b[1B\u001b[2K\u001b[1B\u001b[2K\u001b[1B\u001b[2K\u001b[1B\u001b[2K\u001b[1B\u001b[2K\u001b[1B\u001b[2K\u001b[1B\u001b[2K\u001b[1B\u001b[2K\u001b[1B\u001b[2K\u001b[1B\u001b[2K\u001b[1B\u001b[2K\u001b[1B\u001b[2K\u001b[1B\u001b[2K\u001b[1B\u001b[2K\u001b[1B\u001b[2K\u001b[1B\u001b[2K\u001b[1B\u001b[2K\u001b[1B\u001b[2K\u001b[1B\u001b[2K\u001b[1B\u001b[2K\u001b[1B\u001b[2K\u001b[1B\u001b[2K\u001b[1B\u001b[2K\u001b[1B\u001b[2K\u001b8\u001b[2K\n",
      "\u001b[0G\u001b[2K\n",
      "\u001b[0G\u001b[2A\u001b[0G\u001b7\u001b[24;0H\u001b[2K\u001b[1;38;2;0;0;0;48;2;255;255;255mw\u001b[0m\u001b[2m Enable Watch\u001b[0m\u001b[0G\u001b8\u001b[0G\u001b7\u001b[1B\u001b[2K\u001b[1B\u001b[2K\u001b[1B\u001b[2K\u001b[1B\u001b[2K\u001b[1B\u001b[2K\u001b[1B\u001b[2K\u001b[1B\u001b[2K\u001b[1B\u001b[2K\u001b[1B\u001b[2K\u001b[1B\u001b[2K\u001b[1B\u001b[2K\u001b[1B\u001b[2K\u001b[1B\u001b[2K\u001b[1B\u001b[2K\u001b[1B\u001b[2K\u001b[1B\u001b[2K\u001b[1B\u001b[2K\u001b[1B\u001b[2K\u001b[1B\u001b[2K\u001b[1B\u001b[2K\u001b[1B\u001b[2K\u001b[1B\u001b[2K\u001b[1B\u001b[2K\u001b[1B\u001b[2K\u001b8\u001b[36mbackend-1   | \u001b[0m2025/08/18 08:15:33 [notice] 1#1: start worker process 43\n",
      "\u001b[0G\u001b7\u001b[1B\u001b[2K\u001b[1B\u001b[2K\u001b[1B\u001b[2K\u001b[1B\u001b[2K\u001b[1B\u001b[2K\u001b[1B\u001b[2K\u001b[1B\u001b[2K\u001b[1B\u001b[2K\u001b[1B\u001b[2K\u001b[1B\u001b[2K\u001b[1B\u001b[2K\u001b[1B\u001b[2K\u001b[1B\u001b[2K\u001b[1B\u001b[2K\u001b[1B\u001b[2K\u001b[1B\u001b[2K\u001b[1B\u001b[2K\u001b[1B\u001b[2K\u001b[1B\u001b[2K\u001b[1B\u001b[2K\u001b[1B\u001b[2K\u001b[1B\u001b[2K\u001b[1B\u001b[2K\u001b[1B\u001b[2K\u001b8\u001b[2K\n",
      "\u001b[0G\u001b[2K\n",
      "\u001b[0G\u001b[2A\u001b[0G\u001b7\u001b[24;0H\u001b[2K\u001b[1;38;2;0;0;0;48;2;255;255;255mw\u001b[0m\u001b[2m Enable Watch\u001b[0m\u001b[0G\u001b8\u001b[0G\u001b7\u001b[1B\u001b[2K\u001b[1B\u001b[2K\u001b[1B\u001b[2K\u001b[1B\u001b[2K\u001b[1B\u001b[2K\u001b[1B\u001b[2K\u001b[1B\u001b[2K\u001b[1B\u001b[2K\u001b[1B\u001b[2K\u001b[1B\u001b[2K\u001b[1B\u001b[2K\u001b[1B\u001b[2K\u001b[1B\u001b[2K\u001b[1B\u001b[2K\u001b[1B\u001b[2K\u001b[1B\u001b[2K\u001b[1B\u001b[2K\u001b[1B\u001b[2K\u001b[1B\u001b[2K\u001b[1B\u001b[2K\u001b[1B\u001b[2K\u001b[1B\u001b[2K\u001b[1B\u001b[2K\u001b[1B\u001b[2K\u001b8\u001b[36mbackend-1   | \u001b[0m2025/08/18 08:15:33 [notice] 1#1: start worker process 44\n",
      "\u001b[0G\u001b7\u001b[1B\u001b[2K\u001b[1B\u001b[2K\u001b[1B\u001b[2K\u001b[1B\u001b[2K\u001b[1B\u001b[2K\u001b[1B\u001b[2K\u001b[1B\u001b[2K\u001b[1B\u001b[2K\u001b[1B\u001b[2K\u001b[1B\u001b[2K\u001b[1B\u001b[2K\u001b[1B\u001b[2K\u001b[1B\u001b[2K\u001b[1B\u001b[2K\u001b[1B\u001b[2K\u001b[1B\u001b[2K\u001b[1B\u001b[2K\u001b[1B\u001b[2K\u001b[1B\u001b[2K\u001b[1B\u001b[2K\u001b[1B\u001b[2K\u001b[1B\u001b[2K\u001b[1B\u001b[2K\u001b[1B\u001b[2K\u001b8\u001b[2K\n",
      "\u001b[0G\u001b[2K\n",
      "\u001b[0G\u001b[2A\u001b[0G\u001b7\u001b[24;0H\u001b[2K\u001b[1;38;2;0;0;0;48;2;255;255;255mw\u001b[0m\u001b[2m Enable Watch\u001b[0m\u001b[0G\u001b8\u001b[0G\u001b7\u001b[1B\u001b[2K\u001b[1B\u001b[2K\u001b[1B\u001b[2K\u001b[1B\u001b[2K\u001b[1B\u001b[2K\u001b[1B\u001b[2K\u001b[1B\u001b[2K\u001b[1B\u001b[2K\u001b[1B\u001b[2K\u001b[1B\u001b[2K\u001b[1B\u001b[2K\u001b[1B\u001b[2K\u001b[1B\u001b[2K\u001b[1B\u001b[2K\u001b[1B\u001b[2K\u001b[1B\u001b[2K\u001b[1B\u001b[2K\u001b[1B\u001b[2K\u001b[1B\u001b[2K\u001b[1B\u001b[2K\u001b[1B\u001b[2K\u001b[1B\u001b[2K\u001b[1B\u001b[2K\u001b[1B\u001b[2K\u001b8\u001b[36mbackend-1   | \u001b[0m2025/08/18 08:15:33 [notice] 1#1: start worker process 45\n",
      "\u001b[0G\u001b7\u001b[1B\u001b[2K\u001b[1B\u001b[2K\u001b[1B\u001b[2K\u001b[1B\u001b[2K\u001b[1B\u001b[2K\u001b[1B\u001b[2K\u001b[1B\u001b[2K\u001b[1B\u001b[2K\u001b[1B\u001b[2K\u001b[1B\u001b[2K\u001b[1B\u001b[2K\u001b[1B\u001b[2K\u001b[1B\u001b[2K\u001b[1B\u001b[2K\u001b[1B\u001b[2K\u001b[1B\u001b[2K\u001b[1B\u001b[2K\u001b[1B\u001b[2K\u001b[1B\u001b[2K\u001b[1B\u001b[2K\u001b[1B\u001b[2K\u001b[1B\u001b[2K\u001b[1B\u001b[2K\u001b[1B\u001b[2K\u001b8\u001b[2K\n",
      "\u001b[0G\u001b[2K\n",
      "\u001b[0G\u001b[2A\u001b[0G\u001b7\u001b[24;0H\u001b[2K\u001b[1;38;2;0;0;0;48;2;255;255;255mw\u001b[0m\u001b[2m Enable Watch\u001b[0m\u001b[0G\u001b8\u001b[0G\u001b7\u001b[1B\u001b[2K\u001b[1B\u001b[2K\u001b[1B\u001b[2K\u001b[1B\u001b[2K\u001b[1B\u001b[2K\u001b[1B\u001b[2K\u001b[1B\u001b[2K\u001b[1B\u001b[2K\u001b[1B\u001b[2K\u001b[1B\u001b[2K\u001b[1B\u001b[2K\u001b[1B\u001b[2K\u001b[1B\u001b[2K\u001b[1B\u001b[2K\u001b[1B\u001b[2K\u001b[1B\u001b[2K\u001b[1B\u001b[2K\u001b[1B\u001b[2K\u001b[1B\u001b[2K\u001b[1B\u001b[2K\u001b[1B\u001b[2K\u001b[1B\u001b[2K\u001b[1B\u001b[2K\u001b[1B\u001b[2K\u001b8\u001b[36mbackend-1   | \u001b[0m2025/08/18 08:15:33 [notice] 1#1: start worker process 46\n",
      "\u001b[0G\u001b7\u001b[1B\u001b[2K\u001b[1B\u001b[2K\u001b[1B\u001b[2K\u001b[1B\u001b[2K\u001b[1B\u001b[2K\u001b[1B\u001b[2K\u001b[1B\u001b[2K\u001b[1B\u001b[2K\u001b[1B\u001b[2K\u001b[1B\u001b[2K\u001b[1B\u001b[2K\u001b[1B\u001b[2K\u001b[1B\u001b[2K\u001b[1B\u001b[2K\u001b[1B\u001b[2K\u001b[1B\u001b[2K\u001b[1B\u001b[2K\u001b[1B\u001b[2K\u001b[1B\u001b[2K\u001b[1B\u001b[2K\u001b[1B\u001b[2K\u001b[1B\u001b[2K\u001b[1B\u001b[2K\u001b[1B\u001b[2K\u001b8\u001b[2K\n",
      "\u001b[0G\u001b[2K\n",
      "\u001b[0G\u001b[2A\u001b[0G\u001b7\u001b[24;0H\u001b[2K\u001b[1;38;2;0;0;0;48;2;255;255;255mw\u001b[0m\u001b[2m Enable Watch\u001b[0m\u001b[0G\u001b8\u001b[0G\u001b7\u001b[1B\u001b[2K\u001b[1B\u001b[2K\u001b[1B\u001b[2K\u001b[1B\u001b[2K\u001b[1B\u001b[2K\u001b[1B\u001b[2K\u001b[1B\u001b[2K\u001b[1B\u001b[2K\u001b[1B\u001b[2K\u001b[1B\u001b[2K\u001b[1B\u001b[2K\u001b[1B\u001b[2K\u001b[1B\u001b[2K\u001b[1B\u001b[2K\u001b[1B\u001b[2K\u001b[1B\u001b[2K\u001b[1B\u001b[2K\u001b[1B\u001b[2K\u001b[1B\u001b[2K\u001b[1B\u001b[2K\u001b[1B\u001b[2K\u001b[1B\u001b[2K\u001b[1B\u001b[2K\u001b[1B\u001b[2K\u001b8\u001b[36mbackend-1   | \u001b[0m2025/08/18 08:15:33 [notice] 1#1: start worker process 47\n",
      "\u001b[0G\u001b7\u001b[1B\u001b[2K\u001b[1B\u001b[2K\u001b[1B\u001b[2K\u001b[1B\u001b[2K\u001b[1B\u001b[2K\u001b[1B\u001b[2K\u001b[1B\u001b[2K\u001b[1B\u001b[2K\u001b[1B\u001b[2K\u001b[1B\u001b[2K\u001b[1B\u001b[2K\u001b[1B\u001b[2K\u001b[1B\u001b[2K\u001b[1B\u001b[2K\u001b[1B\u001b[2K\u001b[1B\u001b[2K\u001b[1B\u001b[2K\u001b[1B\u001b[2K\u001b[1B\u001b[2K\u001b[1B\u001b[2K\u001b[1B\u001b[2K\u001b[1B\u001b[2K\u001b[1B\u001b[2K\u001b[1B\u001b[2K\u001b8\u001b[2K\n",
      "\u001b[0G\u001b[2K\n",
      "\u001b[0G\u001b[2A\u001b[0G\u001b7\u001b[24;0H\u001b[2K\u001b[1;38;2;0;0;0;48;2;255;255;255mw\u001b[0m\u001b[2m Enable Watch\u001b[0m\u001b[0G\u001b8\u001b[0G\u001b7\u001b[1B\u001b[2K\u001b[1B\u001b[2K\u001b[1B\u001b[2K\u001b[1B\u001b[2K\u001b[1B\u001b[2K\u001b[1B\u001b[2K\u001b[1B\u001b[2K\u001b[1B\u001b[2K\u001b[1B\u001b[2K\u001b[1B\u001b[2K\u001b[1B\u001b[2K\u001b[1B\u001b[2K\u001b[1B\u001b[2K\u001b[1B\u001b[2K\u001b[1B\u001b[2K\u001b[1B\u001b[2K\u001b[1B\u001b[2K\u001b[1B\u001b[2K\u001b[1B\u001b[2K\u001b[1B\u001b[2K\u001b[1B\u001b[2K\u001b[1B\u001b[2K\u001b[1B\u001b[2K\u001b[1B\u001b[2K\u001b8\u001b[36mbackend-1   | \u001b[0m2025/08/18 08:15:33 [notice] 1#1: start worker process 48\n",
      "\u001b[0G\u001b7\u001b[1B\u001b[2K\u001b[1B\u001b[2K\u001b[1B\u001b[2K\u001b[1B\u001b[2K\u001b[1B\u001b[2K\u001b[1B\u001b[2K\u001b[1B\u001b[2K\u001b[1B\u001b[2K\u001b[1B\u001b[2K\u001b[1B\u001b[2K\u001b[1B\u001b[2K\u001b[1B\u001b[2K\u001b[1B\u001b[2K\u001b[1B\u001b[2K\u001b[1B\u001b[2K\u001b[1B\u001b[2K\u001b[1B\u001b[2K\u001b[1B\u001b[2K\u001b[1B\u001b[2K\u001b[1B\u001b[2K\u001b[1B\u001b[2K\u001b[1B\u001b[2K\u001b[1B\u001b[2K\u001b[1B\u001b[2K\u001b8\u001b[2K\n",
      "\u001b[0G\u001b[2K\n",
      "\u001b[0G\u001b[2A\u001b[0G\u001b7\u001b[24;0H\u001b[2K\u001b[1;38;2;0;0;0;48;2;255;255;255mw\u001b[0m\u001b[2m Enable Watch\u001b[0m\u001b[0G\u001b8\u001b[0G\u001b7\u001b[1B\u001b[2K\u001b[1B\u001b[2K\u001b[1B\u001b[2K\u001b[1B\u001b[2K\u001b[1B\u001b[2K\u001b[1B\u001b[2K\u001b[1B\u001b[2K\u001b[1B\u001b[2K\u001b[1B\u001b[2K\u001b[1B\u001b[2K\u001b[1B\u001b[2K\u001b[1B\u001b[2K\u001b[1B\u001b[2K\u001b[1B\u001b[2K\u001b[1B\u001b[2K\u001b[1B\u001b[2K\u001b[1B\u001b[2K\u001b[1B\u001b[2K\u001b[1B\u001b[2K\u001b[1B\u001b[2K\u001b[1B\u001b[2K\u001b[1B\u001b[2K\u001b[1B\u001b[2K\u001b[1B\u001b[2K\u001b8\u001b[36mbackend-1   | \u001b[0m2025/08/18 08:15:33 [notice] 1#1: start worker process 49\n",
      "\u001b[0G\u001b7\u001b[1B\u001b[2K\u001b[1B\u001b[2K\u001b[1B\u001b[2K\u001b[1B\u001b[2K\u001b[1B\u001b[2K\u001b[1B\u001b[2K\u001b[1B\u001b[2K\u001b[1B\u001b[2K\u001b[1B\u001b[2K\u001b[1B\u001b[2K\u001b[1B\u001b[2K\u001b[1B\u001b[2K\u001b[1B\u001b[2K\u001b[1B\u001b[2K\u001b[1B\u001b[2K\u001b[1B\u001b[2K\u001b[1B\u001b[2K\u001b[1B\u001b[2K\u001b[1B\u001b[2K\u001b[1B\u001b[2K\u001b[1B\u001b[2K\u001b[1B\u001b[2K\u001b[1B\u001b[2K\u001b[1B\u001b[2K\u001b8\u001b[2K\n",
      "\u001b[0G\u001b[2K\n",
      "\u001b[0G\u001b[2A\u001b[0G\u001b7\u001b[24;0H\u001b[2K\u001b[1;38;2;0;0;0;48;2;255;255;255mw\u001b[0m\u001b[2m Enable Watch\u001b[0m\u001b[0G\u001b8Gracefully stopping... (press Ctrl+C again to force)\n",
      "\u001b[0G\u001b7\u001b[1B\u001b[2K\u001b[1B\u001b[2K\u001b[1B\u001b[2K\u001b[1B\u001b[2K\u001b[1B\u001b[2K\u001b[1B\u001b[2K\u001b[1B\u001b[2K\u001b[1B\u001b[2K\u001b[1B\u001b[2K\u001b[1B\u001b[2K\u001b[1B\u001b[2K\u001b[1B\u001b[2K\u001b[1B\u001b[2K\u001b[1B\u001b[2K\u001b[1B\u001b[2K\u001b[1B\u001b[2K\u001b[1B\u001b[2K\u001b[1B\u001b[2K\u001b[1B\u001b[2K\u001b[1B\u001b[2K\u001b[1B\u001b[2K\u001b[1B\u001b[2K\u001b[1B\u001b[2K\u001b[1B\u001b[2K\u001b8\u001b[?25h\u001b[1A\u001b[1B\u001b[0G\u001b[?25l[+] Stopping 0/2\n",
      " \u001b[33m⠋\u001b[0m Container pmtiles-frontend-1  Stoppin...                                \u001b[34m0.1s \u001b[0m\n",
      " \u001b[33m⠋\u001b[0m Container pmtiles-backend-1   Stopping                                  \u001b[34m0.1s \u001b[0m\n",
      "\u001b[?25h\u001b[1A\u001b[1A\u001b[1A\u001b[0G\u001b[?25l[+] Stopping 1/2\n",
      " \u001b[33m⠙\u001b[0m Container pmtiles-frontend-1  Stoppin...                                \u001b[34m0.2s \u001b[0m\n",
      " \u001b[32m✔\u001b[0m Container pmtiles-backend-1   \u001b[32mStopped\u001b[0m                                   \u001b[34m0.2s \u001b[0m\n",
      "\u001b[?25h\u001b[1A\u001b[1A\u001b[1A\u001b[0G\u001b[?25l\u001b[34m[+] Stopping 2/2\u001b[0m\n",
      " \u001b[32m✔\u001b[0m Container pmtiles-frontend-1  \u001b[32mStopped\u001b[0m                                   \u001b[34m0.2s \u001b[0m\n",
      " \u001b[32m✔\u001b[0m Container pmtiles-backend-1   \u001b[32mStopped\u001b[0m                                   \u001b[34m0.2s \u001b[0m\n",
      "\u001b[?25h\n"
     ]
    }
   ],
   "source": [
    "!docker compose up --build"
   ]
  },
  {
   "cell_type": "markdown",
   "id": "c4f8ba8a",
   "metadata": {},
   "source": [
    "Fjerner demo containere og images"
   ]
  },
  {
   "cell_type": "code",
   "execution_count": 29,
   "id": "1f7aeef1",
   "metadata": {},
   "outputs": [
    {
     "name": "stdout",
     "output_type": "stream",
     "text": [
      "\u001b[1A\u001b[1B\u001b[0G\u001b[?25l[+] Stopping 2/2\n",
      " \u001b[32m✔\u001b[0m Container pmtiles-frontend-1  \u001b[32mStopped\u001b[0m                                   \u001b[34m0.0s \u001b[0m\n",
      " \u001b[32m✔\u001b[0m Container pmtiles-backend-1   \u001b[32mStopped\u001b[0m                                   \u001b[34m0.0s \u001b[0m\n",
      "\u001b[?25hGoing to remove pmtiles-backend-1, pmtiles-frontend-1\n",
      "\u001b[1A\u001b[1B\u001b[0G\u001b[?25l[+] Removing 2/2\n",
      " \u001b[32m✔\u001b[0m Container pmtiles-backend-1   \u001b[32mRemoved\u001b[0m                                   \u001b[34m0.0s \u001b[0m\n",
      " \u001b[32m✔\u001b[0m Container pmtiles-frontend-1  \u001b[32mRemoved\u001b[0m                                   \u001b[34m0.0s \u001b[0m\n",
      "\u001b[?25h"
     ]
    }
   ],
   "source": [
    "!docker compose rm -f -s -v"
   ]
  }
 ],
 "metadata": {
  "kernelspec": {
   "display_name": ".venv",
   "language": "python",
   "name": "python3"
  },
  "language_info": {
   "codemirror_mode": {
    "name": "ipython",
    "version": 3
   },
   "file_extension": ".py",
   "mimetype": "text/x-python",
   "name": "python",
   "nbconvert_exporter": "python",
   "pygments_lexer": "ipython3",
   "version": "3.13.2"
  }
 },
 "nbformat": 4,
 "nbformat_minor": 5
}
