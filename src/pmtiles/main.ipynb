{
 "cells": [
  {
   "cell_type": "markdown",
   "id": "96e2458f",
   "metadata": {},
   "source": [
    "# PM Tiles demo\n",
    "\n",
    "Denne notebooken er ment å vise frem kapabilitetene i PM Tiles formatet."
   ]
  },
  {
   "cell_type": "markdown",
   "id": "b52feed5",
   "metadata": {},
   "source": [
    "## Systemkrav\n",
    "\n",
    "Demoen krever noen verktøy som ikke kan håndteres isolert i et python miljø,\n",
    "for at dette skal være så portabelt som mulig er det lagt opp til å bruke Docker\n",
    "til å håndtere miljøet for disse verktøyene.\n",
    "\n",
    "Blokken under sjekker at Docker og Docker-compose er installert på vertssystemet."
   ]
  },
  {
   "cell_type": "code",
   "execution_count": null,
   "id": "217cbca0",
   "metadata": {},
   "outputs": [],
   "source": [
    "import subprocess\n",
    "from typing import List\n",
    "\n",
    "def execute_command(cmd: List[str], **kwargs):\n",
    "    return subprocess.run(\n",
    "        cmd,\n",
    "        capture_output=True,\n",
    "        text=True,\n",
    "        **kwargs\n",
    "    )\n",
    "\n",
    "system_requirements = [\n",
    "    [\"docker-compose\", \"--version\"],\n",
    "    [\"docker\", \"--version\"],\n",
    "]\n",
    "\n",
    "for requirement in system_requirements:\n",
    "    assert execute_command(requirement, check=False).returncode == 0, f\"System requirement {requirement} is not satisfied\""
   ]
  },
  {
   "cell_type": "markdown",
   "id": "f302ce0f",
   "metadata": {},
   "source": [
    "## Input data\n"
   ]
  },
  {
   "cell_type": "markdown",
   "id": "0770ddf1",
   "metadata": {},
   "source": [
    "\n",
    "### Raster\n",
    "\n",
    "\n",
    "![nedlasting](../../public/img/geonorge-n50-raster-krs.png)\n",
    "\n",
    "Last ned filen som vist over, pakk ut og flytt .tif filen til `raster/data/32_N50raster_2024.tif`\n"
   ]
  },
  {
   "cell_type": "markdown",
   "id": "0ee076e4",
   "metadata": {},
   "source": [
    "### Vektor \n",
    "\n",
    "![nedlasting](../../public/img/geonorge-n50-vektor-agder.png)\n",
    "\n",
    "Last ned filen som vist over, pakk ut og flytt .gdb filen til `vector/data/Basisdata_42_Agder_25832_N50Kartdata_FGDB.gdb`"
   ]
  },
  {
   "cell_type": "markdown",
   "id": "7d073ea1",
   "metadata": {},
   "source": [
    "Først sjekker vi at input filene finnes som forventet."
   ]
  },
  {
   "cell_type": "code",
   "execution_count": null,
   "id": "36f61a0f",
   "metadata": {},
   "outputs": [],
   "source": [
    "import utils\n",
    "\n",
    "assert utils.path_exists(\"raster/data/32_N50raster_2024.tif\"), f\"Mangler inputfil raster/data/32_N50raster_2024.tif\"\n",
    "assert utils.path_exists(\"vector/data/Basisdata_42_Agder_25832_N50Kartdata_FGDB.gdb\"), f\"Mangler inputfil vector/data/Basisdata_42_Agder_25832_N50Kartdata_FGDB.gdb\""
   ]
  },
  {
   "cell_type": "markdown",
   "id": "cec8dd11",
   "metadata": {},
   "source": [
    "## Konverterer raster data"
   ]
  },
  {
   "cell_type": "markdown",
   "id": "9b2a2ddb",
   "metadata": {},
   "source": [
    "Merk at her brukes python komandolinjeverktøyet `rio-pmtiles` som installeres via requirements.txt filen.\n",
    "\n",
    "```bash\n",
    "# Etter at virtuelt python miljø er aktivert.\n",
    "pip install -r requirements.txt\n",
    "```"
   ]
  },
  {
   "cell_type": "code",
   "execution_count": null,
   "id": "9a935dcb",
   "metadata": {},
   "outputs": [],
   "source": [
    "# Oppretter mappe for output\n",
    "utils.create_dir(\"raster/out\")\n"
   ]
  },
  {
   "cell_type": "code",
   "execution_count": null,
   "id": "7b154fab",
   "metadata": {},
   "outputs": [],
   "source": [
    "# Genererer pmtiles\n",
    "!rio pmtiles raster/data/32_N50raster_2024.tif raster/out/N50_raster_2024.pmtiles --format PNG"
   ]
  },
  {
   "cell_type": "markdown",
   "id": "f20c4209",
   "metadata": {},
   "source": [
    "## Konverterer vektor data"
   ]
  },
  {
   "cell_type": "code",
   "execution_count": null,
   "id": "9a5ed2d1",
   "metadata": {},
   "outputs": [],
   "source": [
    "# Oppretter mappe for output\n",
    "utils.create_dir(\"vector/out\")"
   ]
  },
  {
   "cell_type": "markdown",
   "id": "701aac9f",
   "metadata": {},
   "source": [
    "### Dockerfil\n",
    "\n",
    "For at demoen skal være relativt portabel skjer selve transformasjonen fra gdb til pmtiles\n",
    "i en docker container gjennom en rekke transformasjoner ved hjelp av flere verktøy.\n",
    "\n",
    "Format transformasjon:\n",
    "\n",
    "gdb => geojson => mbtiles => pmtiles\n",
    "\n",
    "Verktøy:\n",
    "\n",
    "- ogr2ogr: Konverterer gdb til geojson (gdal)\n",
    "- tippecanoe: Konverterer geojson til mbtiles\n",
    "- pmtiles: Konverterer mbtiles til pmtiles\n",
    "\n",
    "\n",
    "Det er mulig å kombinere flere lag i samme .pmtiles fil, men ved bruk av `vector/build.sh` scriptet fungerte\n",
    "ikke dette helt som forventet. Lagene blir opprettet, men ved lavere zoom ser ikke kartet pent ut. Videreutvikling\n",
    "oppfordres."
   ]
  },
  {
   "cell_type": "code",
   "execution_count": null,
   "id": "a065f0b0",
   "metadata": {},
   "outputs": [],
   "source": [
    "# Bygger docker image med gdal, tippecanoe og pmtiles\n",
    "!docker build -t pmtiles -f vector/Dockerfile ."
   ]
  },
  {
   "cell_type": "markdown",
   "id": "03fc48ce",
   "metadata": {},
   "source": [
    "Starter en container for å kunne kopiere lokale filer over til containeren og kjøre konverteringsscriptet\n",
    "i det isolerte miljøet."
   ]
  },
  {
   "cell_type": "code",
   "execution_count": null,
   "id": "48bf7cb7",
   "metadata": {},
   "outputs": [],
   "source": [
    "!docker run --name pmtiles-converter -d pmtiles"
   ]
  },
  {
   "cell_type": "markdown",
   "id": "f185cd5d",
   "metadata": {},
   "source": [
    "Kopierer kildedata inn i containeren."
   ]
  },
  {
   "cell_type": "code",
   "execution_count": null,
   "id": "c776a2cd",
   "metadata": {},
   "outputs": [],
   "source": [
    "!docker cp ./vector/data/Basisdata_42_Agder_25832_N50Kartdata_FGDB.gdb pmtiles-converter:/app/N50_vektor_agder.gdb "
   ]
  },
  {
   "cell_type": "markdown",
   "id": "df86617c",
   "metadata": {},
   "source": [
    "Konverterer samferdsel senterlinje laget til pmtiles"
   ]
  },
  {
   "cell_type": "code",
   "execution_count": null,
   "id": "b8efc688",
   "metadata": {},
   "outputs": [],
   "source": [
    "!docker exec pmtiles-converter bash gdb_to_pmtiles.sh N50_vektor_agder.gdb N50_Samferdsel_senterlinje N50_Samferdsel_senterlinje.pmtiles"
   ]
  },
  {
   "cell_type": "markdown",
   "id": "cfcee1c1",
   "metadata": {},
   "source": [
    "Kopierer pmtiles filen ut av containeren"
   ]
  },
  {
   "cell_type": "code",
   "execution_count": null,
   "id": "ac7c70e6",
   "metadata": {},
   "outputs": [],
   "source": [
    "!docker cp pmtiles-converter:/app/N50_Samferdsel_senterlinje.pmtiles ./vector/out/N50_Samferdsel_senterlinje.pmtiles"
   ]
  },
  {
   "cell_type": "markdown",
   "id": "5a814a65",
   "metadata": {},
   "source": [
    "Konverterer bygninger og anlegg område laget til pmtiles"
   ]
  },
  {
   "cell_type": "code",
   "execution_count": null,
   "id": "19298b22",
   "metadata": {},
   "outputs": [],
   "source": [
    "!docker exec pmtiles-converter bash gdb_to_pmtiles.sh N50_vektor_agder.gdb N50_BygningerOgAnlegg_omrade N50_BygningerOgAnlegg_omrade.pmtiles"
   ]
  },
  {
   "cell_type": "markdown",
   "id": "7e724a42",
   "metadata": {},
   "source": [
    "Kopierer pmtiles filen ut av containeren"
   ]
  },
  {
   "cell_type": "code",
   "execution_count": null,
   "id": "641acb02",
   "metadata": {},
   "outputs": [],
   "source": [
    "!docker cp pmtiles-converter:/app/N50_BygningerOgAnlegg_omrade.pmtiles ./vector/out/N50_BygningerOgAnlegg_omrade.pmtiles"
   ]
  },
  {
   "cell_type": "markdown",
   "id": "b8d3ff15",
   "metadata": {},
   "source": [
    "Stopper og fjerner containeren etter at konverteringen er ferdig."
   ]
  },
  {
   "cell_type": "code",
   "execution_count": null,
   "id": "af07624b",
   "metadata": {},
   "outputs": [],
   "source": [
    "!docker stop pmtiles-converter\n",
    "!docker rm pmtiles-converter"
   ]
  },
  {
   "cell_type": "markdown",
   "id": "483fc2f3",
   "metadata": {},
   "source": [
    "Fjerner docker image"
   ]
  },
  {
   "cell_type": "code",
   "execution_count": null,
   "id": "2ae7c215",
   "metadata": {},
   "outputs": [],
   "source": [
    "!docker rmi pmtiles"
   ]
  },
  {
   "cell_type": "markdown",
   "id": "e3cd20e4",
   "metadata": {},
   "source": [
    "# Demo\n",
    "\n",
    "I denne delen bruker vi `docker-compose` til å kjøre en lokal demo hvor pmtiles filene hostes\n",
    "over nettet og en veldig enkel web-app leser data fra filene.\n",
    "\n",
    "Demoen består av to applikasjoner:\n",
    "\n",
    "- Web appen som kjører i nettleseren.\n",
    "- En ngix container som hoster de tre pmtiles filene vi har generert.\n",
    "\n",
    "Mens docker compose blokken under kjører kan web appen åpnes på \n",
    "[http://localhost:3000](http://localhost:3000).\n",
    "I appen vil man se de tre filene vi har generert som lag, det kreves ingen back-end prosessering utover\n",
    "å tilgjengeliggjøre filene over internett. Kildekoden for web appen finnes under `client/` mappen.\n",
    "Ved å inspisere nettverkstrafikken i nettleseren kan man observere \n",
    "hvordan range headeren brukes til å spørre ut deler av filene.\n",
    "\n",
    "(Demo blokken må stoppes manuelt)"
   ]
  },
  {
   "cell_type": "code",
   "execution_count": null,
   "id": "2fc3cdf6",
   "metadata": {},
   "outputs": [],
   "source": [
    "!docker compose up --build"
   ]
  },
  {
   "cell_type": "markdown",
   "id": "c4f8ba8a",
   "metadata": {},
   "source": [
    "Fjerner demo containere og images"
   ]
  },
  {
   "cell_type": "code",
   "execution_count": null,
   "id": "1f7aeef1",
   "metadata": {},
   "outputs": [],
   "source": [
    "!docker compose rm -f -s -v"
   ]
  }
 ],
 "metadata": {
  "kernelspec": {
   "display_name": ".venv",
   "language": "python",
   "name": "python3"
  },
  "language_info": {
   "codemirror_mode": {
    "name": "ipython",
    "version": 3
   },
   "file_extension": ".py",
   "mimetype": "text/x-python",
   "name": "python",
   "nbconvert_exporter": "python",
   "pygments_lexer": "ipython3",
   "version": "3.13.2"
  }
 },
 "nbformat": 4,
 "nbformat_minor": 5
}
