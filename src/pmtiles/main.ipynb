{
 "cells": [
  {
   "cell_type": "markdown",
   "id": "b52feed5",
   "metadata": {},
   "source": [
    "Sjekker systemkrav"
   ]
  },
  {
   "cell_type": "code",
   "execution_count": 30,
   "id": "217cbca0",
   "metadata": {},
   "outputs": [],
   "source": [
    "import subprocess\n",
    "from typing import List\n",
    "\n",
    "def execute_command(cmd: List[str], **kwargs):\n",
    "    return subprocess.run(\n",
    "        cmd,\n",
    "        capture_output=True,\n",
    "        text=True,\n",
    "        **kwargs\n",
    "    )\n",
    "\n",
    "system_requirements = [\n",
    "    [\"docker-compose\", \"--version\"],\n",
    "    [\"docker\", \"--version\"],\n",
    "]\n",
    "\n",
    "for requirement in system_requirements:\n",
    "    assert execute_command(requirement, check=False).returncode == 0, f\"System requirement {requirement} is not satisfied\""
   ]
  },
  {
   "cell_type": "markdown",
   "id": "f302ce0f",
   "metadata": {},
   "source": [
    "# PM Tiles raster data\n",
    "\n",
    "Denne notebooken konverterer GeoTiff til PMTiles ved å bruke rio-pmtiles verktøyet.\n",
    "\n",
    "## Input data\n",
    "\n",
    "![nedlasting](../../public/img/geonorge-n50-raster-krs.png)\n",
    "\n",
    "Last ned filen som vist over, pakk ut og flytt .tif filen til `data/N50_raster_2024.tif`\n"
   ]
  },
  {
   "cell_type": "markdown",
   "id": "7d073ea1",
   "metadata": {},
   "source": [
    "\n",
    "Først sjekker vi at input filen finnes som forventet."
   ]
  },
  {
   "cell_type": "code",
   "execution_count": 31,
   "id": "36f61a0f",
   "metadata": {},
   "outputs": [],
   "source": [
    "import utils\n",
    "\n",
    "INPUT_FILE = \"N50_raster_2024.tif\"\n",
    "assert utils.path_exists(f\"raster/data/{INPUT_FILE}\"), f\"Mangler inputfil {INPUT_FILE}\""
   ]
  },
  {
   "cell_type": "markdown",
   "id": "9b2a2ddb",
   "metadata": {},
   "source": [
    "Så bruker vi kommandolinjeverktøyet til å generere pmtiles filen."
   ]
  },
  {
   "cell_type": "code",
   "execution_count": 32,
   "id": "9a935dcb",
   "metadata": {},
   "outputs": [
    {
     "name": "stderr",
     "output_type": "stream",
     "text": [
      "1185.64s - pydevd: Sending message related to process being replaced timed-out after 5 seconds\n"
     ]
    },
    {
     "name": "stdout",
     "output_type": "stream",
     "text": [
      "100%|██████████████████████████████████████| 1425/1425 [00:11<00:00, 121.63it/s]\n"
     ]
    }
   ],
   "source": [
    "!rio pmtiles raster/data/N50_raster_2024.tif raster/out/N50_raster_2024.pmtiles --format PNG"
   ]
  },
  {
   "cell_type": "markdown",
   "id": "0ee076e4",
   "metadata": {},
   "source": [
    "# PM Tiles vektor data"
   ]
  }
 ],
 "metadata": {
  "kernelspec": {
   "display_name": ".venv",
   "language": "python",
   "name": "python3"
  },
  "language_info": {
   "codemirror_mode": {
    "name": "ipython",
    "version": 3
   },
   "file_extension": ".py",
   "mimetype": "text/x-python",
   "name": "python",
   "nbconvert_exporter": "python",
   "pygments_lexer": "ipython3",
   "version": "3.13.2"
  }
 },
 "nbformat": 4,
 "nbformat_minor": 5
}
