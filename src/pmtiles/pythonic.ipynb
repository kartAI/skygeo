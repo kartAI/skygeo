{
 "cells": [
  {
   "cell_type": "markdown",
   "id": "a7ddc5c2",
   "metadata": {},
   "source": [
    "# PMTiles med Python\n",
    "\n",
    "Dette er et eksempel som bruker Python-biblioteket `pmtiles` til å lage PMTiles. En fil for raster, som henter bilder fra WMS og en for vektor, som generer tilfeldige punkter med egenskaper som inneholder farge og radius."
   ]
  },
  {
   "cell_type": "code",
   "execution_count": null,
   "id": "9f0fee1a",
   "metadata": {},
   "outputs": [],
   "source": [
    "%pip install mapbox-vector-tile mercantile pmtiles owslib shapely"
   ]
  },
  {
   "cell_type": "markdown",
   "id": "8fb87c1e",
   "metadata": {},
   "source": [
    "## Oppsett"
   ]
  },
  {
   "cell_type": "code",
   "execution_count": null,
   "id": "e080238c",
   "metadata": {},
   "outputs": [
    {
     "data": {
      "text/plain": [
       "{'tile_type': <TileType.UNKNOWN: 0>,\n",
       " 'tile_compression': <Compression.NONE: 1>,\n",
       " 'min_zoom': 9,\n",
       " 'max_zoom': 11,\n",
       " 'min_lon_e7': 98437500,\n",
       " 'min_lat_e7': 598889368,\n",
       " 'max_lon_e7': 105468750,\n",
       " 'max_lat_e7': 602398111,\n",
       " 'center_zoom': 9,\n",
       " 'center_lat_e7': 101953125,\n",
       " 'center_lon_e7': 600643740}"
      ]
     },
     "execution_count": 64,
     "metadata": {},
     "output_type": "execute_result"
    }
   ],
   "source": [
    "from pathlib import Path\n",
    "\n",
    "import mercantile\n",
    "from pmtiles.tile import Compression, TileType\n",
    "import shapely\n",
    "\n",
    "base_dir = Path(\".\", \"pythonic\")\n",
    "\n",
    "lng = 10.248942\n",
    "lat = 60.143889\n",
    "min_zoom = 9\n",
    "max_zoom = 11\n",
    "\n",
    "tiles = [\n",
    "    mercantile.tile(lng, lat, min_zoom),\n",
    "]\n",
    "\n",
    "for i in range(min_zoom, max_zoom):\n",
    "    zoom = i + 1\n",
    "    tiles += mercantile.children(tiles[0], zoom=zoom)\n",
    "\n",
    "polys = shapely.MultiPolygon([shapely.box(*mercantile.bounds(tile)) for tile in tiles])\n",
    "bounds = polys.bounds\n",
    "center = polys.centroid\n",
    "\n",
    "e7 = 10000000.0\n",
    "\n",
    "header = {\n",
    "    \"tile_type\": TileType.UNKNOWN,\n",
    "    \"tile_compression\": Compression.NONE,\n",
    "    \"min_zoom\": min_zoom,\n",
    "    \"max_zoom\": max_zoom,\n",
    "    \"min_lon_e7\": int(bounds[0] * e7),\n",
    "    \"min_lat_e7\": int(bounds[1] * e7),\n",
    "    \"max_lon_e7\": int(bounds[2] * e7),\n",
    "    \"max_lat_e7\": int(bounds[3] * e7),\n",
    "    \"center_zoom\": min_zoom,\n",
    "    \"center_lat_e7\": int(center.x * e7),\n",
    "    \"center_lon_e7\": int(center.y * e7),\n",
    "}\n",
    "\n",
    "header"
   ]
  },
  {
   "cell_type": "markdown",
   "id": "c7a2c794",
   "metadata": {},
   "source": [
    "## Raster\n",
    "\n",
    "Hent ned tiles fra WMS og skriv disse til PMTiles."
   ]
  },
  {
   "cell_type": "code",
   "execution_count": 39,
   "id": "1f251cda",
   "metadata": {},
   "outputs": [],
   "source": [
    "from pmtiles.tile import TileType, zxy_to_tileid\n",
    "from pmtiles.writer import Writer\n",
    "from owslib.wms import WebMapService\n",
    "\n",
    "wms = WebMapService(\"https://wms.geonorge.no/skwms1/wms.topograatone\")\n",
    "main_layer = list(wms.contents.keys())[0]\n",
    "\n",
    "with base_dir.joinpath(\"raster.pmtiles\").open(\"wb\") as f:\n",
    "    writer = Writer(f)\n",
    "    \n",
    "    for tile in tiles:\n",
    "        bounds = mercantile.bounds(tile)\n",
    "        res = wms.getmap(\n",
    "            layers=[main_layer],\n",
    "            srs=\"EPSG:4326\",\n",
    "            bbox=bounds,\n",
    "            size=(256, 256),\n",
    "            format='image/png',\n",
    "            transparent=True,\n",
    "        )\n",
    "\n",
    "        tileid = zxy_to_tileid(tile.z, tile.x, tile.y)\n",
    "        writer.write_tile(tileid, res.read())\n",
    "    \n",
    "    writer.finalize(header | {\"tile_type\": TileType.PNG}, {\"attribution\": \"Kartverket\"})"
   ]
  },
  {
   "cell_type": "markdown",
   "id": "99369ca2",
   "metadata": {},
   "source": [
    "## Vektor\n",
    "\n",
    "Generer tilfeldige punkter innenfor en tile og gi disse hver sin farge i *properties*."
   ]
  },
  {
   "cell_type": "code",
   "execution_count": 41,
   "id": "4bc2a2cc",
   "metadata": {},
   "outputs": [],
   "source": [
    "import random\n",
    "\n",
    "import mapbox_vector_tile\n",
    "from pmtiles.tile import TileType, zxy_to_tileid\n",
    "from pmtiles.writer import Writer\n",
    "import shapely\n",
    "\n",
    "colors = [\n",
    "    \"#9e0142\",\n",
    "    \"#d53e4f\",\n",
    "    \"#f46d43\",\n",
    "    \"#fdae61\",\n",
    "    \"#fee08b\",\n",
    "    \"#e6f598\",\n",
    "    \"#abdda4\",\n",
    "    \"#66c2a5\",\n",
    "    \"#3288bd\",\n",
    "    \"#5e4fa2\",\n",
    "]\n",
    "\n",
    "with base_dir.joinpath(\"vector.pmtiles\").open(\"wb\") as f:\n",
    "    writer = Writer(f)\n",
    "\n",
    "    for tile in tiles:\n",
    "        features = []\n",
    "        for color in colors:\n",
    "            x = random.randint(0, 4096)\n",
    "            y = random.randint(0, 4096)\n",
    "            geometry = shapely.Point(x, y)\n",
    "            features.append({\n",
    "                \"geometry\": geometry.wkb,\n",
    "                \"properties\": {\n",
    "                    \"color\": color,\n",
    "                    \"radius\": random.randint(10, 30),\n",
    "                }\n",
    "            })\n",
    "        layer = {\n",
    "            \"name\": \"points\",\n",
    "            \"features\": features,\n",
    "        }\n",
    "        data = mapbox_vector_tile.encode([layer])\n",
    "        \n",
    "        tileid = zxy_to_tileid(tile.z, tile.x, tile.y)\n",
    "        writer.write_tile(tileid, data)\n",
    "    \n",
    "    writer.finalize(header | {\"tile_type\": TileType.MVT}, {\"attribution\": \"Kartverket\"})"
   ]
  },
  {
   "cell_type": "markdown",
   "id": "7f5f6565",
   "metadata": {},
   "source": [
    "## Script\n",
    "\n",
    "Kjør denne for å generere en JavaScript-fil som registrerer PMTiles-protokollen på MapLibre og laster kartet med posisjon og zoom-begrensninger i henhold til tilene som er generert.\n",
    "\n",
    "Kjør så en web-server fra *pythonic*-katalogen, på port `5173`.\n",
    "\n",
    "### Eksempel\n",
    "\n",
    "```sh\n",
    "cd pythonic\n",
    "python -m http.server 5173\n",
    "```\n",
    "\n",
    "...eller...\n",
    "\n",
    "```sh\n",
    "npm install --global http-server\n",
    "cd pythonic\n",
    "npx http-server --port 5173\n",
    "```"
   ]
  },
  {
   "cell_type": "code",
   "execution_count": 44,
   "id": "ae68ddde",
   "metadata": {},
   "outputs": [],
   "source": [
    "from string import Template\n",
    "\n",
    "tpl = Template(\"\"\"\n",
    "const protocol = new pmtiles.Protocol();\n",
    "maplibregl.addProtocol('pmtiles', protocol.tile);\n",
    "\n",
    "const map = new maplibregl.Map({\n",
    "    container: 'map',\n",
    "    style: 'http://localhost:5173/styles.json',\n",
    "    center: [$lng, $lat],\n",
    "    maxZoom: $max_zoom,\n",
    "    minZoom: $min_zoom,\n",
    "    zoom: $min_zoom,\n",
    "});\n",
    "\"\"\")\n",
    "\n",
    "txt = tpl.substitute(\n",
    "    lat=lat,\n",
    "    lng=lng,\n",
    "    max_zoom=max_zoom,\n",
    "    min_zoom=min_zoom,\n",
    ")\n",
    "\n",
    "with base_dir.joinpath(\"main.js\").open(\"w\") as f:\n",
    "    f.write(txt)"
   ]
  }
 ],
 "metadata": {
  "kernelspec": {
   "display_name": ".venv (3.12.10)",
   "language": "python",
   "name": "python3"
  },
  "language_info": {
   "codemirror_mode": {
    "name": "ipython",
    "version": 3
   },
   "file_extension": ".py",
   "mimetype": "text/x-python",
   "name": "python",
   "nbconvert_exporter": "python",
   "pygments_lexer": "ipython3",
   "version": "3.12.10"
  }
 },
 "nbformat": 4,
 "nbformat_minor": 5
}
