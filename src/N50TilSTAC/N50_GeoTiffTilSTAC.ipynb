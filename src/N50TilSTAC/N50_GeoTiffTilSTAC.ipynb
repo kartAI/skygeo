{
 "cells": [
  {
   "cell_type": "markdown",
   "id": "aec36bfc",
   "metadata": {},
   "source": [
    "# Lag STAC fra GeoTiff\n",
    "\n",
    "### Input: \n",
    "Mappe med .tif og .tfw -filer. Filer kan lastes ned fra Geonorge her: [(N50 Raster (UTM32) - Rutevis)](https://kartkatalog.geonorge.no/metadata/n50-raster-utm32-rutevis/bbe517ba-3b3a-4c96-a78e-104f6c4804d1?search=n50)\n",
    "\n",
    "### Output:\n",
    "**/stac_catalog** som inneholder *catalog.json* (oversikt) og egen mappe for hvert innleste kartblad."
   ]
  },
  {
   "cell_type": "markdown",
   "id": "7727ecdb",
   "metadata": {},
   "source": [
    "## Import av bibliotek "
   ]
  },
  {
   "cell_type": "code",
   "execution_count": 22,
   "id": "2e5ac963",
   "metadata": {},
   "outputs": [],
   "source": [
    "import os\n",
    "import numpy as np\n",
    "import rasterio\n",
    "import utils\n",
    "import shutil\n",
    "import subprocess\n",
    "from pathlib import Path\n",
    "from pystac import Catalog, Item, Asset\n",
    "from datetime import datetime\n",
    "from shapely.geometry import box, mapping"
   ]
  },
  {
   "cell_type": "markdown",
   "id": "5a0c4dd0",
   "metadata": {},
   "source": [
    "## Mappestruktur\n",
    "Her er det tenkt at koden kjøres i en mappe som har underkatalogene \"Input\" (inneholder bilder) og \"Output\" (mål for STAC-katalog)"
   ]
  },
  {
   "cell_type": "code",
   "execution_count": null,
   "id": "3f4f1ec3",
   "metadata": {},
   "outputs": [],
   "source": [
    "# Definer input/output mapper\n",
    "inputFolder = utils.get_workdir() / \"Input\"\n",
    "outputFolder = utils.get_workdir() / \"Output\"\n",
    "\n",
    "# Opprett COG-mappe hvis ikke den eksisterer\n",
    "COGFolder = utils.get_workdir() / \"COG\"\n",
    "if COGFolder.exists():\n",
    "    for item in COGFolder.iterdir():\n",
    "        if item.is_file():\n",
    "            item.unlink()\n",
    "        elif item.is_dir():\n",
    "            shutil.rmtree(item)\n",
    "else:\n",
    "    COGFolder.mkdir(parents=True, exist_ok=True)\n",
    "\n",
    "catalog = Catalog(id=\"N50-test-catalog\", description=\"STAC Catalog for N50 maps\")"
   ]
  },
  {
   "cell_type": "markdown",
   "id": "cbd4e0f2",
   "metadata": {},
   "source": [
    "## UDF: Konverter GeoTiff til COG"
   ]
  },
  {
   "cell_type": "code",
   "execution_count": 20,
   "id": "13173363",
   "metadata": {},
   "outputs": [],
   "source": [
    "def convert_folder_to_cog(input_folder, COGFolder):\n",
    "    input_folder = Path(input_folder)\n",
    "    COGFolder = Path(COGFolder)\n",
    "    COGFolder.mkdir(parents=True, exist_ok=True)\n",
    "\n",
    "    for tif_file in input_folder.glob(\"*.tif\"):\n",
    "        output_file = COGFolder / tif_file.name  # Same name\n",
    "        print(f\"Konverterer {tif_file.name} til COG...\")\n",
    "        \n",
    "        try:\n",
    "            with rasterio.open(tif_file) as src:\n",
    "                data: np.ndarray = src.read()\n",
    "                profile: dict = src.profile.copy()\n",
    "                \n",
    "                profile[\"driver\"] = \"COG\"\n",
    "                profile[\"nodata\"] = 0\n",
    "                \n",
    "                mask = np.zeros(src.shape, int)\n",
    "\n",
    "                # Rødt bånd - NODATA: 255\n",
    "                mask = np.where(data[0] == 255, mask + 1, mask)\n",
    "\n",
    "                # Grønt bånd - NODATA: 255\n",
    "                mask = np.where(data[1] == 255, mask + 1, mask)\n",
    "\n",
    "                # Blått bånd - NODATA: 252\n",
    "                mask = np.where(data[2] == 252, mask + 1, mask)\n",
    "\n",
    "                # Endre alle verdier som er `0` til `1`\n",
    "                data[data == 0] = 1\n",
    "\n",
    "                # Dersom alle bånd hadde sin respektive NODATA, settes verdien til `0`\n",
    "                data = np.where(mask == 3, 0, data)\n",
    "                \n",
    "                with rasterio.open(output_file, 'w', **profile) as f:\n",
    "                    f.write(data)\n",
    "                    \n",
    "            print(f\"Konvertering av {tif_file.name} til COG vellykket.\")\n",
    "                    \n",
    "        except Exception as e:\n",
    "            print(f\"Konvertering misslyktes for {tif_file.name}: {e}\")\n",
    "\n",
    "    print(\"Alle filer konvertert.\")"
   ]
  },
  {
   "cell_type": "markdown",
   "id": "31c6cc19",
   "metadata": {},
   "source": [
    "## Les og legg filene til i STAC-katalogen"
   ]
  },
  {
   "cell_type": "code",
   "execution_count": null,
   "id": "1d13c04d",
   "metadata": {},
   "outputs": [],
   "source": [
    "convert_folder_to_cog(inputFolder, COGFolder)\n",
    "\n",
    "for filename in os.listdir(COGFolder):\n",
    "    if filename.endswith(\".tif\"): # Velg kun TIFF-filer\n",
    "        filepath = COGFolder / filename\n",
    "\n",
    "        # Les bbox og EPSG-kode fra TIFF-filen\n",
    "        with rasterio.open(filepath) as src:\n",
    "            bounds = src.bounds\n",
    "            bbox = [bounds.left, bounds.bottom, bounds.right, bounds.top]\n",
    "            geometry = mapping(box(*bbox))\n",
    "            crs = src.crs.to_string()\n",
    "\n",
    "        item_id = os.path.splitext(filename)[0]\n",
    "        item = Item(\n",
    "            id=item_id,\n",
    "            geometry=geometry,\n",
    "            bbox=bbox,\n",
    "            datetime=datetime.now(),\n",
    "            properties={\"proj:epsg\": int(crs.split(\":\")[-1])},\n",
    "        )\n",
    "\n",
    "        # Output-katalog\n",
    "        item_output_dir = outputFolder / \"stac_catalog\" / item_id\n",
    "        item_output_dir.mkdir(parents=True, exist_ok=True)\n",
    "        item_path = item_output_dir / f\"{item_id}.json\"\n",
    "\n",
    "        # Relativ sti til bildet\n",
    "        rel_image_href = os.path.relpath(filepath, start=item_path.parent)\n",
    "        item.add_asset(\"image\", Asset(href=rel_image_href, media_type=\"image/tiff\"))\n",
    "\n",
    "        # Hvis tfw-hjelpefiler finnes legges de til som \"georef\"\n",
    "        twf_path = inputFolder / f\"{item_id}.tfw\"\n",
    "        if twf_path.exists():\n",
    "            rel_tfw_href = os.path.relpath(twf_path, start=item_path.parent)\n",
    "            item.add_asset(\n",
    "                \"georef\",\n",
    "                Asset(\n",
    "                    href=rel_tfw_href,\n",
    "                    media_type=\"text/plain\",\n",
    "                    roles=[\"auxiliary\", \"georeferencing\"],\n",
    "                ),\n",
    "            )\n",
    "\n",
    "        catalog.add_item(item)\n",
    "\n",
    "# Lagre katalogen\n",
    "catalog.normalize_and_save(\n",
    "    root_href=str(outputFolder / \"stac_catalog\"),\n",
    "    catalog_type=\"SELF_CONTAINED\"\n",
    ")"
   ]
  }
 ],
 "metadata": {
  "kernelspec": {
   "display_name": "geopython",
   "language": "python",
   "name": "python3"
  },
  "language_info": {
   "codemirror_mode": {
    "name": "ipython",
    "version": 3
   },
   "file_extension": ".py",
   "mimetype": "text/x-python",
   "name": "python",
   "nbconvert_exporter": "python",
   "pygments_lexer": "ipython3",
   "version": "3.10.18"
  }
 },
 "nbformat": 4,
 "nbformat_minor": 5
}
