{
 "cells": [
  {
   "cell_type": "markdown",
   "id": "aec36bfc",
   "metadata": {},
   "source": [
    "# Lag STAC fra GeoTiff\n",
    "\n",
    "### Input: \n",
    "Mappe med .tif og .tfw -filer. Filer kan lastes ned fra Geonorge her: [(N50 Raster (UTM32) - Rutevis)](https://kartkatalog.geonorge.no/metadata/n50-raster-utm32-rutevis/bbe517ba-3b3a-4c96-a78e-104f6c4804d1?search=n50)\n",
    "\n",
    "### Output:\n",
    "**/stac_catalog** som inneholder *catalog.json* (oversikt) og egen mappe for hvert innleste kartblad."
   ]
  },
  {
   "cell_type": "markdown",
   "id": "7727ecdb",
   "metadata": {},
   "source": [
    "## Import av bibliotek "
   ]
  },
  {
   "cell_type": "code",
   "execution_count": 1,
   "id": "2e5ac963",
   "metadata": {},
   "outputs": [],
   "source": [
    "import os\n",
    "import rasterio\n",
    "import utils\n",
    "import shutil\n",
    "import subprocess\n",
    "from pathlib import Path\n",
    "from pystac import Catalog, Item, Asset\n",
    "from datetime import datetime\n",
    "from shapely.geometry import box, mapping"
   ]
  },
  {
   "cell_type": "markdown",
   "id": "5a0c4dd0",
   "metadata": {},
   "source": [
    "## Mappestruktur\n",
    "Her er det tenkt at koden kjøres i en mappe som har underkatalogene \"Input\" (inneholder original Tiff-filene) og \"Output\" (mål for STAC-katalog)\n",
    "\n",
    "N50TilSTAC/  \n",
    "├─ Input/  \n",
    "└─ Output/\n",
    "\n",
    "Det vil også bli en \"COG\"-mappe:\n",
    "N50TilSTAC/COG"
   ]
  },
  {
   "cell_type": "code",
   "execution_count": 2,
   "id": "3f4f1ec3",
   "metadata": {},
   "outputs": [],
   "source": [
    "# Definer input/output mapper\n",
    "inputFolder = utils.get_workdir() / \"Input\"\n",
    "outputFolder = utils.get_workdir() / \"Output\"\n",
    "\n",
    "# Sjekk om COG-mappe eksisterer\n",
    "COGFolder = utils.get_workdir() / \"COG\"\n",
    "if COGFolder.exists():\n",
    "    for item in COGFolder.iterdir():\n",
    "        if item.is_file():\n",
    "            item.unlink()\n",
    "        elif item.is_dir():\n",
    "            shutil.rmtree(item)\n",
    "else:\n",
    "    # Opprett COG-mappe hvis den ikke finnes\n",
    "    COGFolder.mkdir(parents=True, exist_ok=True)\n",
    "\n",
    "catalog = Catalog(id=\"N50-test-catalog\", description=\"STAC Catalog for N50 maps\")"
   ]
  },
  {
   "cell_type": "markdown",
   "id": "cbd4e0f2",
   "metadata": {},
   "source": [
    "## UDF: Konverter GeoTiff til COG\n",
    "\n",
    "Funksjonen konverterer alle .tif-filer i Input-mappa til COG filer.  \n",
    "Resultatet (COG-filene) lagres i \"N50TilSTAS/COG/\"."
   ]
  },
  {
   "cell_type": "code",
   "execution_count": null,
   "id": "13173363",
   "metadata": {},
   "outputs": [],
   "source": [
    "def convert_folder_to_cog(input_folder, COGFolder):\n",
    "    input_folder = Path(input_folder)\n",
    "    COGFolder = Path(COGFolder)\n",
    "    COGFolder.mkdir(parents=True, exist_ok=True)\n",
    "\n",
    "    # Tellere\n",
    "    nTellerAntTiffFiler = 0 # Antall TIFF-filer\n",
    "    nTellerAntBehandla = 0 # Antall behandlede filer\n",
    "\n",
    "    # Gå gjennom alle .tif-filer i input-mappen\n",
    "    for tif_file in input_folder.glob(\"*.tif\"):\n",
    "        output_file = COGFolder / tif_file.name  # Same name\n",
    "        print(f\"Konverterer {tif_file.name} til COG...\")\n",
    "        # Tell antall filer som skal behandles\n",
    "        nTellerAntTiffFiler += 1\n",
    "\n",
    "        cmd = [\n",
    "            \"gdal_translate\", str(tif_file), str(output_file),\n",
    "            \"-of\", \"COG\",\n",
    "            \"-co\", \"COMPRESS=DEFLATE\",\n",
    "            \"-co\", \"TILING_SCHEME=GoogleMapsCompatible\"\n",
    "        ]\n",
    "\n",
    "        # Kjør gdal_translate (cmd) for å konvertere TIFF til COG\n",
    "        try:\n",
    "            subprocess.run(cmd, check=True)\n",
    "            # Tell antall behandla filer\n",
    "            nTellerAntBehandla += 1\n",
    "        except subprocess.CalledProcessError as e:\n",
    "            print(f\"Konvertering misslykkes for {tif_file.name}: {e}\")\n",
    "    \n",
    "    # Sjekk om alle .tif-filer er behandla\n",
    "    if nTellerAntTiffFiler == 0:\n",
    "        print(\"Input-mappa er tom!\")\n",
    "    # Sjekk om alle .tif-filer er behandla\n",
    "    if nTellerAntBehandla == nTellerAntTiffFiler:\n",
    "        print(\"Alle filer konvertert.\")6"
   ]
  },
  {
   "cell_type": "markdown",
   "id": "31c6cc19",
   "metadata": {},
   "source": [
    "## Les og legg filene til i STAC-katalogen"
   ]
  },
  {
   "cell_type": "code",
   "execution_count": 14,
   "id": "1d13c04d",
   "metadata": {},
   "outputs": [
    {
     "name": "stdout",
     "output_type": "stream",
     "text": [
      "Konverterer 32_N50raster_2471.tif til COG...\n"
     ]
    },
    {
     "ename": "FileNotFoundError",
     "evalue": "[WinError 2] The system cannot find the file specified",
     "output_type": "error",
     "traceback": [
      "\u001b[31m---------------------------------------------------------------------------\u001b[39m",
      "\u001b[31mFileNotFoundError\u001b[39m                         Traceback (most recent call last)",
      "\u001b[36mCell\u001b[39m\u001b[36m \u001b[39m\u001b[32mIn[14]\u001b[39m\u001b[32m, line 1\u001b[39m\n\u001b[32m----> \u001b[39m\u001b[32m1\u001b[39m \u001b[43mconvert_folder_to_cog\u001b[49m\u001b[43m(\u001b[49m\u001b[43minputFolder\u001b[49m\u001b[43m,\u001b[49m\u001b[43m \u001b[49m\u001b[43mCOGFolder\u001b[49m\u001b[43m)\u001b[49m\n\u001b[32m      3\u001b[39m nTellerAntCogFiler = \u001b[32m0\u001b[39m\n\u001b[32m      5\u001b[39m \u001b[38;5;28;01mfor\u001b[39;00m filename \u001b[38;5;129;01min\u001b[39;00m os.listdir(COGFolder):\n",
      "\u001b[36mCell\u001b[39m\u001b[36m \u001b[39m\u001b[32mIn[13]\u001b[39m\u001b[32m, line 26\u001b[39m, in \u001b[36mconvert_folder_to_cog\u001b[39m\u001b[34m(input_folder, COGFolder)\u001b[39m\n\u001b[32m     24\u001b[39m \u001b[38;5;66;03m# Kjør gdal_translate (cmd) for å konvertere TIFF til COG\u001b[39;00m\n\u001b[32m     25\u001b[39m \u001b[38;5;28;01mtry\u001b[39;00m:\n\u001b[32m---> \u001b[39m\u001b[32m26\u001b[39m     \u001b[43msubprocess\u001b[49m\u001b[43m.\u001b[49m\u001b[43mrun\u001b[49m\u001b[43m(\u001b[49m\u001b[43mcmd\u001b[49m\u001b[43m,\u001b[49m\u001b[43m \u001b[49m\u001b[43mcheck\u001b[49m\u001b[43m=\u001b[49m\u001b[38;5;28;43;01mTrue\u001b[39;49;00m\u001b[43m)\u001b[49m\n\u001b[32m     27\u001b[39m     \u001b[38;5;66;03m# Tell antall behandla filer\u001b[39;00m\n\u001b[32m     28\u001b[39m     nTellerAntBehandla += \u001b[32m1\u001b[39m\n",
      "\u001b[36mFile \u001b[39m\u001b[32m~\\AppData\\Local\\Programs\\Python\\Python313\\Lib\\subprocess.py:554\u001b[39m, in \u001b[36mrun\u001b[39m\u001b[34m(input, capture_output, timeout, check, *popenargs, **kwargs)\u001b[39m\n\u001b[32m    551\u001b[39m     kwargs[\u001b[33m'\u001b[39m\u001b[33mstdout\u001b[39m\u001b[33m'\u001b[39m] = PIPE\n\u001b[32m    552\u001b[39m     kwargs[\u001b[33m'\u001b[39m\u001b[33mstderr\u001b[39m\u001b[33m'\u001b[39m] = PIPE\n\u001b[32m--> \u001b[39m\u001b[32m554\u001b[39m \u001b[38;5;28;01mwith\u001b[39;00m \u001b[43mPopen\u001b[49m\u001b[43m(\u001b[49m\u001b[43m*\u001b[49m\u001b[43mpopenargs\u001b[49m\u001b[43m,\u001b[49m\u001b[43m \u001b[49m\u001b[43m*\u001b[49m\u001b[43m*\u001b[49m\u001b[43mkwargs\u001b[49m\u001b[43m)\u001b[49m \u001b[38;5;28;01mas\u001b[39;00m process:\n\u001b[32m    555\u001b[39m     \u001b[38;5;28;01mtry\u001b[39;00m:\n\u001b[32m    556\u001b[39m         stdout, stderr = process.communicate(\u001b[38;5;28minput\u001b[39m, timeout=timeout)\n",
      "\u001b[36mFile \u001b[39m\u001b[32m~\\AppData\\Local\\Programs\\Python\\Python313\\Lib\\subprocess.py:1039\u001b[39m, in \u001b[36mPopen.__init__\u001b[39m\u001b[34m(self, args, bufsize, executable, stdin, stdout, stderr, preexec_fn, close_fds, shell, cwd, env, universal_newlines, startupinfo, creationflags, restore_signals, start_new_session, pass_fds, user, group, extra_groups, encoding, errors, text, umask, pipesize, process_group)\u001b[39m\n\u001b[32m   1035\u001b[39m         \u001b[38;5;28;01mif\u001b[39;00m \u001b[38;5;28mself\u001b[39m.text_mode:\n\u001b[32m   1036\u001b[39m             \u001b[38;5;28mself\u001b[39m.stderr = io.TextIOWrapper(\u001b[38;5;28mself\u001b[39m.stderr,\n\u001b[32m   1037\u001b[39m                     encoding=encoding, errors=errors)\n\u001b[32m-> \u001b[39m\u001b[32m1039\u001b[39m     \u001b[38;5;28;43mself\u001b[39;49m\u001b[43m.\u001b[49m\u001b[43m_execute_child\u001b[49m\u001b[43m(\u001b[49m\u001b[43margs\u001b[49m\u001b[43m,\u001b[49m\u001b[43m \u001b[49m\u001b[43mexecutable\u001b[49m\u001b[43m,\u001b[49m\u001b[43m \u001b[49m\u001b[43mpreexec_fn\u001b[49m\u001b[43m,\u001b[49m\u001b[43m \u001b[49m\u001b[43mclose_fds\u001b[49m\u001b[43m,\u001b[49m\n\u001b[32m   1040\u001b[39m \u001b[43m                        \u001b[49m\u001b[43mpass_fds\u001b[49m\u001b[43m,\u001b[49m\u001b[43m \u001b[49m\u001b[43mcwd\u001b[49m\u001b[43m,\u001b[49m\u001b[43m \u001b[49m\u001b[43menv\u001b[49m\u001b[43m,\u001b[49m\n\u001b[32m   1041\u001b[39m \u001b[43m                        \u001b[49m\u001b[43mstartupinfo\u001b[49m\u001b[43m,\u001b[49m\u001b[43m \u001b[49m\u001b[43mcreationflags\u001b[49m\u001b[43m,\u001b[49m\u001b[43m \u001b[49m\u001b[43mshell\u001b[49m\u001b[43m,\u001b[49m\n\u001b[32m   1042\u001b[39m \u001b[43m                        \u001b[49m\u001b[43mp2cread\u001b[49m\u001b[43m,\u001b[49m\u001b[43m \u001b[49m\u001b[43mp2cwrite\u001b[49m\u001b[43m,\u001b[49m\n\u001b[32m   1043\u001b[39m \u001b[43m                        \u001b[49m\u001b[43mc2pread\u001b[49m\u001b[43m,\u001b[49m\u001b[43m \u001b[49m\u001b[43mc2pwrite\u001b[49m\u001b[43m,\u001b[49m\n\u001b[32m   1044\u001b[39m \u001b[43m                        \u001b[49m\u001b[43merrread\u001b[49m\u001b[43m,\u001b[49m\u001b[43m \u001b[49m\u001b[43merrwrite\u001b[49m\u001b[43m,\u001b[49m\n\u001b[32m   1045\u001b[39m \u001b[43m                        \u001b[49m\u001b[43mrestore_signals\u001b[49m\u001b[43m,\u001b[49m\n\u001b[32m   1046\u001b[39m \u001b[43m                        \u001b[49m\u001b[43mgid\u001b[49m\u001b[43m,\u001b[49m\u001b[43m \u001b[49m\u001b[43mgids\u001b[49m\u001b[43m,\u001b[49m\u001b[43m \u001b[49m\u001b[43muid\u001b[49m\u001b[43m,\u001b[49m\u001b[43m \u001b[49m\u001b[43mumask\u001b[49m\u001b[43m,\u001b[49m\n\u001b[32m   1047\u001b[39m \u001b[43m                        \u001b[49m\u001b[43mstart_new_session\u001b[49m\u001b[43m,\u001b[49m\u001b[43m \u001b[49m\u001b[43mprocess_group\u001b[49m\u001b[43m)\u001b[49m\n\u001b[32m   1048\u001b[39m \u001b[38;5;28;01mexcept\u001b[39;00m:\n\u001b[32m   1049\u001b[39m     \u001b[38;5;66;03m# Cleanup if the child failed starting.\u001b[39;00m\n\u001b[32m   1050\u001b[39m     \u001b[38;5;28;01mfor\u001b[39;00m f \u001b[38;5;129;01min\u001b[39;00m \u001b[38;5;28mfilter\u001b[39m(\u001b[38;5;28;01mNone\u001b[39;00m, (\u001b[38;5;28mself\u001b[39m.stdin, \u001b[38;5;28mself\u001b[39m.stdout, \u001b[38;5;28mself\u001b[39m.stderr)):\n",
      "\u001b[36mFile \u001b[39m\u001b[32m~\\AppData\\Local\\Programs\\Python\\Python313\\Lib\\subprocess.py:1554\u001b[39m, in \u001b[36mPopen._execute_child\u001b[39m\u001b[34m(self, args, executable, preexec_fn, close_fds, pass_fds, cwd, env, startupinfo, creationflags, shell, p2cread, p2cwrite, c2pread, c2pwrite, errread, errwrite, unused_restore_signals, unused_gid, unused_gids, unused_uid, unused_umask, unused_start_new_session, unused_process_group)\u001b[39m\n\u001b[32m   1552\u001b[39m \u001b[38;5;66;03m# Start the process\u001b[39;00m\n\u001b[32m   1553\u001b[39m \u001b[38;5;28;01mtry\u001b[39;00m:\n\u001b[32m-> \u001b[39m\u001b[32m1554\u001b[39m     hp, ht, pid, tid = \u001b[43m_winapi\u001b[49m\u001b[43m.\u001b[49m\u001b[43mCreateProcess\u001b[49m\u001b[43m(\u001b[49m\u001b[43mexecutable\u001b[49m\u001b[43m,\u001b[49m\u001b[43m \u001b[49m\u001b[43margs\u001b[49m\u001b[43m,\u001b[49m\n\u001b[32m   1555\u001b[39m \u001b[43m                             \u001b[49m\u001b[38;5;66;43;03m# no special security\u001b[39;49;00m\n\u001b[32m   1556\u001b[39m \u001b[43m                             \u001b[49m\u001b[38;5;28;43;01mNone\u001b[39;49;00m\u001b[43m,\u001b[49m\u001b[43m \u001b[49m\u001b[38;5;28;43;01mNone\u001b[39;49;00m\u001b[43m,\u001b[49m\n\u001b[32m   1557\u001b[39m \u001b[43m                             \u001b[49m\u001b[38;5;28;43mint\u001b[39;49m\u001b[43m(\u001b[49m\u001b[38;5;129;43;01mnot\u001b[39;49;00m\u001b[43m \u001b[49m\u001b[43mclose_fds\u001b[49m\u001b[43m)\u001b[49m\u001b[43m,\u001b[49m\n\u001b[32m   1558\u001b[39m \u001b[43m                             \u001b[49m\u001b[43mcreationflags\u001b[49m\u001b[43m,\u001b[49m\n\u001b[32m   1559\u001b[39m \u001b[43m                             \u001b[49m\u001b[43menv\u001b[49m\u001b[43m,\u001b[49m\n\u001b[32m   1560\u001b[39m \u001b[43m                             \u001b[49m\u001b[43mcwd\u001b[49m\u001b[43m,\u001b[49m\n\u001b[32m   1561\u001b[39m \u001b[43m                             \u001b[49m\u001b[43mstartupinfo\u001b[49m\u001b[43m)\u001b[49m\n\u001b[32m   1562\u001b[39m \u001b[38;5;28;01mfinally\u001b[39;00m:\n\u001b[32m   1563\u001b[39m     \u001b[38;5;66;03m# Child is launched. Close the parent's copy of those pipe\u001b[39;00m\n\u001b[32m   1564\u001b[39m     \u001b[38;5;66;03m# handles that only the child should have open.  You need\u001b[39;00m\n\u001b[32m   (...)\u001b[39m\u001b[32m   1567\u001b[39m     \u001b[38;5;66;03m# pipe will not close when the child process exits and the\u001b[39;00m\n\u001b[32m   1568\u001b[39m     \u001b[38;5;66;03m# ReadFile will hang.\u001b[39;00m\n\u001b[32m   1569\u001b[39m     \u001b[38;5;28mself\u001b[39m._close_pipe_fds(p2cread, p2cwrite,\n\u001b[32m   1570\u001b[39m                          c2pread, c2pwrite,\n\u001b[32m   1571\u001b[39m                          errread, errwrite)\n",
      "\u001b[36mFile \u001b[39m\u001b[32mc:\\Projects\\Innotek\\skygeo\\src\\N50TilSTAC\\.venv\\Lib\\site-packages\\debugpy\\_vendored\\pydevd\\_pydev_bundle\\pydev_monkey.py:911\u001b[39m, in \u001b[36mcreate_CreateProcess.<locals>.new_CreateProcess\u001b[39m\u001b[34m(app_name, cmd_line, *args)\u001b[39m\n\u001b[32m    908\u001b[39m     cmd_line = patch_arg_str_win(cmd_line)\n\u001b[32m    909\u001b[39m     send_process_created_message()\n\u001b[32m--> \u001b[39m\u001b[32m911\u001b[39m \u001b[38;5;28;01mreturn\u001b[39;00m \u001b[38;5;28;43mgetattr\u001b[39;49m\u001b[43m(\u001b[49m\u001b[43m_subprocess\u001b[49m\u001b[43m,\u001b[49m\u001b[43m \u001b[49m\u001b[43moriginal_name\u001b[49m\u001b[43m)\u001b[49m\u001b[43m(\u001b[49m\u001b[43mapp_name\u001b[49m\u001b[43m,\u001b[49m\u001b[43m \u001b[49m\u001b[43mcmd_line\u001b[49m\u001b[43m,\u001b[49m\u001b[43m \u001b[49m\u001b[43m*\u001b[49m\u001b[43margs\u001b[49m\u001b[43m)\u001b[49m\n",
      "\u001b[31mFileNotFoundError\u001b[39m: [WinError 2] The system cannot find the file specified"
     ]
    }
   ],
   "source": [
    "convert_folder_to_cog(inputFolder, COGFolder)\n",
    "\n",
    "nTellerAntCogFiler = 0\n",
    "\n",
    "for filename in os.listdir(COGFolder):\n",
    "    if filename.endswith(\".tif\"): # Velg kun TIFF-filer (COG-filer har også .tif som endelse)\n",
    "        filepath = COGFolder / filename\n",
    "\n",
    "        # Les bbox og EPSG-kode fra TIFF-filen\n",
    "        with rasterio.open(filepath) as src:\n",
    "            # Hent bounding box for fila\n",
    "            bounds = src.bounds\n",
    "            bbox = [bounds.left, bounds.bottom, bounds.right, bounds.top]\n",
    "            geometry = mapping(box(*bbox)) # Omriss\n",
    "            crs = src.crs.to_string() # EPSG-kode\n",
    "\n",
    "        item_id = os.path.splitext(filename)[0]\n",
    "        item = Item(\n",
    "            id=item_id,\n",
    "            geometry=geometry,\n",
    "            bbox=bbox,\n",
    "            datetime=datetime.now(),\n",
    "            properties={\"proj:epsg\": int(crs.split(\":\")[-1])},\n",
    "        )\n",
    "\n",
    "        # Output-katalog\n",
    "        item_output_dir = outputFolder / \"stac_catalog\" / item_id\n",
    "        item_output_dir.mkdir(parents=True, exist_ok=True)\n",
    "        item_path = item_output_dir / f\"{item_id}.json\"\n",
    "\n",
    "        # Relativ sti til bildet\n",
    "        rel_image_href = os.path.relpath(filepath, start=item_path.parent)\n",
    "        item.add_asset(\"image\", Asset(href=rel_image_href, media_type=\"image/tiff\"))\n",
    "\n",
    "        # Hvis tfw-hjelpefiler finnes legges de til som \"georef\"\n",
    "        twf_path = inputFolder / f\"{item_id}.tfw\"\n",
    "        if twf_path.exists():\n",
    "            rel_tfw_href = os.path.relpath(twf_path, start=item_path.parent)\n",
    "            item.add_asset(\n",
    "                \"georef\",\n",
    "                Asset(\n",
    "                    href=rel_tfw_href,\n",
    "                    media_type=\"text/plain\",\n",
    "                    roles=[\"auxiliary\", \"georeferencing\"],\n",
    "                ),\n",
    "            )\n",
    "\n",
    "        nTellerAntCogFiler += 1\n",
    "\n",
    "        catalog.add_item(item)\n",
    "\n",
    "# Sjekk om alle .cog-filer er behandla\n",
    "if nTellerAntCogFiler == 0:\n",
    "    print(\"Input-mappa er tom!\")\n",
    "else:\n",
    "    # Lagre katalogen\n",
    "    catalog.normalize_and_save(\n",
    "    root_href=str(outputFolder / \"stac_catalog\"),\n",
    "    catalog_type=\"SELF_CONTAINED\"\n",
    ")\n",
    "\n"
   ]
  }
 ],
 "metadata": {
  "kernelspec": {
   "display_name": ".venv",
   "language": "python",
   "name": "python3"
  },
  "language_info": {
   "codemirror_mode": {
    "name": "ipython",
    "version": 3
   },
   "file_extension": ".py",
   "mimetype": "text/x-python",
   "name": "python",
   "nbconvert_exporter": "python",
   "pygments_lexer": "ipython3",
   "version": "3.13.5"
  }
 },
 "nbformat": 4,
 "nbformat_minor": 5
}
