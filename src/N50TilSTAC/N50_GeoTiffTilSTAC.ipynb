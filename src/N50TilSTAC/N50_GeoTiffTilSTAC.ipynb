{
 "cells": [
  {
   "cell_type": "markdown",
   "id": "aec36bfc",
   "metadata": {},
   "source": [
    "# Lag STAC fra GeoTiff\n",
    "\n",
    "### Input: \n",
    "Mappe med .tif og .tfw -filer. Filer kan lastes ned fra Geonorge her: [(N50 Raster (UTM32) - Rutevis)](https://kartkatalog.geonorge.no/metadata/n50-raster-utm32-rutevis/bbe517ba-3b3a-4c96-a78e-104f6c4804d1?search=n50)\n",
    "\n",
    "### Output:\n",
    "**/stac_catalog** som inneholder *catalog.json* (oversikt) og egen mappe for hvert innleste kartblad."
   ]
  },
  {
   "cell_type": "markdown",
   "id": "7727ecdb",
   "metadata": {},
   "source": [
    "## Import av bibliotek "
   ]
  },
  {
   "cell_type": "code",
   "execution_count": 4,
   "id": "2e5ac963",
   "metadata": {},
   "outputs": [],
   "source": [
    "import os\n",
    "import rasterio\n",
    "import utils\n",
    "from pathlib import Path\n",
    "from pystac import Catalog, Item, Asset\n",
    "from datetime import datetime\n",
    "from shapely.geometry import box, mapping"
   ]
  },
  {
   "cell_type": "markdown",
   "id": "5a0c4dd0",
   "metadata": {},
   "source": [
    "## Mappestruktur\n",
    "Her er det tenkt at koden kjøres i en mappe som har underkatalogene \"Input\" (inneholder bilder) og \"Output\" (mål for STAC-katalog)"
   ]
  },
  {
   "cell_type": "code",
   "execution_count": 5,
   "id": "3f4f1ec3",
   "metadata": {},
   "outputs": [],
   "source": [
    "# Definer input/output mapper\n",
    "inputFolder = utils.get_workdir() / \"Input\"\n",
    "outputFolder = utils.get_workdir() / \"Output\"\n",
    "\n",
    "catalog = Catalog(id=\"N50-test-catalog\", description=\"STAC Catalog for N50 maps\")"
   ]
  },
  {
   "cell_type": "markdown",
   "id": "31c6cc19",
   "metadata": {},
   "source": [
    "## Les og legg filene til i STAC-katalogen"
   ]
  },
  {
   "cell_type": "code",
   "execution_count": 8,
   "id": "1d13c04d",
   "metadata": {},
   "outputs": [],
   "source": [
    "for filename in os.listdir(inputFolder):\n",
    "    if filename.endswith(\".tif\"): # Velg kun TIFF-filer\n",
    "        filepath = inputFolder / filename\n",
    "\n",
    "        # Les bbox og EPSG-kode fra TIFF-filen\n",
    "        with rasterio.open(filepath) as src:\n",
    "            bounds = src.bounds\n",
    "            bbox = [bounds.left, bounds.bottom, bounds.right, bounds.top]\n",
    "            geometry = mapping(box(*bbox))\n",
    "            crs = src.crs.to_string()\n",
    "\n",
    "        item_id = os.path.splitext(filename)[0]\n",
    "        item = Item(\n",
    "            id=item_id,\n",
    "            geometry=geometry,\n",
    "            bbox=bbox,\n",
    "            datetime=datetime.now(),\n",
    "            properties={\"proj:epsg\": int(crs.split(\":\")[-1])},\n",
    "        )\n",
    "\n",
    "        # Output-katalog\n",
    "        item_output_dir = outputFolder / \"stac_catalog\" / item_id\n",
    "        item_output_dir.mkdir(parents=True, exist_ok=True)\n",
    "        item_path = item_output_dir / f\"{item_id}.json\"\n",
    "\n",
    "        # Relativ sti til bildet\n",
    "        rel_image_href = os.path.relpath(filepath, start=item_path.parent)\n",
    "        item.add_asset(\"image\", Asset(href=rel_image_href, media_type=\"image/tiff\"))\n",
    "\n",
    "        # Hvis tfw-hjelpefiler finnes legges de til som \"georef\"\n",
    "        twf_path = inputFolder / f\"{item_id}.tfw\"\n",
    "        if twf_path.exists():\n",
    "            rel_tfw_href = os.path.relpath(twf_path, start=item_path.parent)\n",
    "            item.add_asset(\n",
    "                \"georef\",\n",
    "                Asset(\n",
    "                    href=rel_tfw_href,\n",
    "                    media_type=\"text/plain\",\n",
    "                    roles=[\"auxiliary\", \"georeferencing\"],\n",
    "                ),\n",
    "            )\n",
    "\n",
    "        catalog.add_item(item)\n",
    "\n",
    "# Lagre katalogen\n",
    "catalog.normalize_and_save(\n",
    "    root_href=str(outputFolder / \"stac_catalog\"),\n",
    "    catalog_type=\"SELF_CONTAINED\"\n",
    ")"
   ]
  }
 ],
 "metadata": {
  "kernelspec": {
   "display_name": ".venv",
   "language": "python",
   "name": "python3"
  },
  "language_info": {
   "codemirror_mode": {
    "name": "ipython",
    "version": 3
   },
   "file_extension": ".py",
   "mimetype": "text/x-python",
   "name": "python",
   "nbconvert_exporter": "python",
   "pygments_lexer": "ipython3",
   "version": "3.13.5"
  }
 },
 "nbformat": 4,
 "nbformat_minor": 5
}
