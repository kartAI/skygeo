{
 "cells": [
  {
   "cell_type": "code",
   "execution_count": 5,
   "id": "ae7677eb",
   "metadata": {},
   "outputs": [
    {
     "name": "stdout",
     "output_type": "stream",
     "text": [
      "Requirement already satisfied: pystac in ./.venv/lib/python3.13/site-packages (from -r requirements.txt (line 1)) (1.13.0)\n",
      "Collecting pmtiles (from -r requirements.txt (line 2))\n",
      "  Using cached pmtiles-3.4.1-py3-none-any.whl\n",
      "Requirement already satisfied: python-dateutil>=2.7.0 in ./.venv/lib/python3.13/site-packages (from pystac->-r requirements.txt (line 1)) (2.9.0.post0)\n",
      "Requirement already satisfied: six>=1.5 in ./.venv/lib/python3.13/site-packages (from python-dateutil>=2.7.0->pystac->-r requirements.txt (line 1)) (1.17.0)\n",
      "Installing collected packages: pmtiles\n",
      "Successfully installed pmtiles-3.4.1\n",
      "\n",
      "\u001b[1m[\u001b[0m\u001b[34;49mnotice\u001b[0m\u001b[1;39;49m]\u001b[0m\u001b[39;49m A new release of pip is available: \u001b[0m\u001b[31;49m24.3.1\u001b[0m\u001b[39;49m -> \u001b[0m\u001b[32;49m25.2\u001b[0m\n",
      "\u001b[1m[\u001b[0m\u001b[34;49mnotice\u001b[0m\u001b[1;39;49m]\u001b[0m\u001b[39;49m To update, run: \u001b[0m\u001b[32;49mpip install --upgrade pip\u001b[0m\n"
     ]
    }
   ],
   "source": [
    "# Install requirements\n",
    "! pip install -r requirements.txt"
   ]
  },
  {
   "cell_type": "code",
   "execution_count": 22,
   "id": "4bba7e86",
   "metadata": {},
   "outputs": [],
   "source": [
    "import pystac\n",
    "from pmtiles.reader import Reader\n",
    "from datetime import datetime\n"
   ]
  },
  {
   "cell_type": "code",
   "execution_count": 23,
   "id": "63ac75a3",
   "metadata": {},
   "outputs": [],
   "source": [
    "# Create a catalog and save\n",
    "catalog = pystac.Catalog(id=\"pmtiles-catalog\", description=\"PMTiles datasets\")\n",
    "tiles = [\n",
    "    \"static/N50_BygningerOgAnlegg_omrade.pmtiles\",\n",
    "    \"static/N50_Samferdsel_senterlinje.pmtiles\",\n",
    "    \"static/N50_raster_2024.pmtiles\",\n",
    "]\n",
    "for tile in tiles:\n",
    "    # with open(tile) as f:\n",
    "    #     # Open PMTiles and get metadata\n",
    "    #     r = Reader(f)\n",
    "    #     m = r.metadata\n",
    "    #     print(m)\n",
    "    bounds = [1,2,3,4]\n",
    "    minzoom = 0\n",
    "    maxzoom = 2\n",
    "\n",
    "    # # Create STAC Item\n",
    "    item = pystac.Item(\n",
    "        id=\"example-pmtiles\",\n",
    "        geometry={\n",
    "            \"type\": \"Polygon\",\n",
    "            \"coordinates\": [[\n",
    "                [bounds[0], bounds[1]],\n",
    "                [bounds[2], bounds[1]],\n",
    "                [bounds[2], bounds[3]],\n",
    "                [bounds[0], bounds[3]],\n",
    "                [bounds[0], bounds[1]]\n",
    "            ]]\n",
    "        },\n",
    "        bbox=bounds,\n",
    "        datetime=datetime.now(),\n",
    "        properties={\"minzoom\": minzoom, \"maxzoom\": maxzoom}\n",
    "    )\n",
    "\n",
    "    item.add_asset(\"pmtiles\", pystac.Asset(\n",
    "        href=f\"http://localhost:8000/{tile.replace(\"static/\",\"\")}\",\n",
    "        media_type=\"application/vnd.pmtiles\"\n",
    "    ))\n",
    "\n",
    "    catalog.add_item(item)\n",
    "catalog.normalize_and_save(\"stac-pmtiles\", catalog_type=pystac.CatalogType.SELF_CONTAINED)\n"
   ]
  },
  {
   "cell_type": "markdown",
   "id": "a9d42f83",
   "metadata": {},
   "source": [
    "Run a static STAC catalog"
   ]
  },
  {
   "cell_type": "code",
   "execution_count": null,
   "id": "7d8a8464",
   "metadata": {},
   "outputs": [
    {
     "name": "stderr",
     "output_type": "stream",
     "text": [
      "1091.66s - pydevd: Sending message related to process being replaced timed-out after 5 seconds\n"
     ]
    },
    {
     "name": "stdout",
     "output_type": "stream",
     "text": [
      "WARNING:__main__:Settings : {'stac_fastapi_title': 'stac-fastapi', 'stac_fastapi_description': 'stac-fastapi', 'stac_fastapi_version': '0.1', 'stac_fastapi_landing_id': 'stac-fastapi', 'app_host': '0.0.0.0', 'app_port': 8000, 'reload': False, 'enable_response_models': False, 'enable_direct_response': False, 'openapi_url': '/api', 'docs_url': '/api.html', 'root_path': '', 'environment': 'production', 'catalog_href': 'file:///var/www/html/static/catalog.json', 'landing_page_child_collections_max_depth': 2, 'assume_best_practice_layout': False, 'assume_extent_spec': True, 'assume_absolute_hrefs': False, 'cache': True, 'cors_origins': ['*'], 'cors_methods': ['GET', 'POST', 'OPTIONS'], 'log_level': 'info'}\n",
      "INFO:     Started server process [1]\n",
      "INFO:     Waiting for application startup.\n",
      "INFO:     Application startup complete.\n",
      "INFO:     Uvicorn running on http://0.0.0.0:8000 (Press CTRL+C to quit)\n",
      "INFO:     172.17.0.1:42758 - \"GET /collections HTTP/1.1\" 200 OK\n",
      "INFO:     172.17.0.1:42774 - \"GET /favicon.ico HTTP/1.1\" 404 Not Found\n",
      "INFO:     172.17.0.1:42758 - \"GET /items HTTP/1.1\" 404 Not Found\n",
      "INFO:     172.17.0.1:42774 - \"GET /favicon.ico HTTP/1.1\" 404 Not Found\n",
      "INFO:     172.17.0.1:40820 - \"GET / HTTP/1.1\" 200 OK\n",
      "INFO:     172.17.0.1:40830 - \"GET /favicon.ico HTTP/1.1\" 404 Not Found\n",
      "INFO:     Shutting down\n",
      "^C\n",
      "INFO:     Finished server process [1]\n",
      "ERROR:    Traceback (most recent call last):\n",
      "  File \"/usr/local/lib/python3.12/asyncio/runners.py\", line 195, in run\n",
      "    return runner.run(main)\n",
      "           ^^^^^^^^^^^^^^^^\n",
      "  File \"/usr/local/lib/python3.12/asyncio/runners.py\", line 118, in run\n",
      "    return self._loop.run_until_complete(task)\n",
      "           ^^^^^^^^^^^^^^^^^^^^^^^^^^^^^^^^^^^\n",
      "  File \"uvloop/loop.pyx\", line 1512, in uvloop.loop.Loop.run_until_complete\n",
      "  File \"uvloop/loop.pyx\", line 1505, in uvloop.loop.Loop.run_until_complete\n",
      "  File \"uvloop/loop.pyx\", line 1379, in uvloop.loop.Loop.run_forever\n",
      "  File \"uvloop/loop.pyx\", line 557, in uvloop.loop.Loop._run\n",
      "  File \"uvloop/loop.pyx\", line 476, in uvloop.loop.Loop._on_idle\n",
      "  File \"uvloop/cbhandles.pyx\", line 83, in uvloop.loop.Handle._run\n",
      "  File \"uvloop/cbhandles.pyx\", line 63, in uvloop.loop.Handle._run\n",
      "  File \"/app/.venv/lib/python3.12/site-packages/uvicorn/server.py\", line 69, in serve\n",
      "    with self.capture_signals():\n",
      "         ^^^^^^^^^^^^^^^^^^^^^^\n",
      "  File \"/usr/local/lib/python3.12/contextlib.py\", line 144, in __exit__\n",
      "    next(self.gen)\n",
      "  File \"/app/.venv/lib/python3.12/site-packages/uvicorn/server.py\", line 330, in capture_signals\n",
      "    signal.raise_signal(captured_signal)\n",
      "  File \"/usr/local/lib/python3.12/asyncio/runners.py\", line 157, in _on_sigint\n",
      "    raise KeyboardInterrupt()\n",
      "KeyboardInterrupt\n",
      "\n",
      "During handling of the above exception, another exception occurred:\n",
      "\n",
      "Traceback (most recent call last):\n",
      "  File \"/app/.venv/lib/python3.12/site-packages/starlette/routing.py\", line 699, in lifespan\n",
      "    await receive()\n",
      "  File \"/app/.venv/lib/python3.12/site-packages/uvicorn/lifespan/on.py\", line 137, in receive\n",
      "    return await self.receive_queue.get()\n",
      "           ^^^^^^^^^^^^^^^^^^^^^^^^^^^^^^\n",
      "  File \"/usr/local/lib/python3.12/asyncio/queues.py\", line 158, in get\n",
      "    await getter\n",
      "asyncio.exceptions.CancelledError\n",
      "\n"
     ]
    }
   ],
   "source": [
    "!docker run \\\n",
    "  --env-file .env \\\n",
    "  --env app_port=8000 \\\n",
    "  --env app_host=0.0.0.0 \\\n",
    "\t--env reload=false \\\n",
    "  --env log_level=info \\\n",
    "  --env catalog_href=/var/www/html/static/catalog.json \\\n",
    "  --volume /tmp:/tmp \\\n",
    "  --volume ./stac-pmtiles/:/var/www/html/static \\\n",
    "  --publish 8080:8000 \\\n",
    "  ghcr.io/fntb/stac-fastapi-static:1.0.1"
   ]
  }
 ],
 "metadata": {
  "kernelspec": {
   "display_name": ".venv",
   "language": "python",
   "name": "python3"
  },
  "language_info": {
   "codemirror_mode": {
    "name": "ipython",
    "version": 3
   },
   "file_extension": ".py",
   "mimetype": "text/x-python",
   "name": "python",
   "nbconvert_exporter": "python",
   "pygments_lexer": "ipython3",
   "version": "3.13.2"
  }
 },
 "nbformat": 4,
 "nbformat_minor": 5
}
