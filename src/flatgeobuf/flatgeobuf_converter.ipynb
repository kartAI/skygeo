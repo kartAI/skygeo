{
 "cells": [
  {
   "cell_type": "markdown",
   "metadata": {},
   "source": [
    "# Konvertering fra File Geodatabase (GDB) til FlatGeobuf (FGB)\n",
    "Denne notebooken viser hvordan du kan konvertere data fra Kartverkets N50-kartdata (gdb-format) til FlatGeobuf (fgb), et åpent og effektivt dataformat egnet for moderne utviklings- og webmiljøer.\n",
    "\n",
    "## Hvorfor FlatGeobuf?\n",
    "FlatGeobuf (FGB) gir flere fordeler sammenlignet med det tradisjonelle File Geodatabase-formatet (GDB):\n",
    "\n",
    "- Åpent, lisensfritt og godt støttet i både Python, JavaScript og moderne GIS-verktøy.\n",
    "- Én fil per datasett gjør deling, versjonskontroll og distribusjon enkelt.\n",
    "- Rask innlesing, effektiv filstruktur og støtte for spatial indexering.\n",
    "- Utviklervennlig og lett å bruke – basert på åpne formater uten lukkede lisenser\n",
    "\n",
    "Denne notebooken gjør det enkelt å konvertere GDB-lag til FGB og kan utvides etter behov."
   ]
  },
  {
   "cell_type": "markdown",
   "metadata": {},
   "source": [
    "---\n",
    "\n",
    "### Steg 1: Last ned kartdatene for N50\n",
    "Naviger til Geonorge.no og finn kartdataene for N50, eller klikk på denne lenken - https://kartkatalog.geonorge.no/metadata/n50-kartdata/ea192681-d039-42ec-b1bc-f3ce04c189ac\n",
    "\n",
    "Her klikker du på valgmuligheten; \"Last ned\". N50 datasettet har nå blitt lagt til på Geonorges nedlastningside. Her velger du følgende valgmuligheter [... her må man utdype]"
   ]
  },
  {
   "cell_type": "markdown",
   "metadata": {},
   "source": [
    "### Steg 2: Last ned nødvendige Python-pakker\n",
    "For å utføre konverteringsprosessen trenger vi et par python-pakker. Disse har følgende bruksområder [... her må det utdypes]"
   ]
  },
  {
   "cell_type": "code",
   "execution_count": 1,
   "metadata": {},
   "outputs": [],
   "source": [
    "# Installer nødvendige pakker\n",
    "import geopandas as gpd\n",
    "import fiona\n",
    "from pathlib import Path"
   ]
  },
  {
   "cell_type": "markdown",
   "metadata": {},
   "source": [
    "### Steg 3: List ut lag fra N50 datasett\n",
    "Vi benytter funksjonen `list_gdb_layers` til å liste ut alle de tilgjengelige lagene som følger med N50 datasettet."
   ]
  },
  {
   "cell_type": "code",
   "execution_count": 2,
   "metadata": {},
   "outputs": [],
   "source": [
    "def list_gdb_layers(gdb_path):\n",
    "    \"\"\"\n",
    "    List alle tilgjengelige lag i en GDB-fil.\n",
    "    \n",
    "    Args:\n",
    "        gdb_path (str): Path til GDB-filen.\n",
    "        \n",
    "    Returns:\n",
    "        list: Liste over lagnavn i GDB-filen.\n",
    "    \"\"\"\n",
    "    try:\n",
    "        layers = fiona.listlayers(str(gdb_path))\n",
    "        print(\"\\nTilgjengelige lag i GDB:\")\n",
    "        for idx, layer in enumerate(layers, 1):\n",
    "            print(f\"{idx}. {layer}\")\n",
    "        return layers\n",
    "    except Exception as e:\n",
    "        print(f\"Feil ved listing av lag: {e}\")\n",
    "        return []"
   ]
  },
  {
   "cell_type": "code",
   "execution_count": null,
   "metadata": {},
   "outputs": [],
   "source": [
    "# Sett path til GDB-mappen\n",
    "gdb_path = Path(\"data/Basisdata_0000_Norge_25833_N50Kartdata_FGDB.gdb\")\n",
    "\n",
    "if not gdb_path.exists():\n",
    "    print(f\"Feil: Fant ikke GDB-fil på {gdb_path}\")\n",
    "else:\n",
    "    # List ut alle lag i GDB-filen\n",
    "    layers = list_gdb_layers(gdb_path)\n",
    "    print(f\"\\nTotalt antall lag funnet: {len(layers)}\")\n"
   ]
  },
  {
   "cell_type": "markdown",
   "metadata": {},
   "source": [
    "### Steg 4: Utfør konverteringsoppgave\n",
    "Vi benytter funksjonen `convert_layer_to_fgb` til å konvertere et gdb-lag til en fgb-fil. Her gjennbruker vi `gdb_path` fra tidligere, vi velger hvilket lag vi ønsker å konvertere med `layer_name`, og velger at den ferdige fgb-filen lander i en `output` mappe."
   ]
  },
  {
   "cell_type": "code",
   "execution_count": 4,
   "metadata": {},
   "outputs": [],
   "source": [
    "def convert_layer_to_fgb(gdb_path: Path, layer_name: str, output_dir: Path) -> Path:\n",
    "    \"\"\"\n",
    "    Konverter et enkelt lag fra GDB til FlatGeobuf-format.\n",
    "    \n",
    "    Args:\n",
    "        gdb_path (Path): Path til GDB-filen.\n",
    "        layer_name (str): Navn på laget som skal konverteres.\n",
    "        output_dir (Path): Mappe for lagring av resultatet.\n",
    "        \n",
    "    Returns:\n",
    "        Path: Path til opprettet FlatGeobuf-fil.\n",
    "    \"\"\"\n",
    "    try:\n",
    "        output_dir.mkdir(parents=True, exist_ok=True)\n",
    "        output_file = output_dir / f\"{layer_name}.fgb\"\n",
    "        \n",
    "        print(f\"\\nKonverterer lag: {layer_name}\")\n",
    "        print(f\"Leser fra: {gdb_path}\")\n",
    "        print(f\"Skriver til: {output_file}\")\n",
    "        \n",
    "        print(f\"\\nLeser fra GDB... For store lag kan dette ta litt tid.\")\n",
    "        \n",
    "        gdf = gpd.read_file(gdb_path, layer=layer_name)\n",
    "        \n",
    "        # Vis info om laget\n",
    "        print(f\"\\nLaginformasjon:\")\n",
    "        print(f\"Antall objekter: {len(gdf)}\")\n",
    "        print(f\"Geometri-type: {gdf.geometry.type.iloc[0]}\")\n",
    "        print(f\"Koordinatreferansesystem (CRS): {gdf.crs}\")\n",
    "\n",
    "        print(f\"\\nSkriver til FlatGeobuf-format... For store lag kan dette også ta litt tid.\")\n",
    "\n",
    "        gdf.to_file(output_file, driver=\"FlatGeobuf\")\n",
    "        \n",
    "        print(f\"\\nKonvertering fullført!\")\n",
    "        return output_file\n",
    "        \n",
    "    except Exception as e:\n",
    "        print(f\"Feil under konvertering av lag: {e}\")\n",
    "        return None\n"
   ]
  },
  {
   "cell_type": "code",
   "execution_count": null,
   "metadata": {},
   "outputs": [],
   "source": [
    "# Velg lag som skal konverteres (juster etter behov)\n",
    "layer_name = \"N50_Arealdekke_omrade\"\n",
    "\n",
    "# Sett path til output mappen\n",
    "output_dir = Path(\"output\")\n",
    "\n",
    "# Konverter valgt lag til FGB\n",
    "output_file = convert_layer_to_fgb(gdb_path, layer_name, output_dir)\n"
   ]
  },
  {
   "cell_type": "markdown",
   "metadata": {},
   "source": [
    "## Videre bruk\n",
    "\n",
    "Den konverterte `.fgb`-filen kan nå brukes direkte i f.eks. QGIS, web-apper (MapLibre GL, Deck.gl, etc.), eller enkelt leses inn i Python, JavaScript, eller andre miljøer med støtte for FlatGeobuf.\n",
    "\n",
    "Dette gjør det lettere for utviklere å jobbe med åpne, norske kartdata!\n"
   ]
  }
 ],
 "metadata": {
  "kernelspec": {
   "display_name": ".venv",
   "language": "python",
   "name": "python3"
  },
  "language_info": {
   "codemirror_mode": {
    "name": "ipython",
    "version": 3
   },
   "file_extension": ".py",
   "mimetype": "text/x-python",
   "name": "python",
   "nbconvert_exporter": "python",
   "pygments_lexer": "ipython3",
   "version": "3.13.5"
  }
 },
 "nbformat": 4,
 "nbformat_minor": 2
}
