{
 "cells": [
  {
   "cell_type": "markdown",
   "metadata": {},
   "source": [
    "# Konvertering fra File Geodatabase (GDB) til FlatGeobuf (FGB)\n",
    "Denne notebooken viser hvordan du kan konvertere data fra Kartverkets N50-kartdata (gdb-format) til FlatGeobuf (fgb), et åpent og effektivt dataformat egnet for moderne utviklings- og webmiljøer.\n",
    "\n",
    "## Hvorfor FlatGeobuf?\n",
    "FlatGeobuf (FGB) gir flere fordeler sammenlignet med det tradisjonelle File Geodatabase-formatet (GDB):\n",
    "\n",
    "- Åpent, lisensfritt og godt støttet i både Python, JavaScript og moderne GIS-verktøy.\n",
    "- Én fil per datasett gjør deling, versjonskontroll og distribusjon enkelt.\n",
    "- Rask innlesing, effektiv filstruktur og støtte for spatial indexering.\n",
    "- Utviklervennlig og lett å bruke – basert på åpne formater uten lukkede lisenser\n",
    "\n",
    "*NB: Dette betyr ikke at man skal unngå å benytte GDB, som i stor grad legger til rette for mange andre verdifulle muligheter, men FGB kan anses som mer utviklervennlig.*\n",
    "\n",
    "Denne notebooken gjør det enkelt å konvertere GDB-lag til FGB og kan utvides etter behov."
   ]
  },
  {
   "cell_type": "markdown",
   "metadata": {},
   "source": [
    "---\n",
    "\n",
    "### Steg 1: Last ned kartdatene for N50\n",
    "1. Naviger til Geonorge.no og finn [kartdataene for N50](https://kartkatalog.geonorge.no/metadata/n50-kartdata/ea192681-d039-42ec-b1bc-f3ce04c189ac), eller klikk på denne lenken - https://kartkatalog.geonorge.no/metadata/n50-kartdata/ea192681-d039-42ec-b1bc-f3ce04c189ac\n",
    "\n",
    "2. Her klikker du på valgmuligheten; \"Last ned\". N50 datasettet har nå blitt lagt til på Geonorges nedlastningside.\n",
    "    # <img src=\"../../public/img/geonorge-n50.png\" width=\"1200\" alt=\"Geonorge N50 kartdata\">\n",
    "\n",
    "3.  Til denne demoene brukes:\n",
    "    - `Hele landet`\n",
    "    - `UTM 33`\n",
    "    - `FGBD`\n",
    "    \n",
    "    Fyll inn informasjons i skjemaet og trykk `Last ned`. Du skal nå motta en zip-fil\n",
    "    # <img src=\"../../public/img/geonorge-lastned.png\" width=\"1200\" alt=\"Geonorge nedlastingsside\">\n",
    "\n",
    "4. Legg til en ny `data` mappe i prosjektet, slik at du får følgende path - `src/flatgeobuf/data`.\n",
    "\n",
    "5. Pakk ut innholdet fra zip-filen i den nye `data` mappen. Da skal pathen til mappen se slik ut - `src\\flatgeobuf\\data\\Basisdata_0000_Norge_25833_N50Kartdata_FGDB.gdb`"
   ]
  },
  {
   "cell_type": "markdown",
   "metadata": {},
   "source": [
    "---\n",
    "\n",
    "### Steg 2: Last ned nødvendige Python-pakker\n",
    "For å utføre konverteringsprosessen trenger vi et par python-pakker. \n",
    "Disse har følgende bruksområder:\n",
    "- Geopandas - for håndtering av geografiske data.\n",
    "- Fiona - for lesing av gdb filer.\n",
    "- Pyogrio - rask I/O for geografiske data."
   ]
  },
  {
   "cell_type": "code",
   "execution_count": null,
   "metadata": {},
   "outputs": [],
   "source": [
    "# Installer nødvendige pakker\n",
    "import geopandas as gpd\n",
    "import fiona  \n",
    "\n",
    "# Path - for enkel filhåndtering\n",
    "from pathlib import Path"
   ]
  },
  {
   "cell_type": "markdown",
   "metadata": {},
   "source": [
    "---\n",
    "\n",
    "### Steg 3: List ut lag fra N50 datasett\n",
    "Vi benytter funksjonen `list_gdb_layers` til å liste ut alle de tilgjengelige lagene som følger med N50 datasettet."
   ]
  },
  {
   "cell_type": "code",
   "execution_count": 3,
   "metadata": {},
   "outputs": [],
   "source": [
    "def list_gdb_layers(gdb_path):\n",
    "    \"\"\"\n",
    "    List alle tilgjengelige lag i en GDB-fil.\n",
    "    \n",
    "    Args:\n",
    "        gdb_path (str): Path til GDB-filen.\n",
    "        \n",
    "    Returns:\n",
    "        list: Liste over lagnavn i GDB-filen.\n",
    "    \"\"\"\n",
    "    try:\n",
    "        layers = fiona.listlayers(str(gdb_path))\n",
    "        print(\"\\nTilgjengelige lag i GDB:\")\n",
    "        for idx, layer in enumerate(layers, 1):\n",
    "            print(f\"{idx}. {layer}\")\n",
    "        return layers\n",
    "    except Exception as e:\n",
    "        print(f\"Feil ved listing av lag: {e}\")\n",
    "        return []"
   ]
  },
  {
   "cell_type": "markdown",
   "metadata": {},
   "source": [
    "La oss kjøre funksjonen og se hvilke lag vi har tilgjengelig, og hvor mange som finnes i datasettet."
   ]
  },
  {
   "cell_type": "code",
   "execution_count": null,
   "metadata": {},
   "outputs": [],
   "source": [
    "# Sett path til GDB-mappen\n",
    "gdb_path = Path(\"data/Basisdata_0000_Norge_25833_N50Kartdata_FGDB.gdb\")\n",
    "\n",
    "if not gdb_path.exists():\n",
    "    print(f\"Feil: Fant ikke GDB-fil på {gdb_path}\")\n",
    "else:\n",
    "    # List ut alle lag i GDB-filen\n",
    "    layers = list_gdb_layers(gdb_path)\n",
    "    print(f\"\\nTotalt antall lag funnet: {len(layers)}\")\n"
   ]
  },
  {
   "cell_type": "markdown",
   "metadata": {},
   "source": [
    "---\n",
    "\n",
    "### Steg 4: Utfør konverteringsoppgave\n",
    "Vi benytter funksjonen `convert_layer_to_fgb` til å konvertere et gdb-lag til en fgb-fil. Her gjennbruker vi `gdb_path` fra tidligere, vi velger hvilket lag vi ønsker å konvertere med `layer_name`, og velger at den ferdige fgb-filen lander i en `output` mappe."
   ]
  },
  {
   "cell_type": "code",
   "execution_count": null,
   "metadata": {},
   "outputs": [],
   "source": [
    "def convert_layer_to_fgb(gdb_path: Path, layer_name: str, output_dir: Path) -> Path:\n",
    "    \"\"\"\n",
    "    Konverter et enkelt lag fra GDB til FlatGeobuf-format.\n",
    "    \n",
    "    Args:\n",
    "        gdb_path (Path): Path til GDB-filen.\n",
    "        layer_name (str): Navn på laget som skal konverteres.\n",
    "        output_dir (Path): Mappe for lagring av resultatet.\n",
    "        \n",
    "    Returns:\n",
    "        Path: Path til opprettet FlatGeobuf-fil.\n",
    "    \"\"\"\n",
    "    try:\n",
    "        output_dir.mkdir(parents=True, exist_ok=True)\n",
    "        output_file = output_dir / f\"{layer_name}.fgb\"\n",
    "        \n",
    "        print(f\"\\nKonverterer lag: {layer_name}\")\n",
    "        print(f\"Leser fra: {gdb_path}\")\n",
    "        print(f\"Skriver til: {output_file}\")\n",
    "        \n",
    "        print(f\"\\nLeser fra GDB... For store lag kan dette ta litt tid.\")\n",
    "        \n",
    "        gdf = gpd.read_file(gdb_path, layer=layer_name, engine=\"pyogrio\")\n",
    "        \n",
    "        # Vis info om laget\n",
    "        print(f\"\\nLaginformasjon:\")\n",
    "        print(f\"Antall objekter: {len(gdf)}\")\n",
    "        print(f\"Geometri-type: {gdf.geometry.type.iloc[0]}\")\n",
    "        print(f\"Koordinatreferansesystem (CRS): {gdf.crs}\")\n",
    "\n",
    "        print(f\"\\nSkriver til FlatGeobuf-format... For store lag kan dette også ta litt tid.\")\n",
    "\n",
    "        gdf.to_file(output_file, driver=\"FlatGeobuf\")\n",
    "        \n",
    "        print(f\"\\nKonvertering fullført!\")\n",
    "        return output_file\n",
    "        \n",
    "    except Exception as e:\n",
    "        print(f\"Feil under konvertering av lag: {e}\")\n",
    "        return None\n"
   ]
  },
  {
   "cell_type": "markdown",
   "metadata": {},
   "source": [
    "La oss kjøre konverteringsfunksjonen. Her har vi tatt utgangspunkt i lage #6 `N50_BygningerOgAnlegg_omrade`, men du kan endre dette til et av de andre lagene fra listen vi fikk tidligere."
   ]
  },
  {
   "cell_type": "code",
   "execution_count": null,
   "metadata": {},
   "outputs": [],
   "source": [
    "# Velg lag som skal konverteres (juster etter behov)\n",
    "layer_name = \"N50_BygningerOgAnlegg_omrade\"\n",
    "\n",
    "# Sett path til output mappen\n",
    "output_dir = Path(\"output\")\n",
    "\n",
    "# Konverter valgt lag til FGB\n",
    "output_file = convert_layer_to_fgb(gdb_path, layer_name, output_dir)\n"
   ]
  },
  {
   "cell_type": "markdown",
   "metadata": {},
   "source": [
    "---\n",
    "\n",
    "### Steg 5: Se resultatet på kartet\n",
    "\n",
    "Gratulerer, du har nå generet en ny FlatGeobuf-fil!\n",
    "\n",
    "La oss sjekke ut resultatet ved å få det opp på kartet. For å spare litt på maskinkraft, tar vi utgangspunkt i å begrense kartvisningen og dataene til et bestemt området, Kristiansand.\n",
    "Her benytter vi funksjonen `visualize_area_on_map` til å laste inn fgb-dataene og leser det ut på et interaktivt kart.\n"
   ]
  },
  {
   "cell_type": "code",
   "execution_count": 19,
   "metadata": {},
   "outputs": [],
   "source": [
    "from shapely.geometry import Point\n",
    "\n",
    "def visualize_area_on_map(fgb_path: Path, center_point: tuple, buffer_km: float = 10):\n",
    "    \"\"\"\n",
    "    Visualiserer et område fra en FlatGeobuf-fil på et interaktivt kart.\n",
    "    \n",
    "    Args:\n",
    "        fgb_path (Path): Path til FlatGeobuf-filen.\n",
    "        center_point (tuple): Tuple med (longitude, latitude) for senterpunktet.\n",
    "        buffer_km (float): Radius i kilometer for området som skal vises (default: 10).\n",
    "        \n",
    "    Returns:\n",
    "        folium.Map: Interaktivt kart med visualiserte data.\n",
    "    \"\"\"\n",
    "    try:\n",
    "        # Les inn data fra FlatGeobuf fil\n",
    "        print(f\"Leser data fra {fgb_path}...\")\n",
    "        gdf = gpd.read_file(fgb_path, driver=\"FlatGeobuf\")\n",
    "        \n",
    "        # Opprett senterpunkt og konverter til riktig CRS\n",
    "        lon, lat = center_point\n",
    "        center_gdf = gpd.GeoDataFrame(\n",
    "            geometry=[Point(lon, lat)], \n",
    "            crs=\"EPSG:4326\"\n",
    "        ).to_crs(gdf.crs)\n",
    "        \n",
    "        # Filtrer data innenfor buffer (konverter km til meter)\n",
    "        buffer_meters = buffer_km * 1000\n",
    "        gdf_filtered = gdf[gdf.intersects(center_gdf.geometry.iloc[0].buffer(buffer_meters))]\n",
    "        gdf_filtered = gdf_filtered.to_crs(\"EPSG:4326\")\n",
    "        bounds = gdf_filtered.total_bounds\n",
    "        \n",
    "        print(f\"Fant {len(gdf_filtered)} objekter i området\")\n",
    "        \n",
    "        # Lag visuelt kart\n",
    "        map = gdf_filtered.explore(\n",
    "            tiles=\"CartoDB.Positron\",\n",
    "            style_kwds={\"color\": \"blue\", \"weight\": 1, \"fillOpacity\": 0.4},\n",
    "            location=[lat, lon],\n",
    "            zoom_start=13,\n",
    "            max_bounds=True,\n",
    "            min_zoom=12,\n",
    "            max_zoom=15,\n",
    "            min_lat=bounds[1] - 0.05,\n",
    "            max_lat=bounds[3] + 0.05,\n",
    "            min_lon=bounds[0] - 0.05,\n",
    "            max_lon=bounds[2] + 0.05,\n",
    "        )\n",
    "        \n",
    "        return map\n",
    "        \n",
    "    except Exception as e:\n",
    "        print(f\"Feil under visualisering av kart: {e}\")\n",
    "        return None"
   ]
  },
  {
   "cell_type": "markdown",
   "metadata": {},
   "source": [
    "Velg hvilke FGB-fil du ønsker å vise på kartet. \n",
    "\n",
    "*OBS. - store filer kan bruke litt tid på å komme opp på kartet*"
   ]
  },
  {
   "cell_type": "code",
   "execution_count": null,
   "metadata": {},
   "outputs": [],
   "source": [
    "# Definer parametre for Kristiansand\n",
    "kristiansand_center = (8.0167, 58.15)  # longitude, latitude\n",
    "# Velg hvilke FGB-fil du ønsker å vise på kartet. \n",
    "fgb_file = Path(\"output/N50_BygningerOgAnlegg_omrade.fgb\")\n",
    "\n",
    "# Kjør funksjonen og vis kartet\n",
    "map = visualize_area_on_map(fgb_file, kristiansand_center)\n",
    "map"
   ]
  },
  {
   "cell_type": "markdown",
   "metadata": {},
   "source": [
    "---\n",
    "\n",
    "## Videre bruk\n",
    "\n",
    "Den konverterte `.fgb`-filen kan nå brukes direkte i f.eks. QGIS, web-apper (MapLibre GL, Deck.gl, etc.), eller enkelt leses inn i Python, JavaScript, eller andre miljøer med støtte for FlatGeobuf.\n",
    "\n",
    "Dette gjør det lettere for utviklere å jobbe med åpne, norske kartdata!\n"
   ]
  }
 ],
 "metadata": {
  "kernelspec": {
   "display_name": ".venv",
   "language": "python",
   "name": "python3"
  },
  "language_info": {
   "codemirror_mode": {
    "name": "ipython",
    "version": 3
   },
   "file_extension": ".py",
   "mimetype": "text/x-python",
   "name": "python",
   "nbconvert_exporter": "python",
   "pygments_lexer": "ipython3",
   "version": "3.13.5"
  }
 },
 "nbformat": 4,
 "nbformat_minor": 2
}
